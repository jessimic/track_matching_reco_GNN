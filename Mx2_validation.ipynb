{
 "cells": [
  {
   "cell_type": "markdown",
   "id": "ba184dfb-e89b-4630-ac8d-452f08c0622e",
   "metadata": {},
   "source": [
    "## Validation Plots"
   ]
  },
  {
   "cell_type": "code",
   "execution_count": 1,
   "id": "15e94ed6-5ff3-451a-a2d3-fbb7270a0dac",
   "metadata": {},
   "outputs": [],
   "source": [
    "import sys\n",
    "\n",
    "SOFTWARE_DIR = '/n/holystore01/LABS/iaifi_lab/Users/jmicallef/spine' # Change this path to your software install\n",
    "DATA_DIR = '/n/holystore01/LABS/iaifi_lab/Users/jmicallef/data_2x2/minerva/larcv/' # Change this path if you are not on SDF (see main README)\n",
    "\n",
    "# Set software directory\n",
    "sys.path.append(SOFTWARE_DIR)"
   ]
  },
  {
   "cell_type": "markdown",
   "id": "0897df7f-3f61-40b8-bb73-9ee222d53fd2",
   "metadata": {},
   "source": [
    "## Import Training log"
   ]
  },
  {
   "cell_type": "code",
   "execution_count": 2,
   "id": "7ea771ab-24e7-40c5-a09a-c366d746d7f1",
   "metadata": {},
   "outputs": [
    {
     "data": {
      "text/html": [
       "<div>\n",
       "<style scoped>\n",
       "    .dataframe tbody tr th:only-of-type {\n",
       "        vertical-align: middle;\n",
       "    }\n",
       "\n",
       "    .dataframe tbody tr th {\n",
       "        vertical-align: top;\n",
       "    }\n",
       "\n",
       "    .dataframe thead th {\n",
       "        text-align: right;\n",
       "    }\n",
       "</style>\n",
       "<table border=\"1\" class=\"dataframe\">\n",
       "  <thead>\n",
       "    <tr style=\"text-align: right;\">\n",
       "      <th></th>\n",
       "      <th>iter</th>\n",
       "      <th>epoch</th>\n",
       "      <th>first_entry</th>\n",
       "      <th>cpu_mem</th>\n",
       "      <th>cpu_mem_perc</th>\n",
       "      <th>gpu_mem</th>\n",
       "      <th>gpu_mem_perc</th>\n",
       "      <th>iteration_time</th>\n",
       "      <th>iteration_time_cpu</th>\n",
       "      <th>iteration_time_sum</th>\n",
       "      <th>...</th>\n",
       "      <th>model_backward_time_sum_cpu</th>\n",
       "      <th>model_save_time</th>\n",
       "      <th>model_save_time_cpu</th>\n",
       "      <th>model_save_time_sum</th>\n",
       "      <th>model_save_time_sum_cpu</th>\n",
       "      <th>edge_accuracy</th>\n",
       "      <th>edge_loss</th>\n",
       "      <th>edge_count</th>\n",
       "      <th>loss</th>\n",
       "      <th>accuracy</th>\n",
       "    </tr>\n",
       "  </thead>\n",
       "  <tbody>\n",
       "    <tr>\n",
       "      <th>0</th>\n",
       "      <td>0</td>\n",
       "      <td>0.002268</td>\n",
       "      <td>7877</td>\n",
       "      <td>21.076996</td>\n",
       "      <td>2.6</td>\n",
       "      <td>0.018738</td>\n",
       "      <td>0.022051</td>\n",
       "      <td>14.137878</td>\n",
       "      <td>13.942940</td>\n",
       "      <td>14.137878</td>\n",
       "      <td>...</td>\n",
       "      <td>0.038464</td>\n",
       "      <td>0.000006</td>\n",
       "      <td>0.000006</td>\n",
       "      <td>0.000006</td>\n",
       "      <td>0.000006</td>\n",
       "      <td>0.340860</td>\n",
       "      <td>0.814629</td>\n",
       "      <td>930</td>\n",
       "      <td>0.814629</td>\n",
       "      <td>0.340860</td>\n",
       "    </tr>\n",
       "    <tr>\n",
       "      <th>1</th>\n",
       "      <td>1</td>\n",
       "      <td>0.004535</td>\n",
       "      <td>13605</td>\n",
       "      <td>21.077365</td>\n",
       "      <td>2.6</td>\n",
       "      <td>0.018738</td>\n",
       "      <td>0.022051</td>\n",
       "      <td>0.231464</td>\n",
       "      <td>0.187155</td>\n",
       "      <td>14.369342</td>\n",
       "      <td>...</td>\n",
       "      <td>0.046243</td>\n",
       "      <td>0.000006</td>\n",
       "      <td>0.000006</td>\n",
       "      <td>0.000012</td>\n",
       "      <td>0.000012</td>\n",
       "      <td>0.361570</td>\n",
       "      <td>0.766734</td>\n",
       "      <td>484</td>\n",
       "      <td>0.766734</td>\n",
       "      <td>0.361570</td>\n",
       "    </tr>\n",
       "    <tr>\n",
       "      <th>2</th>\n",
       "      <td>2</td>\n",
       "      <td>0.006803</td>\n",
       "      <td>9381</td>\n",
       "      <td>21.077529</td>\n",
       "      <td>2.6</td>\n",
       "      <td>0.018738</td>\n",
       "      <td>0.022051</td>\n",
       "      <td>0.139584</td>\n",
       "      <td>0.138332</td>\n",
       "      <td>14.508926</td>\n",
       "      <td>...</td>\n",
       "      <td>0.053929</td>\n",
       "      <td>0.000005</td>\n",
       "      <td>0.000005</td>\n",
       "      <td>0.000017</td>\n",
       "      <td>0.000017</td>\n",
       "      <td>0.414747</td>\n",
       "      <td>0.731362</td>\n",
       "      <td>434</td>\n",
       "      <td>0.731362</td>\n",
       "      <td>0.414747</td>\n",
       "    </tr>\n",
       "    <tr>\n",
       "      <th>3</th>\n",
       "      <td>3</td>\n",
       "      <td>0.009070</td>\n",
       "      <td>997</td>\n",
       "      <td>21.077303</td>\n",
       "      <td>2.6</td>\n",
       "      <td>0.018738</td>\n",
       "      <td>0.022051</td>\n",
       "      <td>0.172460</td>\n",
       "      <td>0.170241</td>\n",
       "      <td>14.681386</td>\n",
       "      <td>...</td>\n",
       "      <td>0.062104</td>\n",
       "      <td>0.000005</td>\n",
       "      <td>0.000005</td>\n",
       "      <td>0.000023</td>\n",
       "      <td>0.000022</td>\n",
       "      <td>0.446128</td>\n",
       "      <td>0.710662</td>\n",
       "      <td>594</td>\n",
       "      <td>0.710662</td>\n",
       "      <td>0.446128</td>\n",
       "    </tr>\n",
       "    <tr>\n",
       "      <th>4</th>\n",
       "      <td>4</td>\n",
       "      <td>0.011338</td>\n",
       "      <td>11493</td>\n",
       "      <td>21.078139</td>\n",
       "      <td>2.6</td>\n",
       "      <td>0.018738</td>\n",
       "      <td>0.022051</td>\n",
       "      <td>0.168990</td>\n",
       "      <td>0.167607</td>\n",
       "      <td>14.850375</td>\n",
       "      <td>...</td>\n",
       "      <td>0.070220</td>\n",
       "      <td>0.000005</td>\n",
       "      <td>0.000005</td>\n",
       "      <td>0.000028</td>\n",
       "      <td>0.000027</td>\n",
       "      <td>0.509740</td>\n",
       "      <td>0.687669</td>\n",
       "      <td>616</td>\n",
       "      <td>0.687669</td>\n",
       "      <td>0.509740</td>\n",
       "    </tr>\n",
       "    <tr>\n",
       "      <th>...</th>\n",
       "      <td>...</td>\n",
       "      <td>...</td>\n",
       "      <td>...</td>\n",
       "      <td>...</td>\n",
       "      <td>...</td>\n",
       "      <td>...</td>\n",
       "      <td>...</td>\n",
       "      <td>...</td>\n",
       "      <td>...</td>\n",
       "      <td>...</td>\n",
       "      <td>...</td>\n",
       "      <td>...</td>\n",
       "      <td>...</td>\n",
       "      <td>...</td>\n",
       "      <td>...</td>\n",
       "      <td>...</td>\n",
       "      <td>...</td>\n",
       "      <td>...</td>\n",
       "      <td>...</td>\n",
       "      <td>...</td>\n",
       "      <td>...</td>\n",
       "    </tr>\n",
       "    <tr>\n",
       "      <th>1759</th>\n",
       "      <td>1759</td>\n",
       "      <td>3.990930</td>\n",
       "      <td>11320</td>\n",
       "      <td>21.022114</td>\n",
       "      <td>2.6</td>\n",
       "      <td>0.022072</td>\n",
       "      <td>0.025975</td>\n",
       "      <td>0.140981</td>\n",
       "      <td>0.140102</td>\n",
       "      <td>300.022043</td>\n",
       "      <td>...</td>\n",
       "      <td>14.157570</td>\n",
       "      <td>0.000005</td>\n",
       "      <td>0.000005</td>\n",
       "      <td>0.396518</td>\n",
       "      <td>0.376707</td>\n",
       "      <td>0.987552</td>\n",
       "      <td>0.048543</td>\n",
       "      <td>482</td>\n",
       "      <td>0.048543</td>\n",
       "      <td>0.987552</td>\n",
       "    </tr>\n",
       "    <tr>\n",
       "      <th>1760</th>\n",
       "      <td>1760</td>\n",
       "      <td>3.993197</td>\n",
       "      <td>10104</td>\n",
       "      <td>21.022015</td>\n",
       "      <td>2.6</td>\n",
       "      <td>0.022072</td>\n",
       "      <td>0.025975</td>\n",
       "      <td>0.172932</td>\n",
       "      <td>0.171772</td>\n",
       "      <td>300.194974</td>\n",
       "      <td>...</td>\n",
       "      <td>14.165724</td>\n",
       "      <td>0.000005</td>\n",
       "      <td>0.000005</td>\n",
       "      <td>0.396523</td>\n",
       "      <td>0.376712</td>\n",
       "      <td>0.985484</td>\n",
       "      <td>0.026075</td>\n",
       "      <td>620</td>\n",
       "      <td>0.026075</td>\n",
       "      <td>0.985484</td>\n",
       "    </tr>\n",
       "    <tr>\n",
       "      <th>1761</th>\n",
       "      <td>1761</td>\n",
       "      <td>3.995465</td>\n",
       "      <td>11384</td>\n",
       "      <td>21.022081</td>\n",
       "      <td>2.6</td>\n",
       "      <td>0.022072</td>\n",
       "      <td>0.025975</td>\n",
       "      <td>0.173679</td>\n",
       "      <td>0.172491</td>\n",
       "      <td>300.368654</td>\n",
       "      <td>...</td>\n",
       "      <td>14.173920</td>\n",
       "      <td>0.000005</td>\n",
       "      <td>0.000005</td>\n",
       "      <td>0.396528</td>\n",
       "      <td>0.376718</td>\n",
       "      <td>0.995327</td>\n",
       "      <td>0.013984</td>\n",
       "      <td>642</td>\n",
       "      <td>0.013984</td>\n",
       "      <td>0.995327</td>\n",
       "    </tr>\n",
       "    <tr>\n",
       "      <th>1762</th>\n",
       "      <td>1762</td>\n",
       "      <td>3.997732</td>\n",
       "      <td>3320</td>\n",
       "      <td>21.021848</td>\n",
       "      <td>2.6</td>\n",
       "      <td>0.022072</td>\n",
       "      <td>0.025975</td>\n",
       "      <td>0.159607</td>\n",
       "      <td>0.158688</td>\n",
       "      <td>300.528261</td>\n",
       "      <td>...</td>\n",
       "      <td>14.182076</td>\n",
       "      <td>0.000005</td>\n",
       "      <td>0.000005</td>\n",
       "      <td>0.396533</td>\n",
       "      <td>0.376723</td>\n",
       "      <td>0.981949</td>\n",
       "      <td>0.036592</td>\n",
       "      <td>554</td>\n",
       "      <td>0.036592</td>\n",
       "      <td>0.981949</td>\n",
       "    </tr>\n",
       "    <tr>\n",
       "      <th>1763</th>\n",
       "      <td>1763</td>\n",
       "      <td>4.000000</td>\n",
       "      <td>2520</td>\n",
       "      <td>21.021782</td>\n",
       "      <td>2.6</td>\n",
       "      <td>0.022072</td>\n",
       "      <td>0.025975</td>\n",
       "      <td>0.180871</td>\n",
       "      <td>0.179785</td>\n",
       "      <td>300.709132</td>\n",
       "      <td>...</td>\n",
       "      <td>14.190258</td>\n",
       "      <td>0.000005</td>\n",
       "      <td>0.000005</td>\n",
       "      <td>0.396538</td>\n",
       "      <td>0.376728</td>\n",
       "      <td>1.000000</td>\n",
       "      <td>0.001757</td>\n",
       "      <td>696</td>\n",
       "      <td>0.001757</td>\n",
       "      <td>1.000000</td>\n",
       "    </tr>\n",
       "  </tbody>\n",
       "</table>\n",
       "<p>1764 rows × 36 columns</p>\n",
       "</div>"
      ],
      "text/plain": [
       "      iter     epoch  first_entry    cpu_mem  cpu_mem_perc   gpu_mem  \\\n",
       "0        0  0.002268         7877  21.076996           2.6  0.018738   \n",
       "1        1  0.004535        13605  21.077365           2.6  0.018738   \n",
       "2        2  0.006803         9381  21.077529           2.6  0.018738   \n",
       "3        3  0.009070          997  21.077303           2.6  0.018738   \n",
       "4        4  0.011338        11493  21.078139           2.6  0.018738   \n",
       "...    ...       ...          ...        ...           ...       ...   \n",
       "1759  1759  3.990930        11320  21.022114           2.6  0.022072   \n",
       "1760  1760  3.993197        10104  21.022015           2.6  0.022072   \n",
       "1761  1761  3.995465        11384  21.022081           2.6  0.022072   \n",
       "1762  1762  3.997732         3320  21.021848           2.6  0.022072   \n",
       "1763  1763  4.000000         2520  21.021782           2.6  0.022072   \n",
       "\n",
       "      gpu_mem_perc  iteration_time  iteration_time_cpu  iteration_time_sum  \\\n",
       "0         0.022051       14.137878           13.942940           14.137878   \n",
       "1         0.022051        0.231464            0.187155           14.369342   \n",
       "2         0.022051        0.139584            0.138332           14.508926   \n",
       "3         0.022051        0.172460            0.170241           14.681386   \n",
       "4         0.022051        0.168990            0.167607           14.850375   \n",
       "...            ...             ...                 ...                 ...   \n",
       "1759      0.025975        0.140981            0.140102          300.022043   \n",
       "1760      0.025975        0.172932            0.171772          300.194974   \n",
       "1761      0.025975        0.173679            0.172491          300.368654   \n",
       "1762      0.025975        0.159607            0.158688          300.528261   \n",
       "1763      0.025975        0.180871            0.179785          300.709132   \n",
       "\n",
       "      ...  model_backward_time_sum_cpu  model_save_time  model_save_time_cpu  \\\n",
       "0     ...                     0.038464         0.000006             0.000006   \n",
       "1     ...                     0.046243         0.000006             0.000006   \n",
       "2     ...                     0.053929         0.000005             0.000005   \n",
       "3     ...                     0.062104         0.000005             0.000005   \n",
       "4     ...                     0.070220         0.000005             0.000005   \n",
       "...   ...                          ...              ...                  ...   \n",
       "1759  ...                    14.157570         0.000005             0.000005   \n",
       "1760  ...                    14.165724         0.000005             0.000005   \n",
       "1761  ...                    14.173920         0.000005             0.000005   \n",
       "1762  ...                    14.182076         0.000005             0.000005   \n",
       "1763  ...                    14.190258         0.000005             0.000005   \n",
       "\n",
       "      model_save_time_sum  model_save_time_sum_cpu  edge_accuracy  edge_loss  \\\n",
       "0                0.000006                 0.000006       0.340860   0.814629   \n",
       "1                0.000012                 0.000012       0.361570   0.766734   \n",
       "2                0.000017                 0.000017       0.414747   0.731362   \n",
       "3                0.000023                 0.000022       0.446128   0.710662   \n",
       "4                0.000028                 0.000027       0.509740   0.687669   \n",
       "...                   ...                      ...            ...        ...   \n",
       "1759             0.396518                 0.376707       0.987552   0.048543   \n",
       "1760             0.396523                 0.376712       0.985484   0.026075   \n",
       "1761             0.396528                 0.376718       0.995327   0.013984   \n",
       "1762             0.396533                 0.376723       0.981949   0.036592   \n",
       "1763             0.396538                 0.376728       1.000000   0.001757   \n",
       "\n",
       "      edge_count      loss  accuracy  \n",
       "0            930  0.814629  0.340860  \n",
       "1            484  0.766734  0.361570  \n",
       "2            434  0.731362  0.414747  \n",
       "3            594  0.710662  0.446128  \n",
       "4            616  0.687669  0.509740  \n",
       "...          ...       ...       ...  \n",
       "1759         482  0.048543  0.987552  \n",
       "1760         620  0.026075  0.985484  \n",
       "1761         642  0.013984  0.995327  \n",
       "1762         554  0.036592  0.981949  \n",
       "1763         696  0.001757  1.000000  \n",
       "\n",
       "[1764 rows x 36 columns]"
      ]
     },
     "execution_count": 2,
     "metadata": {},
     "output_type": "execute_result"
    }
   ],
   "source": [
    "import pandas as pd\n",
    "\n",
    "path = '/n/holystore01/LABS/iaifi_lab/Users/jmicallef/logs/grappa/train_log-0000000.csv' # Adapt path name\n",
    "df = pd.read_csv(path)\n",
    "df"
   ]
  },
  {
   "cell_type": "markdown",
   "id": "9fc1519d-7b22-4b96-a08c-1ee57f858d36",
   "metadata": {},
   "source": [
    "Let's take look at the keys, specifically:"
   ]
  },
  {
   "cell_type": "code",
   "execution_count": 3,
   "id": "000ee906-c14a-4c19-81a4-1836a4da8ccf",
   "metadata": {},
   "outputs": [
    {
     "data": {
      "text/plain": [
       "<AxesSubplot: xlabel='iter'>"
      ]
     },
     "execution_count": 3,
     "metadata": {},
     "output_type": "execute_result"
    },
    {
     "data": {
      "image/png": "[encoded data removed]",
      "text/plain": [
       "<Figure size 640x480 with 1 Axes>"
      ]
     },
     "metadata": {},
     "output_type": "display_data"
    }
   ],
   "source": [
    "df.plot('iter', ['iteration_time', 'load_time', 'model_save_time'], ylim=[0,1.0], grid=True) #seconds"
   ]
  },
  {
   "cell_type": "code",
   "execution_count": 4,
   "id": "d334b01e-a8fc-4ac0-ba35-6292ee6d9103",
   "metadata": {},
   "outputs": [
    {
     "data": {
      "text/plain": [
       "<AxesSubplot: xlabel='iter'>"
      ]
     },
     "execution_count": 4,
     "metadata": {},
     "output_type": "execute_result"
    },
    {
     "data": {
      "image/png": "[encoded data removed]",
      "text/plain": [
       "<Figure size 640x480 with 1 Axes>"
      ]
     },
     "metadata": {},
     "output_type": "display_data"
    }
   ],
   "source": [
    "df.plot('iter', 'gpu_mem', grid=True)"
   ]
  },
  {
   "cell_type": "markdown",
   "id": "34db17d5-0413-4ee0-ba4f-56cf12759f0b",
   "metadata": {},
   "source": [
    "## Validation"
   ]
  },
  {
   "cell_type": "code",
   "execution_count": 5,
   "id": "0652b1c5-60e2-4960-b53b-cf9a0bc5477b",
   "metadata": {},
   "outputs": [
    {
     "name": "stdout",
     "output_type": "stream",
     "text": [
      "['logs/grappa/inference_log-0001200.csv', 'logs/grappa/inference_log-0000500.csv', 'logs/grappa/inference_log-0001300.csv', 'logs/grappa/inference_log-0000300.csv', 'logs/grappa/inference_log-0001500.csv', 'logs/grappa/inference_log-0001000.csv', 'logs/grappa/inference_log-0001700.csv', 'logs/grappa/inference_log-0000800.csv', 'logs/grappa/inference_log-0001100.csv', 'logs/grappa/inference_log-0000700.csv', 'logs/grappa/inference_log-0000600.csv', 'logs/grappa/inference_log-0000200.csv', 'logs/grappa/inference_log-0000400.csv', 'logs/grappa/inference_log-0000100.csv', 'logs/grappa/inference_log-0001600.csv', 'logs/grappa/inference_log-0000900.csv', 'logs/grappa/inference_log-0001400.csv']\n"
     ]
    }
   ],
   "source": [
    "import glob\n",
    "\n",
    "val_files = glob.glob('logs/grappa/inference*')\n",
    "print(val_files)"
   ]
  },
  {
   "cell_type": "code",
   "execution_count": 6,
   "id": "3873871b-53ee-4129-b05a-c0c7df800503",
   "metadata": {},
   "outputs": [
    {
     "name": "stdout",
     "output_type": "stream",
     "text": [
      "[1200, 500, 1300, 300, 1500, 1000, 1700, 800, 1100, 700, 600, 200, 400, 100, 1600, 900, 1400] [2.722631877481566, 1.1344299489506524, 2.9495178672716964, 0.6806579693703915, 3.403289846851957, 2.268859897901305, 3.857061826432218, 1.8150879183210438, 2.4957458876914353, 1.5882019285309132, 1.361315938740783, 0.45377197958026094, 0.9075439591605219, 0.22688598979013047, 3.6301758366420875, 2.0419739081111743, 3.1764038570618265]\n",
      "[0.022773077187104848, 0.03000592663414584, 0.01836426241691181, 0.03565824400445739, 0.018534293205539863, 0.01858018344060803, 0.014940567717186971, 0.0205490176982692, 0.0180804445613723, 0.02474231104084732, 0.02575304287978827, 0.04853382019498264, 0.030809534697973383, 0.10567077424596334, 0.015644809676768574, 0.021911171153422494, 0.01682621787180884]\n"
     ]
    }
   ],
   "source": [
    "iterations = [int(f.split('-')[-1][:7]) for f in val_files]\n",
    "epochs = [(4/1763.)*i for i in iterations]\n",
    "losses = [pd.read_csv(f).loss.mean() for f in val_files]\n",
    "stds = [pd.read_csv(f).loss.std() for f in val_files]\n",
    "accuracys = [pd.read_csv(f).accuracy.mean() for f in val_files]\n",
    "astds = [pd.read_csv(f).accuracy.std() for f in val_files]\n",
    "print(iterations, epochs)\n",
    "print(losses)"
   ]
  },
  {
   "cell_type": "code",
   "execution_count": 7,
   "id": "dc7ff882-da30-4b1f-ac67-b2b83990e785",
   "metadata": {},
   "outputs": [
    {
     "name": "stdout",
     "output_type": "stream",
     "text": [
      "0.014940567717186971 0.9951174158733143 6 6 3.857061826432218\n"
     ]
    }
   ],
   "source": [
    "import numpy as np\n",
    "print(min(losses), max(accuracys),np.argmin(losses),np.argmax(accuracys),epochs[np.argmax(accuracys)])"
   ]
  },
  {
   "cell_type": "code",
   "execution_count": 8,
   "id": "af5a9fc4-9433-4eaa-8094-ab585f08ec0d",
   "metadata": {
    "tags": []
   },
   "outputs": [
    {
     "data": {
      "image/png": "[encoded data removed]",
      "text/plain": [
       "<Figure size 640x480 with 1 Axes>"
      ]
     },
     "metadata": {},
     "output_type": "display_data"
    }
   ],
   "source": [
    "from matplotlib import pyplot as plt\n",
    "\n",
    "df.plot('epoch', 'loss', ylim=[0,0.4], grid=True,label=\"training\",alpha=0.5)\n",
    "plt.errorbar(epochs, losses, yerr=stds, fmt='o', color=\"red\",alpha=0.5, label='validation')\n",
    "plt.legend(fontsize=14)\n",
    "plt.ylabel(\"binary cross-entropy edge loss\",fontsize=14)\n",
    "plt.xlabel(\"epoch\",fontsize=14)\n",
    "plt.text(1.4, .13, 'DUNE Work In Progress', fontsize=16, color='red')\n",
    "plt.tick_params(axis='x', labelsize=14)\n",
    "plt.tick_params(axis='y', labelsize=14)\n",
    "plt.savefig(\"plots/loss_\"+str(max(epochs))+\".png\",dpi=300,bbox_inches=\"tight\")"
   ]
  },
  {
   "cell_type": "code",
   "execution_count": 9,
   "id": "a06c8459-61c5-4bdf-8ec0-a1fc2a6dc0c9",
   "metadata": {},
   "outputs": [
    {
     "data": {
      "image/png": "[encoded data removed]",
      "text/plain": [
       "<Figure size 640x480 with 1 Axes>"
      ]
     },
     "metadata": {},
     "output_type": "display_data"
    }
   ],
   "source": [
    "df.plot('epoch', 'accuracy', ylim=[0.8,1.01], grid=True,label=\"training\",alpha=0.5)\n",
    "plt.errorbar(epochs, accuracys, yerr=astds, fmt='o', color=\"red\",alpha=0.5, label='validation')\n",
    "plt.legend(fontsize=14)\n",
    "plt.ylabel(\"accuracy of edge connections\",fontsize=14)\n",
    "plt.xlabel(\"epoch\",fontsize=14)\n",
    "plt.text(1.5, .91, 'DUNE Work In Progress', fontsize=16, color='red')\n",
    "plt.tick_params(axis='x', labelsize=14)\n",
    "plt.tick_params(axis='y', labelsize=14)\n",
    "plt.savefig(\"plots/accuracy_\"+str(max(epochs))+\".png\",dpi=300,bbox_inches=\"tight\")"
   ]
  },
  {
   "cell_type": "markdown",
   "id": "0bf06cca-2445-4582-a428-e7996db3d65d",
   "metadata": {},
   "source": [
    "## Write h5 output"
   ]
  },
  {
   "cell_type": "code",
   "execution_count": 2,
   "id": "f43d8809-7a12-40ab-9d12-d6124991c51b",
   "metadata": {
    "tags": []
   },
   "outputs": [
    {
     "name": "stdout",
     "output_type": "stream",
     "text": [
      "Welcome to JupyROOT 6.22/08\n",
      "\n",
      " ██████████   ██████████    ███   ███       ██   ███████████\n",
      "███        █  ██       ███   █    █████     ██   ██         \n",
      "  ████████    ██       ███  ███   ██  ████  ██   ██████████ \n",
      "█        ███  ██████████     █    ██     █████   ██         \n",
      " ██████████   ██            ███   ██       ███   ███████████\n",
      "\n",
      "Release version: 0.1.0\n",
      "\n",
      "$CUDA_VISIBLE_DEVICES=\n",
      "\n",
      "Configuration processed at: Linux holygpu8a29104.rc.fas.harvard.edu 4.18.0-513.18.1.el8_9.x86_64 #1 SMP Wed Feb 21 21:34:36 UTC 2024 x86_64 x86_64 x86_64 GNU/Linux\n",
      "\n",
      "base: {world_size: 0, epochs: 1, seed: 1, unwrap: true, log_dir: /n/holystore01/LABS/iaifi_lab/Users/jmicallef/logs/grappa/,\n",
      "  log_step: 1, overwrite_log: true}\n",
      "io:\n",
      "  loader:\n",
      "    batch_size: 32\n",
      "    shuffle: false\n",
      "    num_workers: 0\n",
      "    collate_fn: all\n",
      "    dataset:\n",
      "      name: larcv\n",
      "      file_keys: /n/holystore01/LABS/iaifi_lab/Users/jmicallef/data_2x2/minerva/larcv/validation_set/*\n",
      "      schema:\n",
      "        data: {parser: cluster3d, cluster_event: cluster3d_pcluster, particle_event: particle_corrected,\n",
      "          add_particle_info: true, clean_data: true, break_clusters: false}\n",
      "        coord_label: {parser: particle_coords, particle_event: particle_corrected,\n",
      "          cluster_event: cluster3d_pcluster}\n",
      "  writer: {name: hdf5, file_name: tester.h5, overwrite: true}\n",
      "model:\n",
      "  name: grappa\n",
      "  weight_path: /n/holystore01/LABS/iaifi_lab/Users/jmicallef/logs/weights/snapshot-1699.ckpt\n",
      "  to_numpy: true\n",
      "  network_input: {data: data, coord_label: coord_label}\n",
      "  loss_input: {clust_label: data}\n",
      "  modules:\n",
      "    grappa:\n",
      "      nodes:\n",
      "        source: cluster\n",
      "        shapes: [track]\n",
      "        min_size: -1\n",
      "        make_groups: true\n",
      "        grouping_method: score\n",
      "      graph: {name: complete, max_length: null, dist_algorithm: recursive}\n",
      "      node_encoder: {name: geo, use_numpy: false, add_value: false, add_shape: false,\n",
      "        add_points: false, add_local_dirs: false, dir_max_dist: 5, add_local_dedxs: false,\n",
      "        dedx_max_dist: 5}\n",
      "      edge_encoder: {name: geo, use_numpy: false}\n",
      "      gnn_model:\n",
      "        name: meta\n",
      "        node_feats: 16\n",
      "        edge_feats: 19\n",
      "        node_pred: 2\n",
      "        edge_pred: 2\n",
      "        edge_layer:\n",
      "          name: mlp\n",
      "          mlp:\n",
      "            depth: 3\n",
      "            width: 64\n",
      "            activation: {name: lrelu, negative_slope: 0.1}\n",
      "            normalization: batch_norm\n",
      "        node_layer:\n",
      "          name: mlp\n",
      "          reduction: max\n",
      "          attention: false\n",
      "          message_mlp:\n",
      "            depth: 3\n",
      "            width: 64\n",
      "            activation: {name: lrelu, negative_slope: 0.1}\n",
      "            normalization: batch_norm\n",
      "          aggr_mlp:\n",
      "            depth: 3\n",
      "            width: 64\n",
      "            activation: {name: lrelu, negative_slope: 0.1}\n",
      "            normalization: batch_norm\n",
      "    grappa_loss:\n",
      "      edge_loss: {name: channel, target: group}\n",
      "\n",
      "Will load 19 file(s):\n",
      "  - /n/holystore01/LABS/iaifi_lab/Users/jmicallef/data_2x2/minerva/larcv/validation_set/out_MiniRun5_1E19_RHC.minerva.0000100.dst.root\n",
      "  - /n/holystore01/LABS/iaifi_lab/Users/jmicallef/data_2x2/minerva/larcv/validation_set/out_MiniRun5_1E19_RHC.minerva.0000109.dst.root\n",
      "  - /n/holystore01/LABS/iaifi_lab/Users/jmicallef/data_2x2/minerva/larcv/validation_set/out_MiniRun5_1E19_RHC.minerva.0000118.dst.root\n",
      "  - /n/holystore01/LABS/iaifi_lab/Users/jmicallef/data_2x2/minerva/larcv/validation_set/out_MiniRun5_1E19_RHC.minerva.0000122.dst.root\n",
      "  - /n/holystore01/LABS/iaifi_lab/Users/jmicallef/data_2x2/minerva/larcv/validation_set/out_MiniRun5_1E19_RHC.minerva.0000125.dst.root\n",
      "  - /n/holystore01/LABS/iaifi_lab/Users/jmicallef/data_2x2/minerva/larcv/validation_set/out_MiniRun5_1E19_RHC.minerva.0000129.dst.root\n",
      "  - /n/holystore01/LABS/iaifi_lab/Users/jmicallef/data_2x2/minerva/larcv/validation_set/out_MiniRun5_1E19_RHC.minerva.0000131.dst.root\n",
      "  - /n/holystore01/LABS/iaifi_lab/Users/jmicallef/data_2x2/minerva/larcv/validation_set/out_MiniRun5_1E19_RHC.minerva.0000135.dst.root\n",
      "  - /n/holystore01/LABS/iaifi_lab/Users/jmicallef/data_2x2/minerva/larcv/validation_set/out_MiniRun5_1E19_RHC.minerva.0000143.dst.root\n",
      "  - /n/holystore01/LABS/iaifi_lab/Users/jmicallef/data_2x2/minerva/larcv/validation_set/out_MiniRun5_1E19_RHC.minerva.0000146.dst.root\n",
      "  ...\n",
      "\n",
      "Loading tree particle_corrected\n",
      "Loading tree cluster3d_pcluster\n",
      "\n",
      "Total number of entries in the file(s): 3781\n",
      "\n",
      "Total number of entries selected: 3781\n",
      "\n",
      "Restoring weights for module grappa from /n/holystore01/LABS/iaifi_lab/Users/jmicallef/logs/weights/snapshot-1699.ckpt...\n",
      "Done.\n"
     ]
    }
   ],
   "source": [
    "import yaml\n",
    "from spine.driver import Driver\n",
    "\n",
    "# Load configuration file of the ML chain\n",
    "cfg_path = '/n/holystore01/LABS/iaifi_lab/Users/jmicallef/configs/validation_grappa_writer.cfg'\n",
    "cfg = yaml.load(open(cfg_path, 'r'), Loader=yaml.Loader)\n",
    "\n",
    "driver = Driver(cfg)"
   ]
  },
  {
   "cell_type": "code",
   "execution_count": 5,
   "id": "0fabd5de-ce74-4195-8052-0ba52e2885cd",
   "metadata": {
    "tags": []
   },
   "outputs": [
    {
     "name": "stdout",
     "output_type": "stream",
     "text": [
      "Calling function for loss key: edge_loss\n"
     ]
    }
   ],
   "source": [
    "data = driver.process()"
   ]
  },
  {
   "cell_type": "code",
   "execution_count": 59,
   "id": "918a9342-ea7e-42d2-bbfb-8c0fcb646f52",
   "metadata": {},
   "outputs": [
    {
     "data": {
      "text/plain": [
       "array([1080., 1000., 3100.], dtype=float32)"
      ]
     },
     "execution_count": 59,
     "metadata": {},
     "output_type": "execute_result"
    }
   ],
   "source": [
    "data['meta'][3].upper"
   ]
  },
  {
   "cell_type": "code",
   "execution_count": 3,
   "id": "1550aeef-f795-4ad3-8f7e-b38396b854bd",
   "metadata": {
    "collapsed": true,
    "jupyter": {
     "outputs_hidden": true
    },
    "tags": []
   },
   "outputs": [
    {
     "name": "stdout",
     "output_type": "stream",
     "text": [
      "Calling function for loss key: edge_loss\n",
      "Iter. 0 (epoch 0.008) @ 2024-08-12 18:44:25\n",
      "  | Inference time      | CPU memory          | Loss     | Accuracy |\n",
      "  |---------------------+---------------------+----------+----------|\n",
      "  | 0.47 s (58.53 %)    | 21.88 GB (5.40 %)   | 0.013    | 0.996    |\n",
      "\n",
      "Calling function for loss key: edge_loss\n",
      "Iter. 1 (epoch 0.017) @ 2024-08-12 18:44:26\n",
      "  | Inference time      | CPU memory          | Loss     | Accuracy |\n",
      "  |---------------------+---------------------+----------+----------|\n",
      "  | 0.07 s (27.25 %)    | 23.04 GB (5.60 %)   | 0.003    | 1.000    |\n",
      "\n",
      "Calling function for loss key: edge_loss\n",
      "Iter. 2 (epoch 0.025) @ 2024-08-12 18:44:26\n",
      "  | Inference time      | CPU memory          | Loss     | Accuracy |\n",
      "  |---------------------+---------------------+----------+----------|\n",
      "  | 0.07 s (26.39 %)    | 21.88 GB (5.40 %)   | 0.005    | 0.998    |\n",
      "\n",
      "Calling function for loss key: edge_loss\n",
      "Iter. 3 (epoch 0.034) @ 2024-08-12 18:44:26\n",
      "  | Inference time      | CPU memory          | Loss     | Accuracy |\n",
      "  |---------------------+---------------------+----------+----------|\n",
      "  | 0.09 s (31.02 %)    | 23.02 GB (5.60 %)   | 0.005    | 0.999    |\n",
      "\n",
      "Calling function for loss key: edge_loss\n",
      "Iter. 4 (epoch 0.042) @ 2024-08-12 18:44:27\n",
      "  | Inference time      | CPU memory          | Loss     | Accuracy |\n",
      "  |---------------------+---------------------+----------+----------|\n",
      "  | 0.08 s (26.69 %)    | 21.89 GB (5.40 %)   | 0.004    | 0.998    |\n",
      "\n",
      "Calling function for loss key: edge_loss\n",
      "Iter. 5 (epoch 0.050) @ 2024-08-12 18:44:27\n",
      "  | Inference time      | CPU memory          | Loss     | Accuracy |\n",
      "  |---------------------+---------------------+----------+----------|\n",
      "  | 0.10 s (32.43 %)    | 23.15 GB (5.60 %)   | 0.009    | 0.997    |\n",
      "\n",
      "Calling function for loss key: edge_loss\n",
      "Iter. 6 (epoch 0.059) @ 2024-08-12 18:44:27\n",
      "  | Inference time      | CPU memory          | Loss     | Accuracy |\n",
      "  |---------------------+---------------------+----------+----------|\n",
      "  | 0.07 s (29.62 %)    | 21.89 GB (5.40 %)   | 0.011    | 0.997    |\n",
      "\n",
      "Calling function for loss key: edge_loss\n",
      "Iter. 7 (epoch 0.067) @ 2024-08-12 18:44:28\n",
      "  | Inference time      | CPU memory          | Loss     | Accuracy |\n",
      "  |---------------------+---------------------+----------+----------|\n",
      "  | 0.04 s (22.33 %)    | 22.38 GB (5.50 %)   | 0.003    | 1.000    |\n",
      "\n",
      "Calling function for loss key: edge_loss\n",
      "Iter. 8 (epoch 0.076) @ 2024-08-12 18:44:28\n",
      "  | Inference time      | CPU memory          | Loss     | Accuracy |\n",
      "  |---------------------+---------------------+----------+----------|\n",
      "  | 0.05 s (23.49 %)    | 23.37 GB (5.70 %)   | 0.011    | 0.995    |\n",
      "\n",
      "Calling function for loss key: edge_loss\n",
      "Iter. 9 (epoch 0.084) @ 2024-08-12 18:44:28\n",
      "  | Inference time      | CPU memory          | Loss     | Accuracy |\n",
      "  |---------------------+---------------------+----------+----------|\n",
      "  | 0.07 s (29.15 %)    | 21.89 GB (5.40 %)   | 0.058    | 0.982    |\n",
      "\n",
      "Calling function for loss key: edge_loss\n",
      "Iter. 10 (epoch 0.092) @ 2024-08-12 18:44:28\n",
      "  | Inference time      | CPU memory          | Loss     | Accuracy |\n",
      "  |---------------------+---------------------+----------+----------|\n",
      "  | 0.06 s (28.41 %)    | 22.98 GB (5.60 %)   | 0.011    | 0.997    |\n",
      "\n",
      "Calling function for loss key: edge_loss\n",
      "Iter. 11 (epoch 0.101) @ 2024-08-12 18:44:28\n",
      "  | Inference time      | CPU memory          | Loss     | Accuracy |\n",
      "  |---------------------+---------------------+----------+----------|\n",
      "  | 0.06 s (26.84 %)    | 21.89 GB (5.40 %)   | 0.026    | 0.996    |\n",
      "\n",
      "Calling function for loss key: edge_loss\n",
      "Iter. 12 (epoch 0.109) @ 2024-08-12 18:44:29\n",
      "  | Inference time      | CPU memory          | Loss     | Accuracy |\n",
      "  |---------------------+---------------------+----------+----------|\n",
      "  | 0.06 s (27.10 %)    | 22.20 GB (5.40 %)   | 0.002    | 1.000    |\n",
      "\n",
      "Calling function for loss key: edge_loss\n",
      "Iter. 13 (epoch 0.118) @ 2024-08-12 18:44:29\n",
      "  | Inference time      | CPU memory          | Loss     | Accuracy |\n",
      "  |---------------------+---------------------+----------+----------|\n",
      "  | 0.07 s (30.20 %)    | 23.37 GB (5.70 %)   | 0.017    | 0.995    |\n",
      "\n",
      "Calling function for loss key: edge_loss\n",
      "Iter. 14 (epoch 0.126) @ 2024-08-12 18:44:29\n",
      "  | Inference time      | CPU memory          | Loss     | Accuracy |\n",
      "  |---------------------+---------------------+----------+----------|\n",
      "  | 0.06 s (28.36 %)    | 21.89 GB (5.40 %)   | 0.026    | 0.987    |\n",
      "\n",
      "Calling function for loss key: edge_loss\n",
      "Iter. 15 (epoch 0.134) @ 2024-08-12 18:44:29\n",
      "  | Inference time      | CPU memory          | Loss     | Accuracy |\n",
      "  |---------------------+---------------------+----------+----------|\n",
      "  | 0.03 s (18.46 %)    | 22.76 GB (5.60 %)   | 0.002    | 1.000    |\n",
      "\n",
      "Calling function for loss key: edge_loss\n",
      "Iter. 16 (epoch 0.143) @ 2024-08-12 18:44:30\n",
      "  | Inference time      | CPU memory          | Loss     | Accuracy |\n",
      "  |---------------------+---------------------+----------+----------|\n",
      "  | 0.06 s (26.86 %)    | 23.37 GB (5.70 %)   | 0.006    | 0.996    |\n",
      "\n",
      "Calling function for loss key: edge_loss\n",
      "Iter. 17 (epoch 0.151) @ 2024-08-12 18:44:30\n",
      "  | Inference time      | CPU memory          | Loss     | Accuracy |\n",
      "  |---------------------+---------------------+----------+----------|\n",
      "  | 0.06 s (26.79 %)    | 21.94 GB (5.40 %)   | 0.003    | 1.000    |\n",
      "\n",
      "Calling function for loss key: edge_loss\n",
      "Iter. 18 (epoch 0.160) @ 2024-08-12 18:44:30\n",
      "  | Inference time      | CPU memory          | Loss     | Accuracy |\n",
      "  |---------------------+---------------------+----------+----------|\n",
      "  | 0.06 s (27.17 %)    | 23.38 GB (5.70 %)   | 0.017    | 0.995    |\n",
      "\n",
      "Calling function for loss key: edge_loss\n",
      "Iter. 19 (epoch 0.168) @ 2024-08-12 18:44:30\n",
      "  | Inference time      | CPU memory          | Loss     | Accuracy |\n",
      "  |---------------------+---------------------+----------+----------|\n",
      "  | 0.08 s (32.52 %)    | 21.90 GB (5.40 %)   | 0.013    | 0.994    |\n",
      "\n",
      "Calling function for loss key: edge_loss\n",
      "Iter. 20 (epoch 0.176) @ 2024-08-12 18:44:31\n",
      "  | Inference time      | CPU memory          | Loss     | Accuracy |\n",
      "  |---------------------+---------------------+----------+----------|\n",
      "  | 0.06 s (27.05 %)    | 22.79 GB (5.60 %)   | 0.004    | 0.998    |\n",
      "\n",
      "Calling function for loss key: edge_loss\n",
      "Iter. 21 (epoch 0.185) @ 2024-08-12 18:44:31\n",
      "  | Inference time      | CPU memory          | Loss     | Accuracy |\n",
      "  |---------------------+---------------------+----------+----------|\n",
      "  | 0.07 s (27.98 %)    | 21.90 GB (5.40 %)   | 0.005    | 0.998    |\n",
      "\n",
      "Calling function for loss key: edge_loss\n",
      "Iter. 22 (epoch 0.193) @ 2024-08-12 18:44:31\n",
      "  | Inference time      | CPU memory          | Loss     | Accuracy |\n",
      "  |---------------------+---------------------+----------+----------|\n",
      "  | 0.04 s (22.07 %)    | 22.01 GB (5.40 %)   | 0.001    | 1.000    |\n",
      "\n",
      "Calling function for loss key: edge_loss\n",
      "Iter. 23 (epoch 0.202) @ 2024-08-12 18:44:31\n",
      "  | Inference time      | CPU memory          | Loss     | Accuracy |\n",
      "  |---------------------+---------------------+----------+----------|\n",
      "  | 0.08 s (32.52 %)    | 23.38 GB (5.70 %)   | 0.008    | 0.997    |\n",
      "\n",
      "Calling function for loss key: edge_loss\n",
      "Iter. 24 (epoch 0.210) @ 2024-08-12 18:44:31\n",
      "  | Inference time      | CPU memory          | Loss     | Accuracy |\n",
      "  |---------------------+---------------------+----------+----------|\n",
      "  | 0.07 s (28.56 %)    | 21.90 GB (5.40 %)   | 0.009    | 0.997    |\n",
      "\n",
      "Calling function for loss key: edge_loss\n",
      "Iter. 25 (epoch 0.218) @ 2024-08-12 18:44:32\n",
      "  | Inference time      | CPU memory          | Loss     | Accuracy |\n",
      "  |---------------------+---------------------+----------+----------|\n",
      "  | 0.06 s (27.11 %)    | 22.92 GB (5.60 %)   | 0.003    | 1.000    |\n",
      "\n",
      "Calling function for loss key: edge_loss\n",
      "Iter. 26 (epoch 0.227) @ 2024-08-12 18:44:32\n",
      "  | Inference time      | CPU memory          | Loss     | Accuracy |\n",
      "  |---------------------+---------------------+----------+----------|\n",
      "  | 0.08 s (32.91 %)    | 21.90 GB (5.40 %)   | 0.016    | 0.991    |\n",
      "\n",
      "Calling function for loss key: edge_loss\n",
      "Iter. 27 (epoch 0.235) @ 2024-08-12 18:44:32\n",
      "  | Inference time      | CPU memory          | Loss     | Accuracy |\n",
      "  |---------------------+---------------------+----------+----------|\n",
      "  | 0.05 s (25.04 %)    | 22.23 GB (5.50 %)   | 0.004    | 1.000    |\n",
      "\n",
      "Calling function for loss key: edge_loss\n",
      "Iter. 28 (epoch 0.244) @ 2024-08-12 18:44:32\n",
      "  | Inference time      | CPU memory          | Loss     | Accuracy |\n",
      "  |---------------------+---------------------+----------+----------|\n",
      "  | 0.09 s (34.74 %)    | 23.38 GB (5.70 %)   | 0.008    | 0.998    |\n",
      "\n",
      "Calling function for loss key: edge_loss\n",
      "Iter. 29 (epoch 0.252) @ 2024-08-12 18:44:33\n",
      "  | Inference time      | CPU memory          | Loss     | Accuracy |\n",
      "  |---------------------+---------------------+----------+----------|\n",
      "  | 0.07 s (29.84 %)    | 21.90 GB (5.40 %)   | 0.004    | 1.000    |\n",
      "\n",
      "Calling function for loss key: edge_loss\n",
      "Iter. 30 (epoch 0.261) @ 2024-08-12 18:44:33\n",
      "  | Inference time      | CPU memory          | Loss     | Accuracy |\n",
      "  |---------------------+---------------------+----------+----------|\n",
      "  | 0.06 s (26.54 %)    | 23.16 GB (5.60 %)   | 0.002    | 1.000    |\n",
      "\n",
      "Calling function for loss key: edge_loss\n",
      "Iter. 31 (epoch 0.269) @ 2024-08-12 18:44:33\n",
      "  | Inference time      | CPU memory          | Loss     | Accuracy |\n",
      "  |---------------------+---------------------+----------+----------|\n",
      "  | 0.06 s (26.75 %)    | 21.90 GB (5.40 %)   | 0.009    | 0.998    |\n",
      "\n",
      "Calling function for loss key: edge_loss\n",
      "Iter. 32 (epoch 0.277) @ 2024-08-12 18:44:33\n",
      "  | Inference time      | CPU memory          | Loss     | Accuracy |\n",
      "  |---------------------+---------------------+----------+----------|\n",
      "  | 0.07 s (28.93 %)    | 22.52 GB (5.50 %)   | 0.023    | 0.994    |\n",
      "\n",
      "Calling function for loss key: edge_loss\n",
      "Iter. 33 (epoch 0.286) @ 2024-08-12 18:44:34\n",
      "  | Inference time      | CPU memory          | Loss     | Accuracy |\n",
      "  |---------------------+---------------------+----------+----------|\n",
      "  | 0.05 s (24.84 %)    | 23.38 GB (5.70 %)   | 0.009    | 0.996    |\n",
      "\n",
      "Calling function for loss key: edge_loss\n",
      "Iter. 34 (epoch 0.294) @ 2024-08-12 18:44:34\n",
      "  | Inference time      | CPU memory          | Loss     | Accuracy |\n",
      "  |---------------------+---------------------+----------+----------|\n",
      "  | 0.06 s (26.34 %)    | 21.90 GB (5.40 %)   | 0.005    | 1.000    |\n",
      "\n",
      "Calling function for loss key: edge_loss\n",
      "Iter. 35 (epoch 0.303) @ 2024-08-12 18:44:34\n",
      "  | Inference time      | CPU memory          | Loss     | Accuracy |\n",
      "  |---------------------+---------------------+----------+----------|\n",
      "  | 0.05 s (24.44 %)    | 23.02 GB (5.60 %)   | 0.055    | 0.977    |\n",
      "\n",
      "Calling function for loss key: edge_loss\n",
      "Iter. 36 (epoch 0.311) @ 2024-08-12 18:44:34\n",
      "  | Inference time      | CPU memory          | Loss     | Accuracy |\n",
      "  |---------------------+---------------------+----------+----------|\n",
      "  | 0.05 s (24.27 %)    | 21.90 GB (5.40 %)   | 0.001    | 1.000    |\n",
      "\n",
      "Calling function for loss key: edge_loss\n",
      "Iter. 37 (epoch 0.319) @ 2024-08-12 18:44:35\n",
      "  | Inference time      | CPU memory          | Loss     | Accuracy |\n",
      "  |---------------------+---------------------+----------+----------|\n",
      "  | 0.07 s (28.67 %)    | 22.25 GB (5.50 %)   | 0.019    | 0.997    |\n",
      "\n",
      "Calling function for loss key: edge_loss\n",
      "Iter. 38 (epoch 0.328) @ 2024-08-12 18:44:35\n",
      "  | Inference time      | CPU memory          | Loss     | Accuracy |\n",
      "  |---------------------+---------------------+----------+----------|\n",
      "  | 0.06 s (26.59 %)    | 23.38 GB (5.70 %)   | 0.026    | 0.988    |\n",
      "\n",
      "Calling function for loss key: edge_loss\n",
      "Iter. 39 (epoch 0.336) @ 2024-08-12 18:44:35\n",
      "  | Inference time      | CPU memory          | Loss     | Accuracy |\n",
      "  |---------------------+---------------------+----------+----------|\n",
      "  | 0.05 s (23.33 %)    | 21.90 GB (5.40 %)   | 0.110    | 0.982    |\n",
      "\n",
      "Calling function for loss key: edge_loss\n",
      "Iter. 40 (epoch 0.345) @ 2024-08-12 18:44:35\n",
      "  | Inference time      | CPU memory          | Loss     | Accuracy |\n",
      "  |---------------------+---------------------+----------+----------|\n",
      "  | 0.06 s (26.49 %)    | 22.83 GB (5.60 %)   | 0.015    | 0.994    |\n",
      "\n",
      "Calling function for loss key: edge_loss\n",
      "Iter. 41 (epoch 0.353) @ 2024-08-12 18:44:35\n",
      "  | Inference time      | CPU memory          | Loss     | Accuracy |\n",
      "  |---------------------+---------------------+----------+----------|\n",
      "  | 0.06 s (27.28 %)    | 21.90 GB (5.40 %)   | 0.012    | 0.998    |\n",
      "\n",
      "Calling function for loss key: edge_loss\n",
      "Iter. 42 (epoch 0.361) @ 2024-08-12 18:44:36\n",
      "  | Inference time      | CPU memory          | Loss     | Accuracy |\n",
      "  |---------------------+---------------------+----------+----------|\n",
      "  | 0.08 s (30.58 %)    | 22.31 GB (5.50 %)   | 0.015    | 0.994    |\n",
      "\n",
      "Calling function for loss key: edge_loss\n",
      "Iter. 43 (epoch 0.370) @ 2024-08-12 18:44:36\n",
      "  | Inference time      | CPU memory          | Loss     | Accuracy |\n",
      "  |---------------------+---------------------+----------+----------|\n",
      "  | 0.07 s (30.34 %)    | 23.38 GB (5.70 %)   | 0.014    | 0.994    |\n",
      "\n",
      "Calling function for loss key: edge_loss\n",
      "Iter. 44 (epoch 0.378) @ 2024-08-12 18:44:36\n",
      "  | Inference time      | CPU memory          | Loss     | Accuracy |\n",
      "  |---------------------+---------------------+----------+----------|\n",
      "  | 0.06 s (26.55 %)    | 21.90 GB (5.40 %)   | 0.023    | 0.992    |\n",
      "\n",
      "Calling function for loss key: edge_loss\n",
      "Iter. 45 (epoch 0.387) @ 2024-08-12 18:44:36\n",
      "  | Inference time      | CPU memory          | Loss     | Accuracy |\n",
      "  |---------------------+---------------------+----------+----------|\n",
      "  | 0.08 s (31.45 %)    | 23.15 GB (5.60 %)   | 0.020    | 0.990    |\n",
      "\n",
      "Calling function for loss key: edge_loss\n",
      "Iter. 46 (epoch 0.395) @ 2024-08-12 18:44:37\n",
      "  | Inference time      | CPU memory          | Loss     | Accuracy |\n",
      "  |---------------------+---------------------+----------+----------|\n",
      "  | 0.05 s (25.11 %)    | 21.90 GB (5.40 %)   | 0.001    | 1.000    |\n",
      "\n",
      "Calling function for loss key: edge_loss\n",
      "Iter. 47 (epoch 0.403) @ 2024-08-12 18:44:37\n",
      "  | Inference time      | CPU memory          | Loss     | Accuracy |\n",
      "  |---------------------+---------------------+----------+----------|\n",
      "  | 0.05 s (22.44 %)    | 22.19 GB (5.40 %)   | 0.011    | 0.995    |\n",
      "\n",
      "Calling function for loss key: edge_loss\n",
      "Iter. 48 (epoch 0.412) @ 2024-08-12 18:44:37\n",
      "  | Inference time      | CPU memory          | Loss     | Accuracy |\n",
      "  |---------------------+---------------------+----------+----------|\n",
      "  | 0.07 s (30.70 %)    | 23.38 GB (5.70 %)   | 0.033    | 0.988    |\n",
      "\n",
      "Calling function for loss key: edge_loss\n",
      "Iter. 49 (epoch 0.420) @ 2024-08-12 18:44:37\n",
      "  | Inference time      | CPU memory          | Loss     | Accuracy |\n",
      "  |---------------------+---------------------+----------+----------|\n",
      "  | 0.07 s (29.80 %)    | 21.75 GB (5.40 %)   | 0.021    | 0.991    |\n",
      "\n",
      "Calling function for loss key: edge_loss\n",
      "Iter. 50 (epoch 0.429) @ 2024-08-12 18:44:38\n",
      "  | Inference time      | CPU memory          | Loss     | Accuracy |\n",
      "  |---------------------+---------------------+----------+----------|\n",
      "  | 0.07 s (30.85 %)    | 23.05 GB (5.60 %)   | 0.018    | 0.994    |\n",
      "\n",
      "Calling function for loss key: edge_loss\n",
      "Iter. 51 (epoch 0.437) @ 2024-08-12 18:44:38\n",
      "  | Inference time      | CPU memory          | Loss     | Accuracy |\n",
      "  |---------------------+---------------------+----------+----------|\n",
      "  | 0.06 s (27.34 %)    | 21.75 GB (5.40 %)   | 0.016    | 0.996    |\n",
      "\n",
      "Calling function for loss key: edge_loss\n",
      "Iter. 52 (epoch 0.445) @ 2024-08-12 18:44:38\n",
      "  | Inference time      | CPU memory          | Loss     | Accuracy |\n",
      "  |---------------------+---------------------+----------+----------|\n",
      "  | 0.05 s (23.20 %)    | 22.10 GB (5.40 %)   | 0.007    | 0.997    |\n",
      "\n",
      "Calling function for loss key: edge_loss\n",
      "Iter. 53 (epoch 0.454) @ 2024-08-12 18:44:38\n",
      "  | Inference time      | CPU memory          | Loss     | Accuracy |\n",
      "  |---------------------+---------------------+----------+----------|\n",
      "  | 0.06 s (28.18 %)    | 23.28 GB (5.60 %)   | 0.001    | 1.000    |\n",
      "\n",
      "Calling function for loss key: edge_loss\n",
      "Iter. 54 (epoch 0.462) @ 2024-08-12 18:44:38\n",
      "  | Inference time      | CPU memory          | Loss     | Accuracy |\n",
      "  |---------------------+---------------------+----------+----------|\n",
      "  | 0.05 s (23.43 %)    | 21.89 GB (5.40 %)   | 0.090    | 0.978    |\n",
      "\n",
      "Calling function for loss key: edge_loss\n",
      "Iter. 55 (epoch 0.471) @ 2024-08-12 18:44:39\n",
      "  | Inference time      | CPU memory          | Loss     | Accuracy |\n",
      "  |---------------------+---------------------+----------+----------|\n",
      "  | 0.06 s (28.02 %)    | 22.93 GB (5.60 %)   | 0.016    | 0.993    |\n",
      "\n",
      "Calling function for loss key: edge_loss\n",
      "Iter. 56 (epoch 0.479) @ 2024-08-12 18:44:39\n",
      "  | Inference time      | CPU memory          | Loss     | Accuracy |\n",
      "  |---------------------+---------------------+----------+----------|\n",
      "  | 0.08 s (31.44 %)    | 21.89 GB (5.40 %)   | 0.040    | 0.988    |\n",
      "\n",
      "Calling function for loss key: edge_loss\n",
      "Iter. 57 (epoch 0.487) @ 2024-08-12 18:44:39\n",
      "  | Inference time      | CPU memory          | Loss     | Accuracy |\n",
      "  |---------------------+---------------------+----------+----------|\n",
      "  | 0.07 s (29.40 %)    | 22.39 GB (5.50 %)   | 0.009    | 0.995    |\n",
      "\n",
      "Calling function for loss key: edge_loss\n",
      "Iter. 58 (epoch 0.496) @ 2024-08-12 18:44:39\n",
      "  | Inference time      | CPU memory          | Loss     | Accuracy |\n",
      "  |---------------------+---------------------+----------+----------|\n",
      "  | 0.05 s (23.80 %)    | 23.38 GB (5.70 %)   | 0.016    | 0.993    |\n",
      "\n",
      "Calling function for loss key: edge_loss\n",
      "Iter. 59 (epoch 0.504) @ 2024-08-12 18:44:40\n",
      "  | Inference time      | CPU memory          | Loss     | Accuracy |\n",
      "  |---------------------+---------------------+----------+----------|\n",
      "  | 0.06 s (28.03 %)    | 21.90 GB (5.40 %)   | 0.025    | 0.993    |\n",
      "\n",
      "Calling function for loss key: edge_loss\n",
      "Iter. 60 (epoch 0.513) @ 2024-08-12 18:44:40\n",
      "  | Inference time      | CPU memory          | Loss     | Accuracy |\n",
      "  |---------------------+---------------------+----------+----------|\n",
      "  | 0.07 s (29.40 %)    | 23.06 GB (5.60 %)   | 0.003    | 1.000    |\n",
      "\n",
      "Calling function for loss key: edge_loss\n",
      "Iter. 61 (epoch 0.521) @ 2024-08-12 18:44:40\n",
      "  | Inference time      | CPU memory          | Loss     | Accuracy |\n",
      "  |---------------------+---------------------+----------+----------|\n",
      "  | 0.05 s (25.46 %)    | 21.90 GB (5.40 %)   | 0.029    | 0.985    |\n",
      "\n",
      "Calling function for loss key: edge_loss\n",
      "Iter. 62 (epoch 0.529) @ 2024-08-12 18:44:40\n",
      "  | Inference time      | CPU memory          | Loss     | Accuracy |\n",
      "  |---------------------+---------------------+----------+----------|\n",
      "  | 0.07 s (29.05 %)    | 22.28 GB (5.50 %)   | 0.017    | 0.992    |\n",
      "\n",
      "Calling function for loss key: edge_loss\n",
      "Iter. 63 (epoch 0.538) @ 2024-08-12 18:44:41\n",
      "  | Inference time      | CPU memory          | Loss     | Accuracy |\n",
      "  |---------------------+---------------------+----------+----------|\n",
      "  | 0.07 s (29.88 %)    | 23.38 GB (5.70 %)   | 0.016    | 0.997    |\n",
      "\n",
      "Calling function for loss key: edge_loss\n",
      "Iter. 64 (epoch 0.546) @ 2024-08-12 18:44:41\n",
      "  | Inference time      | CPU memory          | Loss     | Accuracy |\n",
      "  |---------------------+---------------------+----------+----------|\n",
      "  | 0.05 s (23.96 %)    | 21.90 GB (5.40 %)   | 0.036    | 0.992    |\n",
      "\n",
      "Calling function for loss key: edge_loss\n",
      "Iter. 65 (epoch 0.555) @ 2024-08-12 18:44:41\n",
      "  | Inference time      | CPU memory          | Loss     | Accuracy |\n",
      "  |---------------------+---------------------+----------+----------|\n",
      "  | 0.05 s (25.44 %)    | 22.94 GB (5.60 %)   | 0.009    | 0.996    |\n",
      "\n",
      "Calling function for loss key: edge_loss\n",
      "Iter. 66 (epoch 0.563) @ 2024-08-12 18:44:41\n",
      "  | Inference time      | CPU memory          | Loss     | Accuracy |\n",
      "  |---------------------+---------------------+----------+----------|\n",
      "  | 0.05 s (23.49 %)    | 21.90 GB (5.40 %)   | 0.001    | 1.000    |\n",
      "\n",
      "Calling function for loss key: edge_loss\n",
      "Iter. 67 (epoch 0.571) @ 2024-08-12 18:44:41\n",
      "  | Inference time      | CPU memory          | Loss     | Accuracy |\n",
      "  |---------------------+---------------------+----------+----------|\n",
      "  | 0.06 s (27.76 %)    | 22.05 GB (5.40 %)   | 0.007    | 0.997    |\n",
      "\n",
      "Calling function for loss key: edge_loss\n",
      "Iter. 68 (epoch 0.580) @ 2024-08-12 18:44:42\n",
      "  | Inference time      | CPU memory          | Loss     | Accuracy |\n",
      "  |---------------------+---------------------+----------+----------|\n",
      "  | 0.10 s (35.32 %)    | 23.38 GB (5.70 %)   | 0.044    | 0.991    |\n",
      "\n",
      "Calling function for loss key: edge_loss\n",
      "Iter. 69 (epoch 0.588) @ 2024-08-12 18:44:42\n",
      "  | Inference time      | CPU memory          | Loss     | Accuracy |\n",
      "  |---------------------+---------------------+----------+----------|\n",
      "  | 0.07 s (29.30 %)    | 21.90 GB (5.40 %)   | 0.002    | 1.000    |\n",
      "\n",
      "Calling function for loss key: edge_loss\n",
      "Iter. 70 (epoch 0.597) @ 2024-08-12 18:44:42\n",
      "  | Inference time      | CPU memory          | Loss     | Accuracy |\n",
      "  |---------------------+---------------------+----------+----------|\n",
      "  | 0.07 s (32.07 %)    | 23.26 GB (5.60 %)   | 0.002    | 1.000    |\n",
      "\n",
      "Calling function for loss key: edge_loss\n",
      "Iter. 71 (epoch 0.605) @ 2024-08-12 18:44:42\n",
      "  | Inference time      | CPU memory          | Loss     | Accuracy |\n",
      "  |---------------------+---------------------+----------+----------|\n",
      "  | 0.05 s (25.61 %)    | 21.90 GB (5.40 %)   | 0.011    | 0.994    |\n",
      "\n",
      "Calling function for loss key: edge_loss\n",
      "Iter. 72 (epoch 0.613) @ 2024-08-12 18:44:43\n",
      "  | Inference time      | CPU memory          | Loss     | Accuracy |\n",
      "  |---------------------+---------------------+----------+----------|\n",
      "  | 0.06 s (27.11 %)    | 22.41 GB (5.50 %)   | 0.013    | 0.993    |\n",
      "\n",
      "Calling function for loss key: edge_loss\n",
      "Iter. 73 (epoch 0.622) @ 2024-08-12 18:44:43\n",
      "  | Inference time      | CPU memory          | Loss     | Accuracy |\n",
      "  |---------------------+---------------------+----------+----------|\n",
      "  | 0.05 s (22.77 %)    | 23.38 GB (5.70 %)   | 0.014    | 0.995    |\n",
      "\n",
      "Calling function for loss key: edge_loss\n",
      "Iter. 74 (epoch 0.630) @ 2024-08-12 18:44:43\n",
      "  | Inference time      | CPU memory          | Loss     | Accuracy |\n",
      "  |---------------------+---------------------+----------+----------|\n",
      "  | 0.08 s (31.51 %)    | 21.90 GB (5.40 %)   | 0.005    | 0.999    |\n",
      "\n",
      "Calling function for loss key: edge_loss\n",
      "Iter. 75 (epoch 0.639) @ 2024-08-12 18:44:43\n",
      "  | Inference time      | CPU memory          | Loss     | Accuracy |\n",
      "  |---------------------+---------------------+----------+----------|\n",
      "  | 0.07 s (29.37 %)    | 23.29 GB (5.60 %)   | 0.005    | 0.998    |\n",
      "\n",
      "Calling function for loss key: edge_loss\n",
      "Iter. 76 (epoch 0.647) @ 2024-08-12 18:44:44\n",
      "  | Inference time      | CPU memory          | Loss     | Accuracy |\n",
      "  |---------------------+---------------------+----------+----------|\n",
      "  | 0.08 s (31.61 %)    | 21.90 GB (5.40 %)   | 0.051    | 0.987    |\n",
      "\n",
      "Calling function for loss key: edge_loss\n",
      "Iter. 77 (epoch 0.655) @ 2024-08-12 18:44:44\n",
      "  | Inference time      | CPU memory          | Loss     | Accuracy |\n",
      "  |---------------------+---------------------+----------+----------|\n",
      "  | 0.07 s (29.94 %)    | 22.67 GB (5.50 %)   | 0.007    | 0.997    |\n",
      "\n",
      "Calling function for loss key: edge_loss\n",
      "Iter. 78 (epoch 0.664) @ 2024-08-12 18:44:44\n",
      "  | Inference time      | CPU memory          | Loss     | Accuracy |\n",
      "  |---------------------+---------------------+----------+----------|\n",
      "  | 0.08 s (32.16 %)    | 21.90 GB (5.40 %)   | 0.008    | 0.997    |\n",
      "\n",
      "Calling function for loss key: edge_loss\n",
      "Iter. 79 (epoch 0.672) @ 2024-08-12 18:44:44\n",
      "  | Inference time      | CPU memory          | Loss     | Accuracy |\n",
      "  |---------------------+---------------------+----------+----------|\n",
      "  | 0.06 s (27.29 %)    | 22.08 GB (5.40 %)   | 0.009    | 0.996    |\n",
      "\n",
      "Calling function for loss key: edge_loss\n",
      "Iter. 80 (epoch 0.681) @ 2024-08-12 18:44:45\n",
      "  | Inference time      | CPU memory          | Loss     | Accuracy |\n",
      "  |---------------------+---------------------+----------+----------|\n",
      "  | 0.08 s (31.73 %)    | 23.38 GB (5.70 %)   | 0.001    | 1.000    |\n",
      "\n",
      "Calling function for loss key: edge_loss\n",
      "Iter. 81 (epoch 0.689) @ 2024-08-12 18:44:45\n",
      "  | Inference time      | CPU memory          | Loss     | Accuracy |\n",
      "  |---------------------+---------------------+----------+----------|\n",
      "  | 0.07 s (30.58 %)    | 21.90 GB (5.40 %)   | 0.029    | 0.991    |\n",
      "\n",
      "Calling function for loss key: edge_loss\n",
      "Iter. 82 (epoch 0.697) @ 2024-08-12 18:44:45\n",
      "  | Inference time      | CPU memory          | Loss     | Accuracy |\n",
      "  |---------------------+---------------------+----------+----------|\n",
      "  | 0.08 s (31.61 %)    | 23.15 GB (5.60 %)   | 0.019    | 0.994    |\n",
      "\n",
      "Calling function for loss key: edge_loss\n",
      "Iter. 83 (epoch 0.706) @ 2024-08-12 18:44:45\n",
      "  | Inference time      | CPU memory          | Loss     | Accuracy |\n",
      "  |---------------------+---------------------+----------+----------|\n",
      "  | 0.05 s (24.46 %)    | 21.90 GB (5.40 %)   | 0.013    | 0.995    |\n",
      "\n",
      "Calling function for loss key: edge_loss\n",
      "Iter. 84 (epoch 0.714) @ 2024-08-12 18:44:46\n",
      "  | Inference time      | CPU memory          | Loss     | Accuracy |\n",
      "  |---------------------+---------------------+----------+----------|\n",
      "  | 0.07 s (29.85 %)    | 22.37 GB (5.50 %)   | 0.027    | 0.987    |\n",
      "\n",
      "Calling function for loss key: edge_loss\n",
      "Iter. 85 (epoch 0.723) @ 2024-08-12 18:44:46\n",
      "  | Inference time      | CPU memory          | Loss     | Accuracy |\n",
      "  |---------------------+---------------------+----------+----------|\n",
      "  | 0.07 s (28.42 %)    | 23.38 GB (5.70 %)   | 0.002    | 1.000    |\n",
      "\n",
      "Calling function for loss key: edge_loss\n",
      "Iter. 86 (epoch 0.731) @ 2024-08-12 18:44:46\n",
      "  | Inference time      | CPU memory          | Loss     | Accuracy |\n",
      "  |---------------------+---------------------+----------+----------|\n",
      "  | 0.05 s (24.26 %)    | 21.90 GB (5.40 %)   | 0.005    | 0.998    |\n",
      "\n",
      "Calling function for loss key: edge_loss\n",
      "Iter. 87 (epoch 0.739) @ 2024-08-12 18:44:46\n",
      "  | Inference time      | CPU memory          | Loss     | Accuracy |\n",
      "  |---------------------+---------------------+----------+----------|\n",
      "  | 0.05 s (22.85 %)    | 23.02 GB (5.60 %)   | 0.018    | 0.995    |\n",
      "\n",
      "Calling function for loss key: edge_loss\n",
      "Iter. 88 (epoch 0.748) @ 2024-08-12 18:44:46\n",
      "  | Inference time      | CPU memory          | Loss     | Accuracy |\n",
      "  |---------------------+---------------------+----------+----------|\n",
      "  | 0.07 s (28.63 %)    | 21.90 GB (5.40 %)   | 0.027    | 0.987    |\n",
      "\n",
      "Calling function for loss key: edge_loss\n",
      "Iter. 89 (epoch 0.756) @ 2024-08-12 18:44:47\n",
      "  | Inference time      | CPU memory          | Loss     | Accuracy |\n",
      "  |---------------------+---------------------+----------+----------|\n",
      "  | 0.06 s (26.47 %)    | 22.34 GB (5.50 %)   | 0.005    | 0.996    |\n",
      "\n",
      "Calling function for loss key: edge_loss\n",
      "Iter. 90 (epoch 0.765) @ 2024-08-12 18:44:47\n",
      "  | Inference time      | CPU memory          | Loss     | Accuracy |\n",
      "  |---------------------+---------------------+----------+----------|\n",
      "  | 0.08 s (28.57 %)    | 23.38 GB (5.70 %)   | 0.008    | 0.997    |\n",
      "\n",
      "Calling function for loss key: edge_loss\n",
      "Iter. 91 (epoch 0.773) @ 2024-08-12 18:44:47\n",
      "  | Inference time      | CPU memory          | Loss     | Accuracy |\n",
      "  |---------------------+---------------------+----------+----------|\n",
      "  | 0.06 s (27.95 %)    | 21.90 GB (5.40 %)   | 0.003    | 1.000    |\n",
      "\n",
      "Calling function for loss key: edge_loss\n",
      "Iter. 92 (epoch 0.782) @ 2024-08-12 18:44:47\n",
      "  | Inference time      | CPU memory          | Loss     | Accuracy |\n",
      "  |---------------------+---------------------+----------+----------|\n",
      "  | 0.05 s (23.34 %)    | 23.18 GB (5.60 %)   | 0.012    | 0.990    |\n",
      "\n",
      "Calling function for loss key: edge_loss\n",
      "Iter. 93 (epoch 0.790) @ 2024-08-12 18:44:48\n",
      "  | Inference time      | CPU memory          | Loss     | Accuracy |\n",
      "  |---------------------+---------------------+----------+----------|\n",
      "  | 0.08 s (32.22 %)    | 21.90 GB (5.40 %)   | 0.002    | 1.000    |\n",
      "\n",
      "Calling function for loss key: edge_loss\n",
      "Iter. 94 (epoch 0.798) @ 2024-08-12 18:44:48\n",
      "  | Inference time      | CPU memory          | Loss     | Accuracy |\n",
      "  |---------------------+---------------------+----------+----------|\n",
      "  | 0.06 s (25.72 %)    | 22.51 GB (5.50 %)   | 0.018    | 0.992    |\n",
      "\n",
      "Calling function for loss key: edge_loss\n",
      "Iter. 95 (epoch 0.807) @ 2024-08-12 18:44:48\n",
      "  | Inference time      | CPU memory          | Loss     | Accuracy |\n",
      "  |---------------------+---------------------+----------+----------|\n",
      "  | 0.05 s (23.53 %)    | 23.38 GB (5.70 %)   | 0.042    | 0.986    |\n",
      "\n",
      "Calling function for loss key: edge_loss\n",
      "Iter. 96 (epoch 0.815) @ 2024-08-12 18:44:48\n",
      "  | Inference time      | CPU memory          | Loss     | Accuracy |\n",
      "  |---------------------+---------------------+----------+----------|\n",
      "  | 0.05 s (22.24 %)    | 21.90 GB (5.40 %)   | 0.030    | 0.993    |\n",
      "\n",
      "Calling function for loss key: edge_loss\n",
      "Iter. 97 (epoch 0.824) @ 2024-08-12 18:44:49\n",
      "  | Inference time      | CPU memory          | Loss     | Accuracy |\n",
      "  |---------------------+---------------------+----------+----------|\n",
      "  | 0.05 s (24.21 %)    | 23.01 GB (5.60 %)   | 0.009    | 0.998    |\n",
      "\n",
      "Calling function for loss key: edge_loss\n",
      "Iter. 98 (epoch 0.832) @ 2024-08-12 18:44:49\n",
      "  | Inference time      | CPU memory          | Loss     | Accuracy |\n",
      "  |---------------------+---------------------+----------+----------|\n",
      "  | 0.07 s (30.45 %)    | 21.90 GB (5.40 %)   | 0.009    | 0.997    |\n",
      "\n",
      "Calling function for loss key: edge_loss\n",
      "Iter. 99 (epoch 0.840) @ 2024-08-12 18:44:49\n",
      "  | Inference time      | CPU memory          | Loss     | Accuracy |\n",
      "  |---------------------+---------------------+----------+----------|\n",
      "  | 0.06 s (26.02 %)    | 22.29 GB (5.50 %)   | 0.003    | 1.000    |\n",
      "\n",
      "Calling function for loss key: edge_loss\n",
      "Iter. 100 (epoch 0.849) @ 2024-08-12 18:44:49\n",
      "  | Inference time      | CPU memory          | Loss     | Accuracy |\n",
      "  |---------------------+---------------------+----------+----------|\n",
      "  | 0.05 s (23.33 %)    | 23.38 GB (5.70 %)   | 0.001    | 1.000    |\n",
      "\n",
      "Calling function for loss key: edge_loss\n",
      "Iter. 101 (epoch 0.857) @ 2024-08-12 18:44:50\n",
      "  | Inference time      | CPU memory          | Loss     | Accuracy |\n",
      "  |---------------------+---------------------+----------+----------|\n",
      "  | 0.06 s (26.21 %)    | 21.90 GB (5.40 %)   | 0.012    | 0.998    |\n",
      "\n",
      "Calling function for loss key: edge_loss\n",
      "Iter. 102 (epoch 0.866) @ 2024-08-12 18:44:50\n",
      "  | Inference time      | CPU memory          | Loss     | Accuracy |\n",
      "  |---------------------+---------------------+----------+----------|\n",
      "  | 0.08 s (33.25 %)    | 23.01 GB (5.60 %)   | 0.012    | 0.998    |\n",
      "\n",
      "Calling function for loss key: edge_loss\n",
      "Iter. 103 (epoch 0.874) @ 2024-08-12 18:44:50\n",
      "  | Inference time      | CPU memory          | Loss     | Accuracy |\n",
      "  |---------------------+---------------------+----------+----------|\n",
      "  | 0.07 s (28.98 %)    | 21.75 GB (5.40 %)   | 0.005    | 0.998    |\n",
      "\n",
      "Calling function for loss key: edge_loss\n",
      "Iter. 104 (epoch 0.882) @ 2024-08-12 18:44:50\n",
      "  | Inference time      | CPU memory          | Loss     | Accuracy |\n",
      "  |---------------------+---------------------+----------+----------|\n",
      "  | 0.08 s (32.10 %)    | 22.29 GB (5.50 %)   | 0.019    | 0.989    |\n",
      "\n",
      "Calling function for loss key: edge_loss\n",
      "Iter. 105 (epoch 0.891) @ 2024-08-12 18:44:50\n",
      "  | Inference time      | CPU memory          | Loss     | Accuracy |\n",
      "  |---------------------+---------------------+----------+----------|\n",
      "  | 0.06 s (27.96 %)    | 23.24 GB (5.60 %)   | 0.012    | 0.998    |\n",
      "\n",
      "Calling function for loss key: edge_loss\n",
      "Iter. 106 (epoch 0.899) @ 2024-08-12 18:44:51\n",
      "  | Inference time      | CPU memory          | Loss     | Accuracy |\n",
      "  |---------------------+---------------------+----------+----------|\n",
      "  | 0.05 s (25.01 %)    | 21.75 GB (5.40 %)   | 0.017    | 0.996    |\n",
      "\n",
      "Calling function for loss key: edge_loss\n",
      "Iter. 107 (epoch 0.908) @ 2024-08-12 18:44:51\n",
      "  | Inference time      | CPU memory          | Loss     | Accuracy |\n",
      "  |---------------------+---------------------+----------+----------|\n",
      "  | 0.07 s (29.33 %)    | 23.04 GB (5.60 %)   | 0.004    | 1.000    |\n",
      "\n",
      "Calling function for loss key: edge_loss\n",
      "Iter. 108 (epoch 0.916) @ 2024-08-12 18:44:51\n",
      "  | Inference time      | CPU memory          | Loss     | Accuracy |\n",
      "  |---------------------+---------------------+----------+----------|\n",
      "  | 0.07 s (30.60 %)    | 21.90 GB (5.40 %)   | 0.005    | 1.000    |\n",
      "\n",
      "Calling function for loss key: edge_loss\n",
      "Iter. 109 (epoch 0.924) @ 2024-08-12 18:44:51\n",
      "  | Inference time      | CPU memory          | Loss     | Accuracy |\n",
      "  |---------------------+---------------------+----------+----------|\n",
      "  | 0.07 s (30.55 %)    | 22.60 GB (5.50 %)   | 0.020    | 0.991    |\n",
      "\n",
      "Calling function for loss key: edge_loss\n",
      "Iter. 110 (epoch 0.933) @ 2024-08-12 18:44:52\n",
      "  | Inference time      | CPU memory          | Loss     | Accuracy |\n",
      "  |---------------------+---------------------+----------+----------|\n",
      "  | 0.07 s (28.55 %)    | 23.38 GB (5.70 %)   | 0.022    | 0.993    |\n",
      "\n",
      "Calling function for loss key: edge_loss\n",
      "Iter. 111 (epoch 0.941) @ 2024-08-12 18:44:52\n",
      "  | Inference time      | CPU memory          | Loss     | Accuracy |\n",
      "  |---------------------+---------------------+----------+----------|\n",
      "  | 0.07 s (28.79 %)    | 21.90 GB (5.40 %)   | 0.004    | 0.998    |\n",
      "\n",
      "Calling function for loss key: edge_loss\n",
      "Iter. 112 (epoch 0.950) @ 2024-08-12 18:44:52\n",
      "  | Inference time      | CPU memory          | Loss     | Accuracy |\n",
      "  |---------------------+---------------------+----------+----------|\n",
      "  | 0.07 s (28.71 %)    | 23.38 GB (5.70 %)   | 0.007    | 0.997    |\n",
      "\n",
      "Calling function for loss key: edge_loss\n",
      "Iter. 113 (epoch 0.958) @ 2024-08-12 18:44:52\n",
      "  | Inference time      | CPU memory          | Loss     | Accuracy |\n",
      "  |---------------------+---------------------+----------+----------|\n",
      "  | 0.07 s (29.14 %)    | 21.90 GB (5.40 %)   | 0.016    | 0.992    |\n",
      "\n",
      "Calling function for loss key: edge_loss\n",
      "Iter. 114 (epoch 0.966) @ 2024-08-12 18:44:53\n",
      "  | Inference time      | CPU memory          | Loss     | Accuracy |\n",
      "  |---------------------+---------------------+----------+----------|\n",
      "  | 0.09 s (35.13 %)    | 22.97 GB (5.60 %)   | 0.018    | 0.993    |\n",
      "\n",
      "Calling function for loss key: edge_loss\n",
      "Iter. 115 (epoch 0.975) @ 2024-08-12 18:44:53\n",
      "  | Inference time      | CPU memory          | Loss     | Accuracy |\n",
      "  |---------------------+---------------------+----------+----------|\n",
      "  | 0.06 s (27.81 %)    | 21.90 GB (5.40 %)   | 0.016    | 0.990    |\n",
      "\n",
      "Calling function for loss key: edge_loss\n",
      "Iter. 116 (epoch 0.983) @ 2024-08-12 18:44:53\n",
      "  | Inference time      | CPU memory          | Loss     | Accuracy |\n",
      "  |---------------------+---------------------+----------+----------|\n",
      "  | 0.06 s (27.82 %)    | 22.27 GB (5.50 %)   | 0.047    | 0.988    |\n",
      "\n",
      "Calling function for loss key: edge_loss\n",
      "Iter. 117 (epoch 0.992) @ 2024-08-12 18:44:53\n",
      "  | Inference time      | CPU memory          | Loss     | Accuracy |\n",
      "  |---------------------+---------------------+----------+----------|\n",
      "  | 0.07 s (27.59 %)    | 23.38 GB (5.70 %)   | 0.001    | 1.000    |\n",
      "\n",
      "Calling function for loss key: edge_loss\n",
      "Iter. 118 (epoch 1.000) @ 2024-08-12 18:44:54\n",
      "  | Inference time      | CPU memory          | Loss     | Accuracy |\n",
      "  |---------------------+---------------------+----------+----------|\n",
      "  | 0.01 s (22.03 %)    | 23.39 GB (5.70 %)   | 0.000    | 1.000    |\n",
      "\n"
     ]
    }
   ],
   "source": [
    "driver.run()"
   ]
  },
  {
   "cell_type": "markdown",
   "id": "f86196b3-ec2a-409e-9cb8-210b57df9d0f",
   "metadata": {},
   "source": [
    "## Visualization validation cluster"
   ]
  },
  {
   "cell_type": "code",
   "execution_count": 2,
   "id": "60abd5f3-68fb-4489-bf93-86b65314712e",
   "metadata": {},
   "outputs": [
    {
     "name": "stdout",
     "output_type": "stream",
     "text": [
      "Welcome to JupyROOT 6.22/08\n",
      "Will load 1 file(s):\n",
      "  - /n/holystore01/LABS/iaifi_lab/Users/jmicallef/tester.h5\n",
      "\n",
      "Total number of entries in the file(s): 3781\n",
      "\n",
      "Total number of entries selected: 3781\n",
      "\n"
     ]
    }
   ],
   "source": [
    "from spine.io.read.hdf5 import HDF5Reader\n",
    "\n",
    "reader = HDF5Reader('/n/holystore01/LABS/iaifi_lab/Users/jmicallef/tester.h5')"
   ]
  },
  {
   "cell_type": "code",
   "execution_count": 3,
   "id": "c1ae211b-5e56-4131-bb77-6174e4c68c96",
   "metadata": {},
   "outputs": [],
   "source": [
    "entry=12\n",
    "data = reader[entry]"
   ]
  },
  {
   "cell_type": "code",
   "execution_count": 7,
   "id": "345d12dd-d97d-418f-9a20-1b0e67158c43",
   "metadata": {},
   "outputs": [
    {
     "name": "stdout",
     "output_type": "stream",
     "text": [
      "720 817 1834\n"
     ]
    }
   ],
   "source": [
    "import math\n",
    "import numpy as np\n",
    "#Meta\n",
    "xmin = (-1080.0)\n",
    "ymin = (-1450.0)\n",
    "zmin = (-2400.0)\n",
    "xmax = (1080.0) \n",
    "ymax = (1000.0) \n",
    "zmax = (3100.0)\n",
    "offsetx, offsety, offsetz = 0.0, 218.33799743652344, 6913.0\n",
    "xnum = int(math.ceil(abs((xmin - xmax)/3)))\n",
    "ynum = int(math.ceil(abs((ymin - ymax)/3)))\n",
    "znum = int(math.ceil(abs((zmin - zmax)/3)))\n",
    "\n",
    "print(xnum,ynum,znum)"
   ]
  },
  {
   "cell_type": "code",
   "execution_count": 28,
   "id": "66f6c010-745a-4ea8-b13e-954d50d185ff",
   "metadata": {},
   "outputs": [
    {
     "data": {
      "text/plain": [
       "(198, 18)"
      ]
     },
     "execution_count": 28,
     "metadata": {},
     "output_type": "execute_result"
    }
   ],
   "source": [
    "data['data'].shape"
   ]
  },
  {
   "cell_type": "code",
   "execution_count": 84,
   "id": "7b3b3664-04a3-4330-91df-e8ef3de2cc91",
   "metadata": {},
   "outputs": [
    {
     "data": {
      "text/plain": [
       "array(['#2E91E5', '#E15F99', '#1CA71C', '#FB0D0D', '#DA16FF', '#222A2A',\n",
       "       '#B68100', '#750D86', '#EB663B', '#511CFB', '#00A08B', '#FB00D1',\n",
       "       '#FC0080', '#B2828D', '#6C7C32', '#778AAE', '#862A16', '#A777F1',\n",
       "       '#620042', '#1616A7', '#DA60CA', '#6C4516', '#0D2A63', '#AF0038',\n",
       "       '#FD3216', '#00FE35', '#6A76FC', '#FED4C4', '#FE00CE', '#0DF9FF',\n",
       "       '#F6F926', '#FF9616', '#479B55', '#EEA6FB', '#DC587D', '#D626FF',\n",
       "       '#6E899C', '#00B5F7', '#B68E00', '#C9FBE5', '#FF0092', '#22FFA7',\n",
       "       '#E3EE9E', '#86CE00', '#BC7196', '#7E7DCD', '#FC6955', '#E48F72'],\n",
       "      dtype='<U7')"
      ]
     },
     "execution_count": 84,
     "metadata": {},
     "output_type": "execute_result"
    }
   ],
   "source": [
    "HIGH_CONTRAST_COLORS"
   ]
  },
  {
   "cell_type": "code",
   "execution_count": 15,
   "id": "33d6dd2b-df36-465a-af60-d4f78107c0d6",
   "metadata": {},
   "outputs": [
    {
     "data": {
      "text/plain": [
       "dict_keys(['edge_accuracy', 'edge_pred', 'edge_loss', 'edge_count', 'clusts', 'node_pred', 'coord_label', 'index', 'accuracy', 'edge_index', 'group_pred', 'data', 'loss'])"
      ]
     },
     "execution_count": 15,
     "metadata": {},
     "output_type": "execute_result"
    }
   ],
   "source": [
    "data.keys()"
   ]
  },
  {
   "cell_type": "code",
   "execution_count": 36,
   "id": "20760dbc-1251-44bd-9b37-73cb4eed7b52",
   "metadata": {},
   "outputs": [
    {
     "name": "stdout",
     "output_type": "stream",
     "text": [
      "[False False False False False False False False False False False False\n",
      " False False False False False False False False False False False False\n",
      " False False False False False False False False False False False False\n",
      " False False False False False False False False False False False False\n",
      " False False False False False False False False False False False False\n",
      " False False False False False False  True  True False False False False]\n",
      "[[6 7]\n",
      " [7 6]]\n"
     ]
    }
   ],
   "source": [
    "mask=data['edge_pred'][:,1]>data['edge_pred'][:,0]\n",
    "print(data['edge_pred'][:,1]>data['edge_pred'][:,0])\n",
    "print(data['edge_index'][mask])"
   ]
  },
  {
   "cell_type": "code",
   "execution_count": 41,
   "id": "48b61fd3-1fe7-47eb-9524-208a53681671",
   "metadata": {},
   "outputs": [
    {
     "data": {
      "text/plain": [
       "array([[ 5.7053714, -3.5771432],\n",
       "       [ 5.2626657, -3.37949  ],\n",
       "       [ 4.2862134, -3.2902818],\n",
       "       [ 4.8590946, -3.3053312],\n",
       "       [ 4.286741 , -3.2906983],\n",
       "       [ 4.8588624, -3.3052201],\n",
       "       [ 4.5850234, -3.1389632],\n",
       "       [ 3.7212822, -2.678154 ],\n",
       "       [ 3.1762767, -2.5156434],\n",
       "       [ 2.8501945, -2.2388496],\n",
       "       [ 5.0565577, -4.1818748],\n",
       "       [ 5.743357 , -4.2723885],\n",
       "       [ 5.411291 , -4.3075423],\n",
       "       [ 5.9034805, -4.321298 ],\n",
       "       [ 5.2784114, -3.2805986],\n",
       "       [ 4.7557383, -2.9717443],\n",
       "       [ 4.49235  , -3.4804735],\n",
       "       [ 4.8097906, -3.3867977],\n",
       "       [ 4.4928126, -3.4808786],\n",
       "       [ 4.8093443, -3.3865218],\n",
       "       [ 4.398388 , -2.9823976],\n",
       "       [ 3.677597 , -2.565282 ],\n",
       "       [ 3.7453556, -3.0455446],\n",
       "       [ 3.1993618, -2.559516 ],\n",
       "       [ 5.0038495, -4.172881 ],\n",
       "       [ 5.767914 , -4.289607 ],\n",
       "       [ 5.298067 , -4.2416153],\n",
       "       [ 6.1808248, -4.415201 ],\n",
       "       [ 4.764008 , -3.0174875],\n",
       "       [ 4.917936 , -3.111749 ],\n",
       "       [ 5.2940187, -3.387323 ],\n",
       "       [ 5.294012 , -3.387297 ],\n",
       "       [ 4.242092 , -3.3880339],\n",
       "       [ 4.232716 , -3.5034134],\n",
       "       [ 2.356773 , -2.105698 ],\n",
       "       [ 2.20716  , -1.774432 ],\n",
       "       [ 4.8541355, -4.2469563],\n",
       "       [ 6.262037 , -4.6085634],\n",
       "       [ 5.0911956, -4.335585 ],\n",
       "       [ 6.343783 , -4.6615844],\n",
       "       [ 5.2779484, -3.331851 ],\n",
       "       [ 3.6460888, -2.8328006],\n",
       "       [ 4.2425685, -3.3885167],\n",
       "       [ 4.2331266, -3.503826 ],\n",
       "       [ 2.3575592, -2.106547 ],\n",
       "       [ 2.207024 , -1.7742727],\n",
       "       [ 4.8543935, -4.2471237],\n",
       "       [ 6.2624574, -4.6088576],\n",
       "       [ 5.0911326, -4.3355365],\n",
       "       [ 6.344289 , -4.6619225],\n",
       "       [ 5.2776   , -3.3317451],\n",
       "       [ 3.6464217, -2.8331628],\n",
       "       [ 4.4396167, -3.3183742],\n",
       "       [ 5.1290865, -3.4996822],\n",
       "       [ 5.753468 , -4.561679 ],\n",
       "       [ 6.1728015, -4.43746  ],\n",
       "       [ 5.3869767, -4.3252864],\n",
       "       [ 6.008088 , -4.2395644],\n",
       "       [ 4.1514797, -2.8411837],\n",
       "       [ 4.5786204, -3.377911 ],\n",
       "       [ 5.4959207, -4.343244 ],\n",
       "       [ 6.0849414, -4.3446164],\n",
       "       [ 4.6881013, -4.000516 ],\n",
       "       [ 6.034477 , -4.267226 ],\n",
       "       [ 3.3760831, -2.2502208],\n",
       "       [ 2.5213132, -1.7954582],\n",
       "       [-4.320981 ,  3.4119208],\n",
       "       [-4.1064224,  3.2214522],\n",
       "       [ 5.8919306, -4.3625617],\n",
       "       [ 4.8879642, -4.0737247],\n",
       "       [ 6.1847653, -4.4170203],\n",
       "       [ 5.2803497, -4.1827846]], dtype=float32)"
      ]
     },
     "execution_count": 41,
     "metadata": {},
     "output_type": "execute_result"
    }
   ],
   "source": [
    "data['edge_pred']"
   ]
  },
  {
   "cell_type": "code",
   "execution_count": 37,
   "id": "93746911-f679-4297-9d38-8ad1c159d7a4",
   "metadata": {},
   "outputs": [
    {
     "name": "stdout",
     "output_type": "stream",
     "text": [
      "[[6 7]\n",
      " [7 6]]\n"
     ]
    },
    {
     "data": {
      "application/vnd.plotly.v1+json": {
       "config": {
        "linkText": "Export to plot.ly",
        "plotlyServerURL": "https://plot.ly",
        "showLink": false
       },
       "data": [
        {
         "hovertemplate": "x: %{x}<br>y: %{y}<br>z: %{z}<br>%{text}",
         "marker": {
          "color": [
           0,
           0,
           0,
           0,
           0,
           0,
           0,
           0,
           0,
           0,
           0,
           0,
           0,
           0,
           0,
           0,
           0,
           0,
           0,
           0,
           0,
           0,
           0,
           0,
           0,
           0,
           0,
           0,
           0,
           0,
           0,
           0,
           0,
           0,
           0,
           0,
           0,
           0,
           0,
           0,
           0,
           0,
           1,
           1,
           1,
           1,
           1,
           1,
           1,
           1,
           1,
           1,
           1,
           1,
           1,
           1,
           1,
           1,
           1,
           1,
           1,
           1,
           1,
           1,
           1,
           1,
           1,
           1,
           1,
           1,
           1,
           1,
           1,
           1,
           1,
           1,
           1,
           1,
           1,
           2,
           2,
           2,
           2,
           2,
           2,
           2,
           2,
           2,
           2,
           2,
           2,
           2,
           2,
           2,
           2,
           2,
           2,
           2,
           2,
           2,
           2,
           2,
           2,
           2,
           2,
           3,
           3,
           3,
           3,
           3,
           3,
           3,
           3,
           3,
           3,
           3,
           3,
           3,
           3,
           3,
           3,
           3,
           3,
           3,
           3,
           3,
           3,
           3,
           3,
           3,
           3,
           4,
           4,
           4,
           4,
           4,
           4,
           4,
           4,
           4,
           4,
           4,
           4,
           4,
           4,
           4,
           4,
           4,
           4,
           4,
           4,
           4,
           4,
           4,
           4,
           5,
           5,
           5,
           5,
           5,
           5,
           5,
           5,
           5,
           5,
           5,
           5,
           5,
           5,
           5,
           5,
           5,
           5,
           5,
           5,
           5,
           5,
           5,
           5,
           6,
           6,
           6,
           6,
           6,
           6,
           6,
           6,
           6,
           6,
           6,
           6,
           6,
           6,
           6,
           6,
           6,
           6,
           6,
           6,
           6,
           6,
           6,
           6,
           6,
           6,
           6,
           6,
           6,
           6,
           6,
           6,
           6,
           6,
           6,
           6,
           6,
           6,
           6,
           6,
           6,
           6,
           6,
           6,
           6,
           6,
           6,
           6,
           6,
           6,
           6,
           6,
           6,
           6,
           6,
           6,
           6,
           6,
           6,
           6,
           6,
           6,
           6,
           6,
           6,
           6,
           6,
           6,
           6,
           6,
           6,
           6,
           6,
           6,
           6,
           6,
           8,
           8,
           8,
           8,
           8,
           8,
           8,
           8,
           8,
           8,
           8,
           8,
           8,
           8,
           8,
           8,
           8,
           8,
           8,
           8,
           8,
           8,
           8,
           8,
           8,
           8,
           8,
           8,
           8,
           8,
           8,
           8,
           8,
           8,
           8,
           8,
           8,
           8,
           8
          ],
          "colorscale": [
           [
            0,
            "#332288"
           ],
           [
            0.125,
            "#117733"
           ],
           [
            0.25,
            "#44AA99"
           ],
           [
            0.375,
            "#88CCEE"
           ],
           [
            0.5,
            "#EA4040"
           ],
           [
            0.625,
            "#0B57CB"
           ],
           [
            0.75,
            "#D79ABB"
           ],
           [
            0.875,
            "#7D7A7A"
           ],
           [
            1,
            "#D0B58F"
           ]
          ],
          "size": 2
         },
         "mode": "markers",
         "name": " nodes",
         "text": [
          "Cluster ID: 0<br>Label: 0",
          "Cluster ID: 0<br>Label: 0",
          "Cluster ID: 0<br>Label: 0",
          "Cluster ID: 0<br>Label: 0",
          "Cluster ID: 0<br>Label: 0",
          "Cluster ID: 0<br>Label: 0",
          "Cluster ID: 0<br>Label: 0",
          "Cluster ID: 0<br>Label: 0",
          "Cluster ID: 0<br>Label: 0",
          "Cluster ID: 0<br>Label: 0",
          "Cluster ID: 0<br>Label: 0",
          "Cluster ID: 0<br>Label: 0",
          "Cluster ID: 0<br>Label: 0",
          "Cluster ID: 0<br>Label: 0",
          "Cluster ID: 0<br>Label: 0",
          "Cluster ID: 0<br>Label: 0",
          "Cluster ID: 0<br>Label: 0",
          "Cluster ID: 0<br>Label: 0",
          "Cluster ID: 0<br>Label: 0",
          "Cluster ID: 0<br>Label: 0",
          "Cluster ID: 0<br>Label: 0",
          "Cluster ID: 0<br>Label: 0",
          "Cluster ID: 0<br>Label: 0",
          "Cluster ID: 0<br>Label: 0",
          "Cluster ID: 0<br>Label: 0",
          "Cluster ID: 0<br>Label: 0",
          "Cluster ID: 0<br>Label: 0",
          "Cluster ID: 0<br>Label: 0",
          "Cluster ID: 0<br>Label: 0",
          "Cluster ID: 0<br>Label: 0",
          "Cluster ID: 0<br>Label: 0",
          "Cluster ID: 0<br>Label: 0",
          "Cluster ID: 0<br>Label: 0",
          "Cluster ID: 0<br>Label: 0",
          "Cluster ID: 0<br>Label: 0",
          "Cluster ID: 0<br>Label: 0",
          "Cluster ID: 0<br>Label: 0",
          "Cluster ID: 0<br>Label: 0",
          "Cluster ID: 0<br>Label: 0",
          "Cluster ID: 0<br>Label: 0",
          "Cluster ID: 0<br>Label: 0",
          "Cluster ID: 0<br>Label: 0",
          "Cluster ID: 1<br>Label: 1",
          "Cluster ID: 1<br>Label: 1",
          "Cluster ID: 1<br>Label: 1",
          "Cluster ID: 1<br>Label: 1",
          "Cluster ID: 1<br>Label: 1",
          "Cluster ID: 1<br>Label: 1",
          "Cluster ID: 1<br>Label: 1",
          "Cluster ID: 1<br>Label: 1",
          "Cluster ID: 1<br>Label: 1",
          "Cluster ID: 1<br>Label: 1",
          "Cluster ID: 1<br>Label: 1",
          "Cluster ID: 1<br>Label: 1",
          "Cluster ID: 1<br>Label: 1",
          "Cluster ID: 1<br>Label: 1",
          "Cluster ID: 1<br>Label: 1",
          "Cluster ID: 1<br>Label: 1",
          "Cluster ID: 1<br>Label: 1",
          "Cluster ID: 1<br>Label: 1",
          "Cluster ID: 1<br>Label: 1",
          "Cluster ID: 1<br>Label: 1",
          "Cluster ID: 1<br>Label: 1",
          "Cluster ID: 1<br>Label: 1",
          "Cluster ID: 1<br>Label: 1",
          "Cluster ID: 1<br>Label: 1",
          "Cluster ID: 1<br>Label: 1",
          "Cluster ID: 1<br>Label: 1",
          "Cluster ID: 1<br>Label: 1",
          "Cluster ID: 1<br>Label: 1",
          "Cluster ID: 1<br>Label: 1",
          "Cluster ID: 1<br>Label: 1",
          "Cluster ID: 1<br>Label: 1",
          "Cluster ID: 1<br>Label: 1",
          "Cluster ID: 1<br>Label: 1",
          "Cluster ID: 1<br>Label: 1",
          "Cluster ID: 1<br>Label: 1",
          "Cluster ID: 1<br>Label: 1",
          "Cluster ID: 1<br>Label: 1",
          "Cluster ID: 2<br>Label: 2",
          "Cluster ID: 2<br>Label: 2",
          "Cluster ID: 2<br>Label: 2",
          "Cluster ID: 2<br>Label: 2",
          "Cluster ID: 2<br>Label: 2",
          "Cluster ID: 2<br>Label: 2",
          "Cluster ID: 2<br>Label: 2",
          "Cluster ID: 2<br>Label: 2",
          "Cluster ID: 2<br>Label: 2",
          "Cluster ID: 2<br>Label: 2",
          "Cluster ID: 2<br>Label: 2",
          "Cluster ID: 2<br>Label: 2",
          "Cluster ID: 2<br>Label: 2",
          "Cluster ID: 2<br>Label: 2",
          "Cluster ID: 2<br>Label: 2",
          "Cluster ID: 2<br>Label: 2",
          "Cluster ID: 2<br>Label: 2",
          "Cluster ID: 2<br>Label: 2",
          "Cluster ID: 2<br>Label: 2",
          "Cluster ID: 2<br>Label: 2",
          "Cluster ID: 2<br>Label: 2",
          "Cluster ID: 2<br>Label: 2",
          "Cluster ID: 2<br>Label: 2",
          "Cluster ID: 2<br>Label: 2",
          "Cluster ID: 2<br>Label: 2",
          "Cluster ID: 2<br>Label: 2",
          "Cluster ID: 3<br>Label: 3",
          "Cluster ID: 3<br>Label: 3",
          "Cluster ID: 3<br>Label: 3",
          "Cluster ID: 3<br>Label: 3",
          "Cluster ID: 3<br>Label: 3",
          "Cluster ID: 3<br>Label: 3",
          "Cluster ID: 3<br>Label: 3",
          "Cluster ID: 3<br>Label: 3",
          "Cluster ID: 3<br>Label: 3",
          "Cluster ID: 3<br>Label: 3",
          "Cluster ID: 3<br>Label: 3",
          "Cluster ID: 3<br>Label: 3",
          "Cluster ID: 3<br>Label: 3",
          "Cluster ID: 3<br>Label: 3",
          "Cluster ID: 3<br>Label: 3",
          "Cluster ID: 3<br>Label: 3",
          "Cluster ID: 3<br>Label: 3",
          "Cluster ID: 3<br>Label: 3",
          "Cluster ID: 3<br>Label: 3",
          "Cluster ID: 3<br>Label: 3",
          "Cluster ID: 3<br>Label: 3",
          "Cluster ID: 3<br>Label: 3",
          "Cluster ID: 3<br>Label: 3",
          "Cluster ID: 3<br>Label: 3",
          "Cluster ID: 3<br>Label: 3",
          "Cluster ID: 3<br>Label: 3",
          "Cluster ID: 4<br>Label: 4",
          "Cluster ID: 4<br>Label: 4",
          "Cluster ID: 4<br>Label: 4",
          "Cluster ID: 4<br>Label: 4",
          "Cluster ID: 4<br>Label: 4",
          "Cluster ID: 4<br>Label: 4",
          "Cluster ID: 4<br>Label: 4",
          "Cluster ID: 4<br>Label: 4",
          "Cluster ID: 4<br>Label: 4",
          "Cluster ID: 4<br>Label: 4",
          "Cluster ID: 4<br>Label: 4",
          "Cluster ID: 4<br>Label: 4",
          "Cluster ID: 4<br>Label: 4",
          "Cluster ID: 4<br>Label: 4",
          "Cluster ID: 4<br>Label: 4",
          "Cluster ID: 4<br>Label: 4",
          "Cluster ID: 4<br>Label: 4",
          "Cluster ID: 4<br>Label: 4",
          "Cluster ID: 4<br>Label: 4",
          "Cluster ID: 4<br>Label: 4",
          "Cluster ID: 4<br>Label: 4",
          "Cluster ID: 4<br>Label: 4",
          "Cluster ID: 4<br>Label: 4",
          "Cluster ID: 4<br>Label: 4",
          "Cluster ID: 5<br>Label: 5",
          "Cluster ID: 5<br>Label: 5",
          "Cluster ID: 5<br>Label: 5",
          "Cluster ID: 5<br>Label: 5",
          "Cluster ID: 5<br>Label: 5",
          "Cluster ID: 5<br>Label: 5",
          "Cluster ID: 5<br>Label: 5",
          "Cluster ID: 5<br>Label: 5",
          "Cluster ID: 5<br>Label: 5",
          "Cluster ID: 5<br>Label: 5",
          "Cluster ID: 5<br>Label: 5",
          "Cluster ID: 5<br>Label: 5",
          "Cluster ID: 5<br>Label: 5",
          "Cluster ID: 5<br>Label: 5",
          "Cluster ID: 5<br>Label: 5",
          "Cluster ID: 5<br>Label: 5",
          "Cluster ID: 5<br>Label: 5",
          "Cluster ID: 5<br>Label: 5",
          "Cluster ID: 5<br>Label: 5",
          "Cluster ID: 5<br>Label: 5",
          "Cluster ID: 5<br>Label: 5",
          "Cluster ID: 5<br>Label: 5",
          "Cluster ID: 5<br>Label: 5",
          "Cluster ID: 5<br>Label: 5",
          "Cluster ID: 6<br>Label: 6",
          "Cluster ID: 6<br>Label: 6",
          "Cluster ID: 6<br>Label: 6",
          "Cluster ID: 6<br>Label: 6",
          "Cluster ID: 6<br>Label: 6",
          "Cluster ID: 6<br>Label: 6",
          "Cluster ID: 6<br>Label: 6",
          "Cluster ID: 6<br>Label: 6",
          "Cluster ID: 6<br>Label: 6",
          "Cluster ID: 6<br>Label: 6",
          "Cluster ID: 6<br>Label: 6",
          "Cluster ID: 6<br>Label: 6",
          "Cluster ID: 6<br>Label: 6",
          "Cluster ID: 6<br>Label: 6",
          "Cluster ID: 6<br>Label: 6",
          "Cluster ID: 6<br>Label: 6",
          "Cluster ID: 6<br>Label: 6",
          "Cluster ID: 6<br>Label: 6",
          "Cluster ID: 6<br>Label: 6",
          "Cluster ID: 6<br>Label: 6",
          "Cluster ID: 6<br>Label: 6",
          "Cluster ID: 6<br>Label: 6",
          "Cluster ID: 6<br>Label: 6",
          "Cluster ID: 6<br>Label: 6",
          "Cluster ID: 7<br>Label: 6",
          "Cluster ID: 7<br>Label: 6",
          "Cluster ID: 7<br>Label: 6",
          "Cluster ID: 7<br>Label: 6",
          "Cluster ID: 7<br>Label: 6",
          "Cluster ID: 7<br>Label: 6",
          "Cluster ID: 7<br>Label: 6",
          "Cluster ID: 7<br>Label: 6",
          "Cluster ID: 7<br>Label: 6",
          "Cluster ID: 7<br>Label: 6",
          "Cluster ID: 7<br>Label: 6",
          "Cluster ID: 7<br>Label: 6",
          "Cluster ID: 7<br>Label: 6",
          "Cluster ID: 7<br>Label: 6",
          "Cluster ID: 7<br>Label: 6",
          "Cluster ID: 7<br>Label: 6",
          "Cluster ID: 7<br>Label: 6",
          "Cluster ID: 7<br>Label: 6",
          "Cluster ID: 7<br>Label: 6",
          "Cluster ID: 7<br>Label: 6",
          "Cluster ID: 7<br>Label: 6",
          "Cluster ID: 7<br>Label: 6",
          "Cluster ID: 7<br>Label: 6",
          "Cluster ID: 7<br>Label: 6",
          "Cluster ID: 7<br>Label: 6",
          "Cluster ID: 7<br>Label: 6",
          "Cluster ID: 7<br>Label: 6",
          "Cluster ID: 7<br>Label: 6",
          "Cluster ID: 7<br>Label: 6",
          "Cluster ID: 7<br>Label: 6",
          "Cluster ID: 7<br>Label: 6",
          "Cluster ID: 7<br>Label: 6",
          "Cluster ID: 7<br>Label: 6",
          "Cluster ID: 7<br>Label: 6",
          "Cluster ID: 7<br>Label: 6",
          "Cluster ID: 7<br>Label: 6",
          "Cluster ID: 7<br>Label: 6",
          "Cluster ID: 7<br>Label: 6",
          "Cluster ID: 7<br>Label: 6",
          "Cluster ID: 7<br>Label: 6",
          "Cluster ID: 7<br>Label: 6",
          "Cluster ID: 7<br>Label: 6",
          "Cluster ID: 7<br>Label: 6",
          "Cluster ID: 7<br>Label: 6",
          "Cluster ID: 7<br>Label: 6",
          "Cluster ID: 7<br>Label: 6",
          "Cluster ID: 7<br>Label: 6",
          "Cluster ID: 7<br>Label: 6",
          "Cluster ID: 7<br>Label: 6",
          "Cluster ID: 7<br>Label: 6",
          "Cluster ID: 7<br>Label: 6",
          "Cluster ID: 7<br>Label: 6",
          "Cluster ID: 8<br>Label: 8",
          "Cluster ID: 8<br>Label: 8",
          "Cluster ID: 8<br>Label: 8",
          "Cluster ID: 8<br>Label: 8",
          "Cluster ID: 8<br>Label: 8",
          "Cluster ID: 8<br>Label: 8",
          "Cluster ID: 8<br>Label: 8",
          "Cluster ID: 8<br>Label: 8",
          "Cluster ID: 8<br>Label: 8",
          "Cluster ID: 8<br>Label: 8",
          "Cluster ID: 8<br>Label: 8",
          "Cluster ID: 8<br>Label: 8",
          "Cluster ID: 8<br>Label: 8",
          "Cluster ID: 8<br>Label: 8",
          "Cluster ID: 8<br>Label: 8",
          "Cluster ID: 8<br>Label: 8",
          "Cluster ID: 8<br>Label: 8",
          "Cluster ID: 8<br>Label: 8",
          "Cluster ID: 8<br>Label: 8",
          "Cluster ID: 8<br>Label: 8",
          "Cluster ID: 8<br>Label: 8",
          "Cluster ID: 8<br>Label: 8",
          "Cluster ID: 8<br>Label: 8",
          "Cluster ID: 8<br>Label: 8",
          "Cluster ID: 8<br>Label: 8",
          "Cluster ID: 8<br>Label: 8",
          "Cluster ID: 8<br>Label: 8",
          "Cluster ID: 8<br>Label: 8",
          "Cluster ID: 8<br>Label: 8",
          "Cluster ID: 8<br>Label: 8",
          "Cluster ID: 8<br>Label: 8",
          "Cluster ID: 8<br>Label: 8",
          "Cluster ID: 8<br>Label: 8",
          "Cluster ID: 8<br>Label: 8",
          "Cluster ID: 8<br>Label: 8",
          "Cluster ID: 8<br>Label: 8",
          "Cluster ID: 8<br>Label: 8",
          "Cluster ID: 8<br>Label: 8",
          "Cluster ID: 8<br>Label: 8"
         ],
         "type": "scatter3d",
         "x": [
          100,
          102,
          104,
          106,
          108,
          110,
          112,
          113,
          116,
          117,
          119,
          121,
          123,
          125,
          127,
          129,
          131,
          132,
          134,
          136,
          138,
          140,
          142,
          143,
          145,
          147,
          149,
          150,
          152,
          154,
          156,
          158,
          160,
          161,
          163,
          165,
          167,
          169,
          171,
          173,
          177,
          181,
          140,
          142,
          145,
          147,
          149,
          151,
          153,
          155,
          157,
          159,
          162,
          164,
          166,
          168,
          170,
          172,
          174,
          175,
          177,
          179,
          181,
          182,
          184,
          185,
          187,
          188,
          190,
          191,
          192,
          193,
          195,
          196,
          197,
          198,
          199,
          201,
          202,
          314,
          314,
          313,
          313,
          312,
          312,
          311,
          311,
          310,
          310,
          309,
          308,
          308,
          307,
          307,
          306,
          306,
          305,
          305,
          304,
          304,
          303,
          303,
          302,
          302,
          301,
          314,
          314,
          313,
          313,
          312,
          312,
          311,
          311,
          310,
          310,
          309,
          309,
          308,
          307,
          307,
          306,
          306,
          305,
          305,
          304,
          304,
          303,
          303,
          302,
          302,
          301,
          449,
          449,
          449,
          449,
          449,
          449,
          449,
          450,
          450,
          450,
          450,
          450,
          450,
          450,
          450,
          450,
          450,
          450,
          450,
          450,
          450,
          450,
          450,
          450,
          297,
          296,
          296,
          295,
          295,
          294,
          294,
          293,
          293,
          292,
          292,
          291,
          291,
          290,
          290,
          290,
          289,
          289,
          288,
          288,
          287,
          287,
          286,
          286,
          312,
          313,
          314,
          315,
          316,
          317,
          318,
          319,
          320,
          321,
          321,
          322,
          323,
          324,
          325,
          326,
          327,
          328,
          329,
          329,
          330,
          331,
          332,
          333,
          468,
          469,
          469,
          470,
          471,
          471,
          472,
          473,
          474,
          474,
          475,
          476,
          477,
          477,
          478,
          479,
          480,
          480,
          481,
          482,
          483,
          484,
          484,
          485,
          486,
          487,
          488,
          488,
          489,
          490,
          491,
          492,
          493,
          493,
          494,
          495,
          496,
          496,
          497,
          498,
          500,
          501,
          503,
          504,
          506,
          507,
          509,
          510,
          511,
          513,
          514,
          515,
          108,
          109,
          109,
          110,
          110,
          111,
          111,
          112,
          112,
          113,
          113,
          114,
          114,
          114,
          115,
          115,
          116,
          116,
          116,
          117,
          117,
          118,
          118,
          118,
          119,
          119,
          119,
          120,
          121,
          121,
          122,
          122,
          123,
          124,
          124,
          125,
          125,
          126,
          126
         ],
         "y": [
          276,
          275,
          275,
          275,
          275,
          275,
          275,
          275,
          275,
          275,
          274,
          274,
          274,
          274,
          274,
          274,
          273,
          273,
          273,
          273,
          272,
          272,
          272,
          271,
          271,
          270,
          270,
          269,
          269,
          268,
          267,
          266,
          265,
          265,
          264,
          263,
          262,
          261,
          260,
          259,
          256,
          254,
          176,
          175,
          174,
          173,
          172,
          171,
          170,
          169,
          168,
          167,
          166,
          165,
          164,
          163,
          162,
          161,
          160,
          159,
          158,
          157,
          157,
          156,
          155,
          154,
          153,
          153,
          152,
          151,
          150,
          150,
          149,
          148,
          147,
          147,
          146,
          145,
          144,
          109,
          110,
          111,
          112,
          113,
          114,
          115,
          116,
          117,
          118,
          119,
          120,
          122,
          123,
          124,
          125,
          126,
          127,
          128,
          129,
          130,
          131,
          132,
          133,
          134,
          135,
          109,
          110,
          111,
          112,
          113,
          114,
          115,
          116,
          117,
          118,
          119,
          120,
          122,
          123,
          124,
          125,
          126,
          127,
          128,
          129,
          130,
          131,
          132,
          133,
          134,
          135,
          190,
          188,
          187,
          186,
          184,
          183,
          182,
          180,
          179,
          177,
          176,
          175,
          173,
          172,
          171,
          169,
          168,
          166,
          165,
          164,
          162,
          161,
          159,
          158,
          202,
          203,
          204,
          205,
          205,
          206,
          207,
          208,
          209,
          209,
          210,
          211,
          212,
          212,
          213,
          214,
          214,
          215,
          216,
          217,
          217,
          218,
          219,
          220,
          378,
          378,
          378,
          378,
          378,
          378,
          378,
          378,
          378,
          378,
          378,
          378,
          378,
          377,
          377,
          377,
          377,
          377,
          377,
          377,
          377,
          377,
          377,
          377,
          364,
          364,
          364,
          364,
          364,
          364,
          363,
          363,
          363,
          363,
          363,
          362,
          362,
          362,
          362,
          362,
          362,
          361,
          361,
          361,
          361,
          361,
          360,
          360,
          360,
          360,
          360,
          359,
          359,
          359,
          359,
          358,
          358,
          358,
          358,
          357,
          357,
          357,
          356,
          356,
          355,
          355,
          354,
          353,
          352,
          352,
          351,
          350,
          349,
          348,
          348,
          347,
          647,
          646,
          646,
          645,
          645,
          644,
          644,
          643,
          643,
          642,
          642,
          641,
          641,
          640,
          640,
          639,
          639,
          639,
          638,
          638,
          637,
          637,
          636,
          636,
          635,
          635,
          635,
          634,
          633,
          632,
          631,
          630,
          629,
          628,
          626,
          625,
          624,
          623,
          622
         ],
         "z": [
          1355,
          1362,
          1369,
          1376,
          1384,
          1391,
          1398,
          1405,
          1413,
          1420,
          1427,
          1434,
          1442,
          1449,
          1456,
          1463,
          1471,
          1478,
          1485,
          1492,
          1500,
          1507,
          1515,
          1521,
          1529,
          1536,
          1544,
          1550,
          1558,
          1565,
          1573,
          1579,
          1587,
          1594,
          1602,
          1608,
          1616,
          1623,
          1631,
          1638,
          1654,
          1669,
          1355,
          1362,
          1369,
          1376,
          1384,
          1391,
          1398,
          1405,
          1413,
          1420,
          1427,
          1434,
          1442,
          1449,
          1456,
          1463,
          1471,
          1478,
          1485,
          1492,
          1500,
          1507,
          1515,
          1521,
          1529,
          1536,
          1544,
          1550,
          1558,
          1565,
          1573,
          1579,
          1587,
          1594,
          1602,
          1608,
          1616,
          1355,
          1362,
          1369,
          1376,
          1384,
          1391,
          1398,
          1405,
          1413,
          1420,
          1427,
          1434,
          1442,
          1449,
          1456,
          1463,
          1471,
          1478,
          1485,
          1492,
          1500,
          1507,
          1515,
          1521,
          1529,
          1536,
          1355,
          1362,
          1369,
          1376,
          1384,
          1391,
          1398,
          1405,
          1413,
          1420,
          1427,
          1434,
          1442,
          1449,
          1456,
          1463,
          1471,
          1478,
          1485,
          1492,
          1500,
          1507,
          1515,
          1521,
          1529,
          1536,
          8,
          15,
          23,
          29,
          37,
          44,
          52,
          58,
          66,
          73,
          81,
          87,
          95,
          102,
          110,
          117,
          124,
          131,
          139,
          146,
          153,
          160,
          168,
          175,
          8,
          15,
          23,
          29,
          37,
          44,
          52,
          58,
          66,
          73,
          81,
          87,
          95,
          102,
          110,
          117,
          124,
          131,
          139,
          146,
          153,
          160,
          168,
          175,
          8,
          15,
          23,
          29,
          37,
          44,
          52,
          58,
          66,
          73,
          81,
          87,
          95,
          102,
          110,
          117,
          124,
          131,
          139,
          146,
          153,
          160,
          168,
          175,
          1355,
          1362,
          1369,
          1376,
          1384,
          1391,
          1398,
          1405,
          1413,
          1420,
          1427,
          1434,
          1442,
          1449,
          1456,
          1463,
          1471,
          1478,
          1485,
          1492,
          1500,
          1507,
          1515,
          1521,
          1529,
          1536,
          1544,
          1550,
          1558,
          1565,
          1573,
          1579,
          1587,
          1594,
          1602,
          1608,
          1616,
          1623,
          1631,
          1638,
          1654,
          1669,
          1685,
          1700,
          1716,
          1732,
          1747,
          1763,
          1778,
          1794,
          1810,
          1825,
          1449,
          1456,
          1463,
          1471,
          1478,
          1485,
          1492,
          1500,
          1507,
          1515,
          1521,
          1529,
          1536,
          1544,
          1550,
          1558,
          1565,
          1573,
          1579,
          1587,
          1594,
          1602,
          1608,
          1616,
          1623,
          1631,
          1638,
          1654,
          1669,
          1685,
          1700,
          1716,
          1732,
          1747,
          1763,
          1778,
          1794,
          1810,
          1825
         ]
        },
        {
         "hovertemplate": "x: %{x}<br>y: %{y}<br>z: %{z}<br>%{text}",
         "line": {
          "color": [
           5.705371379852295,
           5.705371379852295,
           5.705371379852295,
           -3.5771431922912598,
           -3.5771431922912598,
           -3.5771431922912598,
           5.262665748596191,
           5.262665748596191,
           5.262665748596191,
           -3.3794898986816406,
           -3.3794898986816406,
           -3.3794898986816406,
           4.286213397979736,
           4.286213397979736,
           4.286213397979736,
           -3.2902817726135254,
           -3.2902817726135254,
           -3.2902817726135254,
           4.859094619750977,
           4.859094619750977,
           4.859094619750977,
           -3.305331230163574,
           -3.305331230163574,
           -3.305331230163574,
           4.286740779876709,
           4.286740779876709,
           4.286740779876709,
           -3.290698289871216,
           -3.290698289871216,
           -3.290698289871216,
           4.858862400054932,
           4.858862400054932,
           4.858862400054932,
           -3.305220127105713,
           -3.305220127105713,
           -3.305220127105713,
           4.585023403167725,
           4.585023403167725,
           4.585023403167725,
           -3.138963222503662,
           -3.138963222503662,
           -3.138963222503662,
           3.7212822437286377,
           3.7212822437286377,
           3.7212822437286377,
           -2.6781539916992188,
           -2.6781539916992188,
           -2.6781539916992188,
           3.176276683807373,
           3.176276683807373,
           3.176276683807373,
           -2.515643358230591,
           -2.515643358230591,
           -2.515643358230591,
           2.8501944541931152,
           2.8501944541931152,
           2.8501944541931152,
           -2.238849639892578,
           -2.238849639892578,
           -2.238849639892578,
           5.056557655334473,
           5.056557655334473,
           5.056557655334473,
           -4.181874752044678,
           -4.181874752044678,
           -4.181874752044678,
           5.743357181549072,
           5.743357181549072,
           5.743357181549072,
           -4.272388458251953,
           -4.272388458251953,
           -4.272388458251953,
           5.411291122436523,
           5.411291122436523,
           5.411291122436523,
           -4.307542324066162,
           -4.307542324066162,
           -4.307542324066162,
           5.903480529785156,
           5.903480529785156,
           5.903480529785156,
           -4.321298122406006,
           -4.321298122406006,
           -4.321298122406006,
           5.278411388397217,
           5.278411388397217,
           5.278411388397217,
           -3.2805986404418945,
           -3.2805986404418945,
           -3.2805986404418945,
           4.755738258361816,
           4.755738258361816,
           4.755738258361816,
           -2.9717442989349365,
           -2.9717442989349365,
           -2.9717442989349365,
           4.492350101470947,
           4.492350101470947,
           4.492350101470947,
           -3.480473518371582,
           -3.480473518371582,
           -3.480473518371582,
           4.80979061126709,
           4.80979061126709,
           4.80979061126709,
           -3.3867976665496826,
           -3.3867976665496826,
           -3.3867976665496826,
           4.492812633514404,
           4.492812633514404,
           4.492812633514404,
           -3.4808785915374756,
           -3.4808785915374756,
           -3.4808785915374756,
           4.809344291687012,
           4.809344291687012,
           4.809344291687012,
           -3.386521816253662,
           -3.386521816253662,
           -3.386521816253662,
           4.398387908935547,
           4.398387908935547,
           4.398387908935547,
           -2.9823975563049316,
           -2.9823975563049316,
           -2.9823975563049316,
           3.6775970458984375,
           3.6775970458984375,
           3.6775970458984375,
           -2.565282106399536,
           -2.565282106399536,
           -2.565282106399536,
           3.7453556060791016,
           3.7453556060791016,
           3.7453556060791016,
           -3.0455446243286133,
           -3.0455446243286133,
           -3.0455446243286133,
           3.199361801147461,
           3.199361801147461,
           3.199361801147461,
           -2.559515953063965,
           -2.559515953063965,
           -2.559515953063965,
           5.003849506378174,
           5.003849506378174,
           5.003849506378174,
           -4.172881126403809,
           -4.172881126403809,
           -4.172881126403809,
           5.767913818359375,
           5.767913818359375,
           5.767913818359375,
           -4.289607048034668,
           -4.289607048034668,
           -4.289607048034668,
           5.298067092895508,
           5.298067092895508,
           5.298067092895508,
           -4.241615295410156,
           -4.241615295410156,
           -4.241615295410156,
           6.1808247566223145,
           6.1808247566223145,
           6.1808247566223145,
           -4.415201187133789,
           -4.415201187133789,
           -4.415201187133789,
           4.764008045196533,
           4.764008045196533,
           4.764008045196533,
           -3.0174875259399414,
           -3.0174875259399414,
           -3.0174875259399414,
           4.917935848236084,
           4.917935848236084,
           4.917935848236084,
           -3.1117489337921143,
           -3.1117489337921143,
           -3.1117489337921143,
           5.294018745422363,
           5.294018745422363,
           5.294018745422363,
           -3.3873229026794434,
           -3.3873229026794434,
           -3.3873229026794434,
           5.294012069702148,
           5.294012069702148,
           5.294012069702148,
           -3.3872969150543213,
           -3.3872969150543213,
           -3.3872969150543213,
           4.242092132568359,
           4.242092132568359,
           4.242092132568359,
           -3.388033866882324,
           -3.388033866882324,
           -3.388033866882324,
           4.232716083526611,
           4.232716083526611,
           4.232716083526611,
           -3.503413438796997,
           -3.503413438796997,
           -3.503413438796997,
           2.3567728996276855,
           2.3567728996276855,
           2.3567728996276855,
           -2.1056981086730957,
           -2.1056981086730957,
           -2.1056981086730957,
           2.207159996032715,
           2.207159996032715,
           2.207159996032715,
           -1.7744319438934326,
           -1.7744319438934326,
           -1.7744319438934326,
           4.854135513305664,
           4.854135513305664,
           4.854135513305664,
           -4.2469563484191895,
           -4.2469563484191895,
           -4.2469563484191895,
           6.2620368003845215,
           6.2620368003845215,
           6.2620368003845215,
           -4.608563423156738,
           -4.608563423156738,
           -4.608563423156738,
           5.091195583343506,
           5.091195583343506,
           5.091195583343506,
           -4.335585117340088,
           -4.335585117340088,
           -4.335585117340088,
           6.343782901763916,
           6.343782901763916,
           6.343782901763916,
           -4.661584377288818,
           -4.661584377288818,
           -4.661584377288818,
           5.277948379516602,
           5.277948379516602,
           5.277948379516602,
           -3.331851005554199,
           -3.331851005554199,
           -3.331851005554199,
           3.6460888385772705,
           3.6460888385772705,
           3.6460888385772705,
           -2.8328006267547607,
           -2.8328006267547607,
           -2.8328006267547607,
           4.242568492889404,
           4.242568492889404,
           4.242568492889404,
           -3.388516664505005,
           -3.388516664505005,
           -3.388516664505005,
           4.233126640319824,
           4.233126640319824,
           4.233126640319824,
           -3.5038259029388428,
           -3.5038259029388428,
           -3.5038259029388428,
           2.3575592041015625,
           2.3575592041015625,
           2.3575592041015625,
           -2.1065471172332764,
           -2.1065471172332764,
           -2.1065471172332764,
           2.207024097442627,
           2.207024097442627,
           2.207024097442627,
           -1.7742726802825928,
           -1.7742726802825928,
           -1.7742726802825928,
           4.854393482208252,
           4.854393482208252,
           4.854393482208252,
           -4.247123718261719,
           -4.247123718261719,
           -4.247123718261719,
           6.262457370758057,
           6.262457370758057,
           6.262457370758057,
           -4.60885763168335,
           -4.60885763168335,
           -4.60885763168335,
           5.091132640838623,
           5.091132640838623,
           5.091132640838623,
           -4.335536479949951,
           -4.335536479949951,
           -4.335536479949951,
           6.3442888259887695,
           6.3442888259887695,
           6.3442888259887695,
           -4.661922454833984,
           -4.661922454833984,
           -4.661922454833984,
           5.277599811553955,
           5.277599811553955,
           5.277599811553955,
           -3.331745147705078,
           -3.331745147705078,
           -3.331745147705078,
           3.6464216709136963,
           3.6464216709136963,
           3.6464216709136963,
           -2.833162784576416,
           -2.833162784576416,
           -2.833162784576416,
           4.439616680145264,
           4.439616680145264,
           4.439616680145264,
           -3.3183741569519043,
           -3.3183741569519043,
           -3.3183741569519043,
           5.129086494445801,
           5.129086494445801,
           5.129086494445801,
           -3.4996821880340576,
           -3.4996821880340576,
           -3.4996821880340576,
           5.753468036651611,
           5.753468036651611,
           5.753468036651611,
           -4.561678886413574,
           -4.561678886413574,
           -4.561678886413574,
           6.172801494598389,
           6.172801494598389,
           6.172801494598389,
           -4.437459945678711,
           -4.437459945678711,
           -4.437459945678711,
           5.386976718902588,
           5.386976718902588,
           5.386976718902588,
           -4.325286388397217,
           -4.325286388397217,
           -4.325286388397217,
           6.008088111877441,
           6.008088111877441,
           6.008088111877441,
           -4.239564418792725,
           -4.239564418792725,
           -4.239564418792725,
           4.151479721069336,
           4.151479721069336,
           4.151479721069336,
           -2.841183662414551,
           -2.841183662414551,
           -2.841183662414551,
           4.578620433807373,
           4.578620433807373,
           4.578620433807373,
           -3.37791109085083,
           -3.37791109085083,
           -3.37791109085083,
           5.495920658111572,
           5.495920658111572,
           5.495920658111572,
           -4.3432440757751465,
           -4.3432440757751465,
           -4.3432440757751465,
           6.084941387176514,
           6.084941387176514,
           6.084941387176514,
           -4.344616413116455,
           -4.344616413116455,
           -4.344616413116455,
           4.688101291656494,
           4.688101291656494,
           4.688101291656494,
           -4.000515937805176,
           -4.000515937805176,
           -4.000515937805176,
           6.034477233886719,
           6.034477233886719,
           6.034477233886719,
           -4.267226219177246,
           -4.267226219177246,
           -4.267226219177246,
           3.3760831356048584,
           3.3760831356048584,
           3.3760831356048584,
           -2.250220775604248,
           -2.250220775604248,
           -2.250220775604248,
           2.521313190460205,
           2.521313190460205,
           2.521313190460205,
           -1.795458197593689,
           -1.795458197593689,
           -1.795458197593689,
           -4.320981025695801,
           -4.320981025695801,
           -4.320981025695801,
           3.4119207859039307,
           3.4119207859039307,
           3.4119207859039307,
           -4.106422424316406,
           -4.106422424316406,
           -4.106422424316406,
           3.221452236175537,
           3.221452236175537,
           3.221452236175537,
           5.89193058013916,
           5.89193058013916,
           5.89193058013916,
           -4.3625617027282715,
           -4.3625617027282715,
           -4.3625617027282715,
           4.887964248657227,
           4.887964248657227,
           4.887964248657227,
           -4.073724746704102,
           -4.073724746704102,
           -4.073724746704102,
           6.184765338897705,
           6.184765338897705,
           6.184765338897705,
           -4.417020320892334,
           -4.417020320892334,
           -4.417020320892334,
           5.2803497314453125,
           5.2803497314453125,
           5.2803497314453125,
           -4.182784557342529,
           -4.182784557342529,
           -4.182784557342529
          ],
          "width": 2
         },
         "mode": "lines",
         "name": " edges",
         "text": [
          "Value: 5.705371379852295",
          "Value: 5.705371379852295",
          "Value: 5.705371379852295",
          "Value: -3.5771431922912598",
          "Value: -3.5771431922912598",
          "Value: -3.5771431922912598",
          "Value: 5.262665748596191",
          "Value: 5.262665748596191",
          "Value: 5.262665748596191",
          "Value: -3.3794898986816406",
          "Value: -3.3794898986816406",
          "Value: -3.3794898986816406",
          "Value: 4.286213397979736",
          "Value: 4.286213397979736",
          "Value: 4.286213397979736",
          "Value: -3.2902817726135254",
          "Value: -3.2902817726135254",
          "Value: -3.2902817726135254",
          "Value: 4.859094619750977",
          "Value: 4.859094619750977",
          "Value: 4.859094619750977",
          "Value: -3.305331230163574",
          "Value: -3.305331230163574",
          "Value: -3.305331230163574",
          "Value: 4.286740779876709",
          "Value: 4.286740779876709",
          "Value: 4.286740779876709",
          "Value: -3.290698289871216",
          "Value: -3.290698289871216",
          "Value: -3.290698289871216",
          "Value: 4.858862400054932",
          "Value: 4.858862400054932",
          "Value: 4.858862400054932",
          "Value: -3.305220127105713",
          "Value: -3.305220127105713",
          "Value: -3.305220127105713",
          "Value: 4.585023403167725",
          "Value: 4.585023403167725",
          "Value: 4.585023403167725",
          "Value: -3.138963222503662",
          "Value: -3.138963222503662",
          "Value: -3.138963222503662",
          "Value: 3.7212822437286377",
          "Value: 3.7212822437286377",
          "Value: 3.7212822437286377",
          "Value: -2.6781539916992188",
          "Value: -2.6781539916992188",
          "Value: -2.6781539916992188",
          "Value: 3.176276683807373",
          "Value: 3.176276683807373",
          "Value: 3.176276683807373",
          "Value: -2.515643358230591",
          "Value: -2.515643358230591",
          "Value: -2.515643358230591",
          "Value: 2.8501944541931152",
          "Value: 2.8501944541931152",
          "Value: 2.8501944541931152",
          "Value: -2.238849639892578",
          "Value: -2.238849639892578",
          "Value: -2.238849639892578",
          "Value: 5.056557655334473",
          "Value: 5.056557655334473",
          "Value: 5.056557655334473",
          "Value: -4.181874752044678",
          "Value: -4.181874752044678",
          "Value: -4.181874752044678",
          "Value: 5.743357181549072",
          "Value: 5.743357181549072",
          "Value: 5.743357181549072",
          "Value: -4.272388458251953",
          "Value: -4.272388458251953",
          "Value: -4.272388458251953",
          "Value: 5.411291122436523",
          "Value: 5.411291122436523",
          "Value: 5.411291122436523",
          "Value: -4.307542324066162",
          "Value: -4.307542324066162",
          "Value: -4.307542324066162",
          "Value: 5.903480529785156",
          "Value: 5.903480529785156",
          "Value: 5.903480529785156",
          "Value: -4.321298122406006",
          "Value: -4.321298122406006",
          "Value: -4.321298122406006",
          "Value: 5.278411388397217",
          "Value: 5.278411388397217",
          "Value: 5.278411388397217",
          "Value: -3.2805986404418945",
          "Value: -3.2805986404418945",
          "Value: -3.2805986404418945",
          "Value: 4.755738258361816",
          "Value: 4.755738258361816",
          "Value: 4.755738258361816",
          "Value: -2.9717442989349365",
          "Value: -2.9717442989349365",
          "Value: -2.9717442989349365",
          "Value: 4.492350101470947",
          "Value: 4.492350101470947",
          "Value: 4.492350101470947",
          "Value: -3.480473518371582",
          "Value: -3.480473518371582",
          "Value: -3.480473518371582",
          "Value: 4.80979061126709",
          "Value: 4.80979061126709",
          "Value: 4.80979061126709",
          "Value: -3.3867976665496826",
          "Value: -3.3867976665496826",
          "Value: -3.3867976665496826",
          "Value: 4.492812633514404",
          "Value: 4.492812633514404",
          "Value: 4.492812633514404",
          "Value: -3.4808785915374756",
          "Value: -3.4808785915374756",
          "Value: -3.4808785915374756",
          "Value: 4.809344291687012",
          "Value: 4.809344291687012",
          "Value: 4.809344291687012",
          "Value: -3.386521816253662",
          "Value: -3.386521816253662",
          "Value: -3.386521816253662",
          "Value: 4.398387908935547",
          "Value: 4.398387908935547",
          "Value: 4.398387908935547",
          "Value: -2.9823975563049316",
          "Value: -2.9823975563049316",
          "Value: -2.9823975563049316",
          "Value: 3.6775970458984375",
          "Value: 3.6775970458984375",
          "Value: 3.6775970458984375",
          "Value: -2.565282106399536",
          "Value: -2.565282106399536",
          "Value: -2.565282106399536",
          "Value: 3.7453556060791016",
          "Value: 3.7453556060791016",
          "Value: 3.7453556060791016",
          "Value: -3.0455446243286133",
          "Value: -3.0455446243286133",
          "Value: -3.0455446243286133",
          "Value: 3.199361801147461",
          "Value: 3.199361801147461",
          "Value: 3.199361801147461",
          "Value: -2.559515953063965",
          "Value: -2.559515953063965",
          "Value: -2.559515953063965",
          "Value: 5.003849506378174",
          "Value: 5.003849506378174",
          "Value: 5.003849506378174",
          "Value: -4.172881126403809",
          "Value: -4.172881126403809",
          "Value: -4.172881126403809",
          "Value: 5.767913818359375",
          "Value: 5.767913818359375",
          "Value: 5.767913818359375",
          "Value: -4.289607048034668",
          "Value: -4.289607048034668",
          "Value: -4.289607048034668",
          "Value: 5.298067092895508",
          "Value: 5.298067092895508",
          "Value: 5.298067092895508",
          "Value: -4.241615295410156",
          "Value: -4.241615295410156",
          "Value: -4.241615295410156",
          "Value: 6.1808247566223145",
          "Value: 6.1808247566223145",
          "Value: 6.1808247566223145",
          "Value: -4.415201187133789",
          "Value: -4.415201187133789",
          "Value: -4.415201187133789",
          "Value: 4.764008045196533",
          "Value: 4.764008045196533",
          "Value: 4.764008045196533",
          "Value: -3.0174875259399414",
          "Value: -3.0174875259399414",
          "Value: -3.0174875259399414",
          "Value: 4.917935848236084",
          "Value: 4.917935848236084",
          "Value: 4.917935848236084",
          "Value: -3.1117489337921143",
          "Value: -3.1117489337921143",
          "Value: -3.1117489337921143",
          "Value: 5.294018745422363",
          "Value: 5.294018745422363",
          "Value: 5.294018745422363",
          "Value: -3.3873229026794434",
          "Value: -3.3873229026794434",
          "Value: -3.3873229026794434",
          "Value: 5.294012069702148",
          "Value: 5.294012069702148",
          "Value: 5.294012069702148",
          "Value: -3.3872969150543213",
          "Value: -3.3872969150543213",
          "Value: -3.3872969150543213",
          "Value: 4.242092132568359",
          "Value: 4.242092132568359",
          "Value: 4.242092132568359",
          "Value: -3.388033866882324",
          "Value: -3.388033866882324",
          "Value: -3.388033866882324",
          "Value: 4.232716083526611",
          "Value: 4.232716083526611",
          "Value: 4.232716083526611",
          "Value: -3.503413438796997",
          "Value: -3.503413438796997",
          "Value: -3.503413438796997",
          "Value: 2.3567728996276855",
          "Value: 2.3567728996276855",
          "Value: 2.3567728996276855",
          "Value: -2.1056981086730957",
          "Value: -2.1056981086730957",
          "Value: -2.1056981086730957",
          "Value: 2.207159996032715",
          "Value: 2.207159996032715",
          "Value: 2.207159996032715",
          "Value: -1.7744319438934326",
          "Value: -1.7744319438934326",
          "Value: -1.7744319438934326",
          "Value: 4.854135513305664",
          "Value: 4.854135513305664",
          "Value: 4.854135513305664",
          "Value: -4.2469563484191895",
          "Value: -4.2469563484191895",
          "Value: -4.2469563484191895",
          "Value: 6.2620368003845215",
          "Value: 6.2620368003845215",
          "Value: 6.2620368003845215",
          "Value: -4.608563423156738",
          "Value: -4.608563423156738",
          "Value: -4.608563423156738",
          "Value: 5.091195583343506",
          "Value: 5.091195583343506",
          "Value: 5.091195583343506",
          "Value: -4.335585117340088",
          "Value: -4.335585117340088",
          "Value: -4.335585117340088",
          "Value: 6.343782901763916",
          "Value: 6.343782901763916",
          "Value: 6.343782901763916",
          "Value: -4.661584377288818",
          "Value: -4.661584377288818",
          "Value: -4.661584377288818",
          "Value: 5.277948379516602",
          "Value: 5.277948379516602",
          "Value: 5.277948379516602",
          "Value: -3.331851005554199",
          "Value: -3.331851005554199",
          "Value: -3.331851005554199",
          "Value: 3.6460888385772705",
          "Value: 3.6460888385772705",
          "Value: 3.6460888385772705",
          "Value: -2.8328006267547607",
          "Value: -2.8328006267547607",
          "Value: -2.8328006267547607",
          "Value: 4.242568492889404",
          "Value: 4.242568492889404",
          "Value: 4.242568492889404",
          "Value: -3.388516664505005",
          "Value: -3.388516664505005",
          "Value: -3.388516664505005",
          "Value: 4.233126640319824",
          "Value: 4.233126640319824",
          "Value: 4.233126640319824",
          "Value: -3.5038259029388428",
          "Value: -3.5038259029388428",
          "Value: -3.5038259029388428",
          "Value: 2.3575592041015625",
          "Value: 2.3575592041015625",
          "Value: 2.3575592041015625",
          "Value: -2.1065471172332764",
          "Value: -2.1065471172332764",
          "Value: -2.1065471172332764",
          "Value: 2.207024097442627",
          "Value: 2.207024097442627",
          "Value: 2.207024097442627",
          "Value: -1.7742726802825928",
          "Value: -1.7742726802825928",
          "Value: -1.7742726802825928",
          "Value: 4.854393482208252",
          "Value: 4.854393482208252",
          "Value: 4.854393482208252",
          "Value: -4.247123718261719",
          "Value: -4.247123718261719",
          "Value: -4.247123718261719",
          "Value: 6.262457370758057",
          "Value: 6.262457370758057",
          "Value: 6.262457370758057",
          "Value: -4.60885763168335",
          "Value: -4.60885763168335",
          "Value: -4.60885763168335",
          "Value: 5.091132640838623",
          "Value: 5.091132640838623",
          "Value: 5.091132640838623",
          "Value: -4.335536479949951",
          "Value: -4.335536479949951",
          "Value: -4.335536479949951",
          "Value: 6.3442888259887695",
          "Value: 6.3442888259887695",
          "Value: 6.3442888259887695",
          "Value: -4.661922454833984",
          "Value: -4.661922454833984",
          "Value: -4.661922454833984",
          "Value: 5.277599811553955",
          "Value: 5.277599811553955",
          "Value: 5.277599811553955",
          "Value: -3.331745147705078",
          "Value: -3.331745147705078",
          "Value: -3.331745147705078",
          "Value: 3.6464216709136963",
          "Value: 3.6464216709136963",
          "Value: 3.6464216709136963",
          "Value: -2.833162784576416",
          "Value: -2.833162784576416",
          "Value: -2.833162784576416",
          "Value: 4.439616680145264",
          "Value: 4.439616680145264",
          "Value: 4.439616680145264",
          "Value: -3.3183741569519043",
          "Value: -3.3183741569519043",
          "Value: -3.3183741569519043",
          "Value: 5.129086494445801",
          "Value: 5.129086494445801",
          "Value: 5.129086494445801",
          "Value: -3.4996821880340576",
          "Value: -3.4996821880340576",
          "Value: -3.4996821880340576",
          "Value: 5.753468036651611",
          "Value: 5.753468036651611",
          "Value: 5.753468036651611",
          "Value: -4.561678886413574",
          "Value: -4.561678886413574",
          "Value: -4.561678886413574",
          "Value: 6.172801494598389",
          "Value: 6.172801494598389",
          "Value: 6.172801494598389",
          "Value: -4.437459945678711",
          "Value: -4.437459945678711",
          "Value: -4.437459945678711",
          "Value: 5.386976718902588",
          "Value: 5.386976718902588",
          "Value: 5.386976718902588",
          "Value: -4.325286388397217",
          "Value: -4.325286388397217",
          "Value: -4.325286388397217",
          "Value: 6.008088111877441",
          "Value: 6.008088111877441",
          "Value: 6.008088111877441",
          "Value: -4.239564418792725",
          "Value: -4.239564418792725",
          "Value: -4.239564418792725",
          "Value: 4.151479721069336",
          "Value: 4.151479721069336",
          "Value: 4.151479721069336",
          "Value: -2.841183662414551",
          "Value: -2.841183662414551",
          "Value: -2.841183662414551",
          "Value: 4.578620433807373",
          "Value: 4.578620433807373",
          "Value: 4.578620433807373",
          "Value: -3.37791109085083",
          "Value: -3.37791109085083",
          "Value: -3.37791109085083",
          "Value: 5.495920658111572",
          "Value: 5.495920658111572",
          "Value: 5.495920658111572",
          "Value: -4.3432440757751465",
          "Value: -4.3432440757751465",
          "Value: -4.3432440757751465",
          "Value: 6.084941387176514",
          "Value: 6.084941387176514",
          "Value: 6.084941387176514",
          "Value: -4.344616413116455",
          "Value: -4.344616413116455",
          "Value: -4.344616413116455",
          "Value: 4.688101291656494",
          "Value: 4.688101291656494",
          "Value: 4.688101291656494",
          "Value: -4.000515937805176",
          "Value: -4.000515937805176",
          "Value: -4.000515937805176",
          "Value: 6.034477233886719",
          "Value: 6.034477233886719",
          "Value: 6.034477233886719",
          "Value: -4.267226219177246",
          "Value: -4.267226219177246",
          "Value: -4.267226219177246",
          "Value: 3.3760831356048584",
          "Value: 3.3760831356048584",
          "Value: 3.3760831356048584",
          "Value: -2.250220775604248",
          "Value: -2.250220775604248",
          "Value: -2.250220775604248",
          "Value: 2.521313190460205",
          "Value: 2.521313190460205",
          "Value: 2.521313190460205",
          "Value: -1.795458197593689",
          "Value: -1.795458197593689",
          "Value: -1.795458197593689",
          "Value: -4.320981025695801",
          "Value: -4.320981025695801",
          "Value: -4.320981025695801",
          "Value: 3.4119207859039307",
          "Value: 3.4119207859039307",
          "Value: 3.4119207859039307",
          "Value: -4.106422424316406",
          "Value: -4.106422424316406",
          "Value: -4.106422424316406",
          "Value: 3.221452236175537",
          "Value: 3.221452236175537",
          "Value: 3.221452236175537",
          "Value: 5.89193058013916",
          "Value: 5.89193058013916",
          "Value: 5.89193058013916",
          "Value: -4.3625617027282715",
          "Value: -4.3625617027282715",
          "Value: -4.3625617027282715",
          "Value: 4.887964248657227",
          "Value: 4.887964248657227",
          "Value: 4.887964248657227",
          "Value: -4.073724746704102",
          "Value: -4.073724746704102",
          "Value: -4.073724746704102",
          "Value: 6.184765338897705",
          "Value: 6.184765338897705",
          "Value: 6.184765338897705",
          "Value: -4.417020320892334",
          "Value: -4.417020320892334",
          "Value: -4.417020320892334",
          "Value: 5.2803497314453125",
          "Value: 5.2803497314453125",
          "Value: 5.2803497314453125",
          "Value: -4.182784557342529",
          "Value: -4.182784557342529",
          "Value: -4.182784557342529"
         ],
         "type": "scatter3d",
         "x": [
          333,
          468,
          null,
          468,
          333,
          null
         ],
         "y": [
          377,
          364,
          null,
          364,
          377,
          null
         ],
         "z": [
          175,
          1355,
          null,
          1355,
          175,
          null
         ]
        },
        {
         "line": {
          "color": "black",
          "width": 2
         },
         "mode": "lines",
         "type": "scatter3d",
         "x": [
          146,
          572,
          572,
          146,
          146
         ],
         "y": [
          276,
          276,
          689,
          689,
          276
         ],
         "z": [
          584,
          584,
          584,
          584,
          584
         ]
        },
        {
         "line": {
          "color": "black",
          "width": 2
         },
         "mode": "lines",
         "type": "scatter3d",
         "x": [
          146,
          572,
          572,
          146,
          146
         ],
         "y": [
          276,
          276,
          689,
          689,
          276
         ],
         "z": [
          1014,
          1014,
          1014,
          1014,
          1014
         ]
        },
        {
         "line": {
          "color": "black",
          "width": 2
         },
         "mode": "lines",
         "type": "scatter3d",
         "x": [
          146,
          146
         ],
         "y": [
          276,
          276
         ],
         "z": [
          584,
          1014
         ]
        },
        {
         "line": {
          "color": "black",
          "width": 2
         },
         "mode": "lines",
         "type": "scatter3d",
         "x": [
          572,
          572
         ],
         "y": [
          276,
          276
         ],
         "z": [
          584,
          1014
         ]
        },
        {
         "line": {
          "color": "black",
          "width": 2
         },
         "mode": "lines",
         "type": "scatter3d",
         "x": [
          572,
          572
         ],
         "y": [
          689,
          689
         ],
         "z": [
          584,
          1014
         ]
        },
        {
         "line": {
          "color": "black",
          "width": 2
         },
         "mode": "lines",
         "type": "scatter3d",
         "x": [
          146,
          146
         ],
         "y": [
          689,
          689
         ],
         "z": [
          584,
          1014
         ]
        },
        {
         "line": {
          "color": "black"
         },
         "mode": "lines",
         "type": "scatter3d",
         "x": [
          359,
          719
         ],
         "y": [
          0,
          199
         ],
         "z": [
          1346,
          1346
         ]
        },
        {
         "line": {
          "color": "black"
         },
         "mode": "lines",
         "type": "scatter3d",
         "x": [
          359,
          719
         ],
         "y": [
          0,
          199
         ],
         "z": [
          1833,
          1833
         ]
        },
        {
         "line": {
          "color": "black"
         },
         "mode": "lines",
         "type": "scatter3d",
         "x": [
          359,
          359
         ],
         "y": [
          0,
          0
         ],
         "z": [
          1346,
          1833
         ]
        },
        {
         "line": {
          "color": "black"
         },
         "mode": "lines",
         "type": "scatter3d",
         "x": [
          719,
          719
         ],
         "y": [
          199,
          619
         ],
         "z": [
          1346,
          1346
         ]
        },
        {
         "line": {
          "color": "black"
         },
         "mode": "lines",
         "type": "scatter3d",
         "x": [
          719,
          719
         ],
         "y": [
          199,
          619
         ],
         "z": [
          1833,
          1833
         ]
        },
        {
         "line": {
          "color": "black"
         },
         "mode": "lines",
         "type": "scatter3d",
         "x": [
          719,
          719
         ],
         "y": [
          199,
          199
         ],
         "z": [
          1346,
          1833
         ]
        },
        {
         "line": {
          "color": "black"
         },
         "mode": "lines",
         "type": "scatter3d",
         "x": [
          719,
          359
         ],
         "y": [
          619,
          816
         ],
         "z": [
          1346,
          1346
         ]
        },
        {
         "line": {
          "color": "black"
         },
         "mode": "lines",
         "type": "scatter3d",
         "x": [
          719,
          359
         ],
         "y": [
          619,
          816
         ],
         "z": [
          1833,
          1833
         ]
        },
        {
         "line": {
          "color": "black"
         },
         "mode": "lines",
         "type": "scatter3d",
         "x": [
          719,
          719
         ],
         "y": [
          619,
          619
         ],
         "z": [
          1346,
          1833
         ]
        },
        {
         "line": {
          "color": "black"
         },
         "mode": "lines",
         "type": "scatter3d",
         "x": [
          359,
          0
         ],
         "y": [
          816,
          612
         ],
         "z": [
          1346,
          1346
         ]
        },
        {
         "line": {
          "color": "black"
         },
         "mode": "lines",
         "type": "scatter3d",
         "x": [
          359,
          0
         ],
         "y": [
          816,
          612
         ],
         "z": [
          1833,
          1833
         ]
        },
        {
         "line": {
          "color": "black"
         },
         "mode": "lines",
         "type": "scatter3d",
         "x": [
          359,
          359
         ],
         "y": [
          816,
          816
         ],
         "z": [
          1346,
          1833
         ]
        },
        {
         "line": {
          "color": "black"
         },
         "mode": "lines",
         "type": "scatter3d",
         "x": [
          0,
          0
         ],
         "y": [
          612,
          199
         ],
         "z": [
          1346,
          1346
         ]
        },
        {
         "line": {
          "color": "black"
         },
         "mode": "lines",
         "type": "scatter3d",
         "x": [
          0,
          0
         ],
         "y": [
          612,
          199
         ],
         "z": [
          1833,
          1833
         ]
        },
        {
         "line": {
          "color": "black"
         },
         "mode": "lines",
         "type": "scatter3d",
         "x": [
          0,
          0
         ],
         "y": [
          612,
          612
         ],
         "z": [
          1346,
          1833
         ]
        },
        {
         "line": {
          "color": "black"
         },
         "mode": "lines",
         "type": "scatter3d",
         "x": [
          0,
          359
         ],
         "y": [
          199,
          0
         ],
         "z": [
          1346,
          1346
         ]
        },
        {
         "line": {
          "color": "black"
         },
         "mode": "lines",
         "type": "scatter3d",
         "x": [
          0,
          359
         ],
         "y": [
          199,
          0
         ],
         "z": [
          1833,
          1833
         ]
        },
        {
         "line": {
          "color": "black"
         },
         "mode": "lines",
         "type": "scatter3d",
         "x": [
          0,
          0
         ],
         "y": [
          199,
          199
         ],
         "z": [
          1346,
          1833
         ]
        },
        {
         "line": {
          "color": "black"
         },
         "mode": "lines",
         "type": "scatter3d",
         "x": [
          359,
          719
         ],
         "y": [
          0,
          199
         ],
         "z": [
          0,
          0
         ]
        },
        {
         "line": {
          "color": "black"
         },
         "mode": "lines",
         "type": "scatter3d",
         "x": [
          359,
          719
         ],
         "y": [
          0,
          199
         ],
         "z": [
          166,
          166
         ]
        },
        {
         "line": {
          "color": "black"
         },
         "mode": "lines",
         "type": "scatter3d",
         "x": [
          359,
          359
         ],
         "y": [
          0,
          0
         ],
         "z": [
          0,
          166
         ]
        },
        {
         "line": {
          "color": "black"
         },
         "mode": "lines",
         "type": "scatter3d",
         "x": [
          719,
          719
         ],
         "y": [
          199,
          619
         ],
         "z": [
          0,
          0
         ]
        },
        {
         "line": {
          "color": "black"
         },
         "mode": "lines",
         "type": "scatter3d",
         "x": [
          719,
          719
         ],
         "y": [
          199,
          619
         ],
         "z": [
          166,
          166
         ]
        },
        {
         "line": {
          "color": "black"
         },
         "mode": "lines",
         "type": "scatter3d",
         "x": [
          719,
          719
         ],
         "y": [
          199,
          199
         ],
         "z": [
          0,
          166
         ]
        },
        {
         "line": {
          "color": "black"
         },
         "mode": "lines",
         "type": "scatter3d",
         "x": [
          719,
          359
         ],
         "y": [
          619,
          816
         ],
         "z": [
          0,
          0
         ]
        },
        {
         "line": {
          "color": "black"
         },
         "mode": "lines",
         "type": "scatter3d",
         "x": [
          719,
          359
         ],
         "y": [
          619,
          816
         ],
         "z": [
          166,
          166
         ]
        },
        {
         "line": {
          "color": "black"
         },
         "mode": "lines",
         "type": "scatter3d",
         "x": [
          719,
          719
         ],
         "y": [
          619,
          619
         ],
         "z": [
          0,
          166
         ]
        },
        {
         "line": {
          "color": "black"
         },
         "mode": "lines",
         "type": "scatter3d",
         "x": [
          359,
          0
         ],
         "y": [
          816,
          612
         ],
         "z": [
          0,
          0
         ]
        },
        {
         "line": {
          "color": "black"
         },
         "mode": "lines",
         "type": "scatter3d",
         "x": [
          359,
          0
         ],
         "y": [
          816,
          612
         ],
         "z": [
          166,
          166
         ]
        },
        {
         "line": {
          "color": "black"
         },
         "mode": "lines",
         "type": "scatter3d",
         "x": [
          359,
          359
         ],
         "y": [
          816,
          816
         ],
         "z": [
          0,
          166
         ]
        },
        {
         "line": {
          "color": "black"
         },
         "mode": "lines",
         "type": "scatter3d",
         "x": [
          0,
          0
         ],
         "y": [
          612,
          199
         ],
         "z": [
          0,
          0
         ]
        },
        {
         "line": {
          "color": "black"
         },
         "mode": "lines",
         "type": "scatter3d",
         "x": [
          0,
          0
         ],
         "y": [
          612,
          199
         ],
         "z": [
          166,
          166
         ]
        },
        {
         "line": {
          "color": "black"
         },
         "mode": "lines",
         "type": "scatter3d",
         "x": [
          0,
          0
         ],
         "y": [
          612,
          612
         ],
         "z": [
          0,
          166
         ]
        },
        {
         "line": {
          "color": "black"
         },
         "mode": "lines",
         "type": "scatter3d",
         "x": [
          0,
          359
         ],
         "y": [
          199,
          0
         ],
         "z": [
          0,
          0
         ]
        },
        {
         "line": {
          "color": "black"
         },
         "mode": "lines",
         "type": "scatter3d",
         "x": [
          0,
          359
         ],
         "y": [
          199,
          0
         ],
         "z": [
          166,
          166
         ]
        },
        {
         "line": {
          "color": "black"
         },
         "mode": "lines",
         "type": "scatter3d",
         "x": [
          0,
          0
         ],
         "y": [
          199,
          199
         ],
         "z": [
          0,
          166
         ]
        }
       ],
       "layout": {
        "height": 800,
        "hoverlabel": {
         "font": {
          "family": "Droid sans, monospace"
         }
        },
        "legend": {
         "itemsizing": "constant",
         "title": {
          "text": "Legend"
         },
         "tracegroupgap": 1
        },
        "margin": {
         "b": 100,
         "l": 200,
         "r": 50,
         "t": 0
        },
        "scene": {
         "aspectmode": "manual",
         "aspectratio": {
          "x": 1,
          "y": 1,
          "z": 1
         },
         "camera": {
          "center": {
           "x": 0,
           "y": -0.1,
           "z": -0.01
          },
          "eye": {
           "x": -2.553691456711153,
           "y": 0.28305371850667305,
           "z": 0.11385403565049089
          },
          "projection": {
           "type": "perspective"
          },
          "up": {
           "x": 0.14799615922892717,
           "y": 0.9889618879631559,
           "z": -0.007177813722602955
          }
         },
         "xaxis": {
          "backgroundcolor": "white",
          "gridcolor": "lightgray",
          "nticks": 10,
          "showbackground": true,
          "showticklabels": true,
          "tickfont": {
           "size": 12
          },
          "ticktext": [
           -108,
           -54,
           0,
           54,
           108
          ],
          "tickvals": [
           0,
           180,
           360,
           540,
           720
          ],
          "title": {
           "font": {
            "size": 12
           },
           "text": "Horizontal Axis (cm)"
          },
          "type": "linear"
         },
         "yaxis": {
          "backgroundcolor": "white",
          "gridcolor": "lightgray",
          "nticks": 10,
          "showbackground": true,
          "showticklabels": true,
          "tickfont": {
           "size": 12
          },
          "ticktext": [
           -145,
           -117,
           -90,
           -63,
           -36,
           -8,
           18,
           45,
           72,
           100
          ],
          "tickvals": [
           0,
           90.77777777777777,
           181.55555555555554,
           272.3333333333333,
           363.1111111111111,
           453.88888888888886,
           544.6666666666666,
           635.4444444444443,
           726.2222222222222,
           817
          ],
          "title": {
           "font": {
            "size": 12
           },
           "text": "Vertical Axis (cm)"
          },
          "type": "linear"
         },
         "zaxis": {
          "backgroundcolor": "white",
          "gridcolor": "lightgray",
          "nticks": 10,
          "showbackground": true,
          "showticklabels": true,
          "tickfont": {
           "size": 12
          },
          "ticktext": [
           -240,
           -178,
           -117,
           -56,
           4,
           65,
           126,
           187,
           248,
           310
          ],
          "tickvals": [
           0,
           203.77777777777777,
           407.55555555555554,
           611.3333333333333,
           815.1111111111111,
           1018.8888888888889,
           1222.6666666666665,
           1426.4444444444443,
           1630.2222222222222,
           1834
          ],
          "title": {
           "font": {
            "size": 12
           },
           "text": "Beam Axis (cm)"
          },
          "type": "linear"
         }
        },
        "scene2": {
         "aspectmode": "manual",
         "aspectratio": {
          "x": 1,
          "y": 1,
          "z": 1
         },
         "camera": {
          "center": {
           "x": 0,
           "y": -0.1,
           "z": -0.01
          },
          "eye": {
           "x": -2,
           "y": 1,
           "z": -0.01
          },
          "up": {
           "x": 0,
           "y": 1,
           "z": 0
          }
         },
         "xaxis": {
          "backgroundcolor": "white",
          "gridcolor": "lightgray",
          "nticks": 10,
          "showbackground": true,
          "showticklabels": true,
          "tickfont": {
           "size": 14
          },
          "title": {
           "font": {
            "size": 20
           },
           "text": "x [pixel]"
          }
         },
         "yaxis": {
          "backgroundcolor": "white",
          "gridcolor": "lightgray",
          "nticks": 10,
          "showbackground": true,
          "showticklabels": true,
          "tickfont": {
           "size": 14
          },
          "title": {
           "font": {
            "size": 20
           },
           "text": "y [pixel]"
          }
         },
         "zaxis": {
          "backgroundcolor": "white",
          "gridcolor": "lightgray",
          "nticks": 10,
          "showbackground": true,
          "showticklabels": true,
          "tickfont": {
           "size": 14
          },
          "title": {
           "font": {
            "size": 20
           },
           "text": "z [pixel]"
          }
         }
        },
        "scene3": {
         "aspectmode": "manual",
         "aspectratio": {
          "x": 1,
          "y": 1,
          "z": 1
         },
         "camera": {
          "center": {
           "x": 0,
           "y": -0.1,
           "z": -0.01
          },
          "eye": {
           "x": -2,
           "y": 1,
           "z": -0.01
          },
          "up": {
           "x": 0,
           "y": 1,
           "z": 0
          }
         },
         "xaxis": {
          "backgroundcolor": "white",
          "gridcolor": "lightgray",
          "nticks": 10,
          "showbackground": true,
          "showticklabels": true,
          "tickfont": {
           "size": 14
          },
          "title": {
           "font": {
            "size": 20
           },
           "text": "x [pixel]"
          }
         },
         "yaxis": {
          "backgroundcolor": "white",
          "gridcolor": "lightgray",
          "nticks": 10,
          "showbackground": true,
          "showticklabels": true,
          "tickfont": {
           "size": 14
          },
          "title": {
           "font": {
            "size": 20
           },
           "text": "y [pixel]"
          }
         },
         "zaxis": {
          "backgroundcolor": "white",
          "gridcolor": "lightgray",
          "nticks": 10,
          "showbackground": true,
          "showticklabels": true,
          "tickfont": {
           "size": 14
          },
          "title": {
           "font": {
            "size": 20
           },
           "text": "z [pixel]"
          }
         }
        },
        "showlegend": false,
        "template": {
         "data": {
          "bar": [
           {
            "error_x": {
             "color": "#2a3f5f"
            },
            "error_y": {
             "color": "#2a3f5f"
            },
            "marker": {
             "line": {
              "color": "#E5ECF6",
              "width": 0.5
             },
             "pattern": {
              "fillmode": "overlay",
              "size": 10,
              "solidity": 0.2
             }
            },
            "type": "bar"
           }
          ],
          "barpolar": [
           {
            "marker": {
             "line": {
              "color": "#E5ECF6",
              "width": 0.5
             },
             "pattern": {
              "fillmode": "overlay",
              "size": 10,
              "solidity": 0.2
             }
            },
            "type": "barpolar"
           }
          ],
          "carpet": [
           {
            "aaxis": {
             "endlinecolor": "#2a3f5f",
             "gridcolor": "white",
             "linecolor": "white",
             "minorgridcolor": "white",
             "startlinecolor": "#2a3f5f"
            },
            "baxis": {
             "endlinecolor": "#2a3f5f",
             "gridcolor": "white",
             "linecolor": "white",
             "minorgridcolor": "white",
             "startlinecolor": "#2a3f5f"
            },
            "type": "carpet"
           }
          ],
          "choropleth": [
           {
            "colorbar": {
             "outlinewidth": 0,
             "ticks": ""
            },
            "type": "choropleth"
           }
          ],
          "contour": [
           {
            "colorbar": {
             "outlinewidth": 0,
             "ticks": ""
            },
            "colorscale": [
             [
              0,
              "#0d0887"
             ],
             [
              0.1111111111111111,
              "#46039f"
             ],
             [
              0.2222222222222222,
              "#7201a8"
             ],
             [
              0.3333333333333333,
              "#9c179e"
             ],
             [
              0.4444444444444444,
              "#bd3786"
             ],
             [
              0.5555555555555556,
              "#d8576b"
             ],
             [
              0.6666666666666666,
              "#ed7953"
             ],
             [
              0.7777777777777778,
              "#fb9f3a"
             ],
             [
              0.8888888888888888,
              "#fdca26"
             ],
             [
              1,
              "#f0f921"
             ]
            ],
            "type": "contour"
           }
          ],
          "contourcarpet": [
           {
            "colorbar": {
             "outlinewidth": 0,
             "ticks": ""
            },
            "type": "contourcarpet"
           }
          ],
          "heatmap": [
           {
            "colorbar": {
             "outlinewidth": 0,
             "ticks": ""
            },
            "colorscale": [
             [
              0,
              "#0d0887"
             ],
             [
              0.1111111111111111,
              "#46039f"
             ],
             [
              0.2222222222222222,
              "#7201a8"
             ],
             [
              0.3333333333333333,
              "#9c179e"
             ],
             [
              0.4444444444444444,
              "#bd3786"
             ],
             [
              0.5555555555555556,
              "#d8576b"
             ],
             [
              0.6666666666666666,
              "#ed7953"
             ],
             [
              0.7777777777777778,
              "#fb9f3a"
             ],
             [
              0.8888888888888888,
              "#fdca26"
             ],
             [
              1,
              "#f0f921"
             ]
            ],
            "type": "heatmap"
           }
          ],
          "heatmapgl": [
           {
            "colorbar": {
             "outlinewidth": 0,
             "ticks": ""
            },
            "colorscale": [
             [
              0,
              "#0d0887"
             ],
             [
              0.1111111111111111,
              "#46039f"
             ],
             [
              0.2222222222222222,
              "#7201a8"
             ],
             [
              0.3333333333333333,
              "#9c179e"
             ],
             [
              0.4444444444444444,
              "#bd3786"
             ],
             [
              0.5555555555555556,
              "#d8576b"
             ],
             [
              0.6666666666666666,
              "#ed7953"
             ],
             [
              0.7777777777777778,
              "#fb9f3a"
             ],
             [
              0.8888888888888888,
              "#fdca26"
             ],
             [
              1,
              "#f0f921"
             ]
            ],
            "type": "heatmapgl"
           }
          ],
          "histogram": [
           {
            "marker": {
             "pattern": {
              "fillmode": "overlay",
              "size": 10,
              "solidity": 0.2
             }
            },
            "type": "histogram"
           }
          ],
          "histogram2d": [
           {
            "colorbar": {
             "outlinewidth": 0,
             "ticks": ""
            },
            "colorscale": [
             [
              0,
              "#0d0887"
             ],
             [
              0.1111111111111111,
              "#46039f"
             ],
             [
              0.2222222222222222,
              "#7201a8"
             ],
             [
              0.3333333333333333,
              "#9c179e"
             ],
             [
              0.4444444444444444,
              "#bd3786"
             ],
             [
              0.5555555555555556,
              "#d8576b"
             ],
             [
              0.6666666666666666,
              "#ed7953"
             ],
             [
              0.7777777777777778,
              "#fb9f3a"
             ],
             [
              0.8888888888888888,
              "#fdca26"
             ],
             [
              1,
              "#f0f921"
             ]
            ],
            "type": "histogram2d"
           }
          ],
          "histogram2dcontour": [
           {
            "colorbar": {
             "outlinewidth": 0,
             "ticks": ""
            },
            "colorscale": [
             [
              0,
              "#0d0887"
             ],
             [
              0.1111111111111111,
              "#46039f"
             ],
             [
              0.2222222222222222,
              "#7201a8"
             ],
             [
              0.3333333333333333,
              "#9c179e"
             ],
             [
              0.4444444444444444,
              "#bd3786"
             ],
             [
              0.5555555555555556,
              "#d8576b"
             ],
             [
              0.6666666666666666,
              "#ed7953"
             ],
             [
              0.7777777777777778,
              "#fb9f3a"
             ],
             [
              0.8888888888888888,
              "#fdca26"
             ],
             [
              1,
              "#f0f921"
             ]
            ],
            "type": "histogram2dcontour"
           }
          ],
          "mesh3d": [
           {
            "colorbar": {
             "outlinewidth": 0,
             "ticks": ""
            },
            "type": "mesh3d"
           }
          ],
          "parcoords": [
           {
            "line": {
             "colorbar": {
              "outlinewidth": 0,
              "ticks": ""
             }
            },
            "type": "parcoords"
           }
          ],
          "pie": [
           {
            "automargin": true,
            "type": "pie"
           }
          ],
          "scatter": [
           {
            "fillpattern": {
             "fillmode": "overlay",
             "size": 10,
             "solidity": 0.2
            },
            "type": "scatter"
           }
          ],
          "scatter3d": [
           {
            "line": {
             "colorbar": {
              "outlinewidth": 0,
              "ticks": ""
             }
            },
            "marker": {
             "colorbar": {
              "outlinewidth": 0,
              "ticks": ""
             }
            },
            "type": "scatter3d"
           }
          ],
          "scattercarpet": [
           {
            "marker": {
             "colorbar": {
              "outlinewidth": 0,
              "ticks": ""
             }
            },
            "type": "scattercarpet"
           }
          ],
          "scattergeo": [
           {
            "marker": {
             "colorbar": {
              "outlinewidth": 0,
              "ticks": ""
             }
            },
            "type": "scattergeo"
           }
          ],
          "scattergl": [
           {
            "marker": {
             "colorbar": {
              "outlinewidth": 0,
              "ticks": ""
             }
            },
            "type": "scattergl"
           }
          ],
          "scattermapbox": [
           {
            "marker": {
             "colorbar": {
              "outlinewidth": 0,
              "ticks": ""
             }
            },
            "type": "scattermapbox"
           }
          ],
          "scatterpolar": [
           {
            "marker": {
             "colorbar": {
              "outlinewidth": 0,
              "ticks": ""
             }
            },
            "type": "scatterpolar"
           }
          ],
          "scatterpolargl": [
           {
            "marker": {
             "colorbar": {
              "outlinewidth": 0,
              "ticks": ""
             }
            },
            "type": "scatterpolargl"
           }
          ],
          "scatterternary": [
           {
            "marker": {
             "colorbar": {
              "outlinewidth": 0,
              "ticks": ""
             }
            },
            "type": "scatterternary"
           }
          ],
          "surface": [
           {
            "colorbar": {
             "outlinewidth": 0,
             "ticks": ""
            },
            "colorscale": [
             [
              0,
              "#0d0887"
             ],
             [
              0.1111111111111111,
              "#46039f"
             ],
             [
              0.2222222222222222,
              "#7201a8"
             ],
             [
              0.3333333333333333,
              "#9c179e"
             ],
             [
              0.4444444444444444,
              "#bd3786"
             ],
             [
              0.5555555555555556,
              "#d8576b"
             ],
             [
              0.6666666666666666,
              "#ed7953"
             ],
             [
              0.7777777777777778,
              "#fb9f3a"
             ],
             [
              0.8888888888888888,
              "#fdca26"
             ],
             [
              1,
              "#f0f921"
             ]
            ],
            "type": "surface"
           }
          ],
          "table": [
           {
            "cells": {
             "fill": {
              "color": "#EBF0F8"
             },
             "line": {
              "color": "white"
             }
            },
            "header": {
             "fill": {
              "color": "#C8D4E3"
             },
             "line": {
              "color": "white"
             }
            },
            "type": "table"
           }
          ]
         },
         "layout": {
          "annotationdefaults": {
           "arrowcolor": "#2a3f5f",
           "arrowhead": 0,
           "arrowwidth": 1
          },
          "autotypenumbers": "strict",
          "coloraxis": {
           "colorbar": {
            "outlinewidth": 0,
            "ticks": ""
           }
          },
          "colorscale": {
           "diverging": [
            [
             0,
             "#8e0152"
            ],
            [
             0.1,
             "#c51b7d"
            ],
            [
             0.2,
             "#de77ae"
            ],
            [
             0.3,
             "#f1b6da"
            ],
            [
             0.4,
             "#fde0ef"
            ],
            [
             0.5,
             "#f7f7f7"
            ],
            [
             0.6,
             "#e6f5d0"
            ],
            [
             0.7,
             "#b8e186"
            ],
            [
             0.8,
             "#7fbc41"
            ],
            [
             0.9,
             "#4d9221"
            ],
            [
             1,
             "#276419"
            ]
           ],
           "sequential": [
            [
             0,
             "#0d0887"
            ],
            [
             0.1111111111111111,
             "#46039f"
            ],
            [
             0.2222222222222222,
             "#7201a8"
            ],
            [
             0.3333333333333333,
             "#9c179e"
            ],
            [
             0.4444444444444444,
             "#bd3786"
            ],
            [
             0.5555555555555556,
             "#d8576b"
            ],
            [
             0.6666666666666666,
             "#ed7953"
            ],
            [
             0.7777777777777778,
             "#fb9f3a"
            ],
            [
             0.8888888888888888,
             "#fdca26"
            ],
            [
             1,
             "#f0f921"
            ]
           ],
           "sequentialminus": [
            [
             0,
             "#0d0887"
            ],
            [
             0.1111111111111111,
             "#46039f"
            ],
            [
             0.2222222222222222,
             "#7201a8"
            ],
            [
             0.3333333333333333,
             "#9c179e"
            ],
            [
             0.4444444444444444,
             "#bd3786"
            ],
            [
             0.5555555555555556,
             "#d8576b"
            ],
            [
             0.6666666666666666,
             "#ed7953"
            ],
            [
             0.7777777777777778,
             "#fb9f3a"
            ],
            [
             0.8888888888888888,
             "#fdca26"
            ],
            [
             1,
             "#f0f921"
            ]
           ]
          },
          "colorway": [
           "#636efa",
           "#EF553B",
           "#00cc96",
           "#ab63fa",
           "#FFA15A",
           "#19d3f3",
           "#FF6692",
           "#B6E880",
           "#FF97FF",
           "#FECB52"
          ],
          "font": {
           "color": "#2a3f5f"
          },
          "geo": {
           "bgcolor": "white",
           "lakecolor": "white",
           "landcolor": "#E5ECF6",
           "showlakes": true,
           "showland": true,
           "subunitcolor": "white"
          },
          "hoverlabel": {
           "align": "left"
          },
          "hovermode": "closest",
          "mapbox": {
           "style": "light"
          },
          "paper_bgcolor": "white",
          "plot_bgcolor": "#E5ECF6",
          "polar": {
           "angularaxis": {
            "gridcolor": "white",
            "linecolor": "white",
            "ticks": ""
           },
           "bgcolor": "#E5ECF6",
           "radialaxis": {
            "gridcolor": "white",
            "linecolor": "white",
            "ticks": ""
           }
          },
          "scene": {
           "xaxis": {
            "backgroundcolor": "#E5ECF6",
            "gridcolor": "white",
            "gridwidth": 2,
            "linecolor": "white",
            "showbackground": true,
            "ticks": "",
            "zerolinecolor": "white"
           },
           "yaxis": {
            "backgroundcolor": "#E5ECF6",
            "gridcolor": "white",
            "gridwidth": 2,
            "linecolor": "white",
            "showbackground": true,
            "ticks": "",
            "zerolinecolor": "white"
           },
           "zaxis": {
            "backgroundcolor": "#E5ECF6",
            "gridcolor": "white",
            "gridwidth": 2,
            "linecolor": "white",
            "showbackground": true,
            "ticks": "",
            "zerolinecolor": "white"
           }
          },
          "shapedefaults": {
           "line": {
            "color": "#2a3f5f"
           }
          },
          "ternary": {
           "aaxis": {
            "gridcolor": "white",
            "linecolor": "white",
            "ticks": ""
           },
           "baxis": {
            "gridcolor": "white",
            "linecolor": "white",
            "ticks": ""
           },
           "bgcolor": "#E5ECF6",
           "caxis": {
            "gridcolor": "white",
            "linecolor": "white",
            "ticks": ""
           }
          },
          "title": {
           "x": 0.05
          },
          "xaxis": {
           "automargin": true,
           "gridcolor": "white",
           "linecolor": "white",
           "ticks": "",
           "title": {
            "standoff": 15
           },
           "zerolinecolor": "white",
           "zerolinewidth": 2
          },
          "yaxis": {
           "automargin": true,
           "gridcolor": "white",
           "linecolor": "white",
           "ticks": "",
           "title": {
            "standoff": 15
           },
           "zerolinecolor": "white",
           "zerolinewidth": 2
          }
         }
        },
        "width": 800
       }
      },
      "image/png": "[encoded data removed]",
      "text/html": [
       "<div>                            <div id=\"28f6b007-ba43-43a6-a772-9be7b7e50115\" class=\"plotly-graph-div\" style=\"height:800px; width:800px;\"></div>            <script type=\"text/javascript\">                require([\"plotly\"], function(Plotly) {                    window.PLOTLYENV=window.PLOTLYENV || {};                                    if (document.getElementById(\"28f6b007-ba43-43a6-a772-9be7b7e50115\")) {                    Plotly.newPlot(                        \"28f6b007-ba43-43a6-a772-9be7b7e50115\",                        [{\"hovertemplate\":\"x: %{x}<br>y: %{y}<br>z: %{z}<br>%{text}\",\"marker\":{\"color\":[0,0,0,0,0,0,0,0,0,0,0,0,0,0,0,0,0,0,0,0,0,0,0,0,0,0,0,0,0,0,0,0,0,0,0,0,0,0,0,0,0,0,1,1,1,1,1,1,1,1,1,1,1,1,1,1,1,1,1,1,1,1,1,1,1,1,1,1,1,1,1,1,1,1,1,1,1,1,1,2,2,2,2,2,2,2,2,2,2,2,2,2,2,2,2,2,2,2,2,2,2,2,2,2,2,3,3,3,3,3,3,3,3,3,3,3,3,3,3,3,3,3,3,3,3,3,3,3,3,3,3,4,4,4,4,4,4,4,4,4,4,4,4,4,4,4,4,4,4,4,4,4,4,4,4,5,5,5,5,5,5,5,5,5,5,5,5,5,5,5,5,5,5,5,5,5,5,5,5,6,6,6,6,6,6,6,6,6,6,6,6,6,6,6,6,6,6,6,6,6,6,6,6,6,6,6,6,6,6,6,6,6,6,6,6,6,6,6,6,6,6,6,6,6,6,6,6,6,6,6,6,6,6,6,6,6,6,6,6,6,6,6,6,6,6,6,6,6,6,6,6,6,6,6,6,8,8,8,8,8,8,8,8,8,8,8,8,8,8,8,8,8,8,8,8,8,8,8,8,8,8,8,8,8,8,8,8,8,8,8,8,8,8,8],\"colorscale\":[[0.0,\"#332288\"],[0.125,\"#117733\"],[0.25,\"#44AA99\"],[0.375,\"#88CCEE\"],[0.5,\"#EA4040\"],[0.625,\"#0B57CB\"],[0.75,\"#D79ABB\"],[0.875,\"#7D7A7A\"],[1.0,\"#D0B58F\"]],\"size\":2},\"mode\":\"markers\",\"name\":\" nodes\",\"text\":[\"Cluster ID: 0<br>Label: 0\",\"Cluster ID: 0<br>Label: 0\",\"Cluster ID: 0<br>Label: 0\",\"Cluster ID: 0<br>Label: 0\",\"Cluster ID: 0<br>Label: 0\",\"Cluster ID: 0<br>Label: 0\",\"Cluster ID: 0<br>Label: 0\",\"Cluster ID: 0<br>Label: 0\",\"Cluster ID: 0<br>Label: 0\",\"Cluster ID: 0<br>Label: 0\",\"Cluster ID: 0<br>Label: 0\",\"Cluster ID: 0<br>Label: 0\",\"Cluster ID: 0<br>Label: 0\",\"Cluster ID: 0<br>Label: 0\",\"Cluster ID: 0<br>Label: 0\",\"Cluster ID: 0<br>Label: 0\",\"Cluster ID: 0<br>Label: 0\",\"Cluster ID: 0<br>Label: 0\",\"Cluster ID: 0<br>Label: 0\",\"Cluster ID: 0<br>Label: 0\",\"Cluster ID: 0<br>Label: 0\",\"Cluster ID: 0<br>Label: 0\",\"Cluster ID: 0<br>Label: 0\",\"Cluster ID: 0<br>Label: 0\",\"Cluster ID: 0<br>Label: 0\",\"Cluster ID: 0<br>Label: 0\",\"Cluster ID: 0<br>Label: 0\",\"Cluster ID: 0<br>Label: 0\",\"Cluster ID: 0<br>Label: 0\",\"Cluster ID: 0<br>Label: 0\",\"Cluster ID: 0<br>Label: 0\",\"Cluster ID: 0<br>Label: 0\",\"Cluster ID: 0<br>Label: 0\",\"Cluster ID: 0<br>Label: 0\",\"Cluster ID: 0<br>Label: 0\",\"Cluster ID: 0<br>Label: 0\",\"Cluster ID: 0<br>Label: 0\",\"Cluster ID: 0<br>Label: 0\",\"Cluster ID: 0<br>Label: 0\",\"Cluster ID: 0<br>Label: 0\",\"Cluster ID: 0<br>Label: 0\",\"Cluster ID: 0<br>Label: 0\",\"Cluster ID: 1<br>Label: 1\",\"Cluster ID: 1<br>Label: 1\",\"Cluster ID: 1<br>Label: 1\",\"Cluster ID: 1<br>Label: 1\",\"Cluster ID: 1<br>Label: 1\",\"Cluster ID: 1<br>Label: 1\",\"Cluster ID: 1<br>Label: 1\",\"Cluster ID: 1<br>Label: 1\",\"Cluster ID: 1<br>Label: 1\",\"Cluster ID: 1<br>Label: 1\",\"Cluster ID: 1<br>Label: 1\",\"Cluster ID: 1<br>Label: 1\",\"Cluster ID: 1<br>Label: 1\",\"Cluster ID: 1<br>Label: 1\",\"Cluster ID: 1<br>Label: 1\",\"Cluster ID: 1<br>Label: 1\",\"Cluster ID: 1<br>Label: 1\",\"Cluster ID: 1<br>Label: 1\",\"Cluster ID: 1<br>Label: 1\",\"Cluster ID: 1<br>Label: 1\",\"Cluster ID: 1<br>Label: 1\",\"Cluster ID: 1<br>Label: 1\",\"Cluster ID: 1<br>Label: 1\",\"Cluster ID: 1<br>Label: 1\",\"Cluster ID: 1<br>Label: 1\",\"Cluster ID: 1<br>Label: 1\",\"Cluster ID: 1<br>Label: 1\",\"Cluster ID: 1<br>Label: 1\",\"Cluster ID: 1<br>Label: 1\",\"Cluster ID: 1<br>Label: 1\",\"Cluster ID: 1<br>Label: 1\",\"Cluster ID: 1<br>Label: 1\",\"Cluster ID: 1<br>Label: 1\",\"Cluster ID: 1<br>Label: 1\",\"Cluster ID: 1<br>Label: 1\",\"Cluster ID: 1<br>Label: 1\",\"Cluster ID: 1<br>Label: 1\",\"Cluster ID: 2<br>Label: 2\",\"Cluster ID: 2<br>Label: 2\",\"Cluster ID: 2<br>Label: 2\",\"Cluster ID: 2<br>Label: 2\",\"Cluster ID: 2<br>Label: 2\",\"Cluster ID: 2<br>Label: 2\",\"Cluster ID: 2<br>Label: 2\",\"Cluster ID: 2<br>Label: 2\",\"Cluster ID: 2<br>Label: 2\",\"Cluster ID: 2<br>Label: 2\",\"Cluster ID: 2<br>Label: 2\",\"Cluster ID: 2<br>Label: 2\",\"Cluster ID: 2<br>Label: 2\",\"Cluster ID: 2<br>Label: 2\",\"Cluster ID: 2<br>Label: 2\",\"Cluster ID: 2<br>Label: 2\",\"Cluster ID: 2<br>Label: 2\",\"Cluster ID: 2<br>Label: 2\",\"Cluster ID: 2<br>Label: 2\",\"Cluster ID: 2<br>Label: 2\",\"Cluster ID: 2<br>Label: 2\",\"Cluster ID: 2<br>Label: 2\",\"Cluster ID: 2<br>Label: 2\",\"Cluster ID: 2<br>Label: 2\",\"Cluster ID: 2<br>Label: 2\",\"Cluster ID: 2<br>Label: 2\",\"Cluster ID: 3<br>Label: 3\",\"Cluster ID: 3<br>Label: 3\",\"Cluster ID: 3<br>Label: 3\",\"Cluster ID: 3<br>Label: 3\",\"Cluster ID: 3<br>Label: 3\",\"Cluster ID: 3<br>Label: 3\",\"Cluster ID: 3<br>Label: 3\",\"Cluster ID: 3<br>Label: 3\",\"Cluster ID: 3<br>Label: 3\",\"Cluster ID: 3<br>Label: 3\",\"Cluster ID: 3<br>Label: 3\",\"Cluster ID: 3<br>Label: 3\",\"Cluster ID: 3<br>Label: 3\",\"Cluster ID: 3<br>Label: 3\",\"Cluster ID: 3<br>Label: 3\",\"Cluster ID: 3<br>Label: 3\",\"Cluster ID: 3<br>Label: 3\",\"Cluster ID: 3<br>Label: 3\",\"Cluster ID: 3<br>Label: 3\",\"Cluster ID: 3<br>Label: 3\",\"Cluster ID: 3<br>Label: 3\",\"Cluster ID: 3<br>Label: 3\",\"Cluster ID: 3<br>Label: 3\",\"Cluster ID: 3<br>Label: 3\",\"Cluster ID: 3<br>Label: 3\",\"Cluster ID: 3<br>Label: 3\",\"Cluster ID: 4<br>Label: 4\",\"Cluster ID: 4<br>Label: 4\",\"Cluster ID: 4<br>Label: 4\",\"Cluster ID: 4<br>Label: 4\",\"Cluster ID: 4<br>Label: 4\",\"Cluster ID: 4<br>Label: 4\",\"Cluster ID: 4<br>Label: 4\",\"Cluster ID: 4<br>Label: 4\",\"Cluster ID: 4<br>Label: 4\",\"Cluster ID: 4<br>Label: 4\",\"Cluster ID: 4<br>Label: 4\",\"Cluster ID: 4<br>Label: 4\",\"Cluster ID: 4<br>Label: 4\",\"Cluster ID: 4<br>Label: 4\",\"Cluster ID: 4<br>Label: 4\",\"Cluster ID: 4<br>Label: 4\",\"Cluster ID: 4<br>Label: 4\",\"Cluster ID: 4<br>Label: 4\",\"Cluster ID: 4<br>Label: 4\",\"Cluster ID: 4<br>Label: 4\",\"Cluster ID: 4<br>Label: 4\",\"Cluster ID: 4<br>Label: 4\",\"Cluster ID: 4<br>Label: 4\",\"Cluster ID: 4<br>Label: 4\",\"Cluster ID: 5<br>Label: 5\",\"Cluster ID: 5<br>Label: 5\",\"Cluster ID: 5<br>Label: 5\",\"Cluster ID: 5<br>Label: 5\",\"Cluster ID: 5<br>Label: 5\",\"Cluster ID: 5<br>Label: 5\",\"Cluster ID: 5<br>Label: 5\",\"Cluster ID: 5<br>Label: 5\",\"Cluster ID: 5<br>Label: 5\",\"Cluster ID: 5<br>Label: 5\",\"Cluster ID: 5<br>Label: 5\",\"Cluster ID: 5<br>Label: 5\",\"Cluster ID: 5<br>Label: 5\",\"Cluster ID: 5<br>Label: 5\",\"Cluster ID: 5<br>Label: 5\",\"Cluster ID: 5<br>Label: 5\",\"Cluster ID: 5<br>Label: 5\",\"Cluster ID: 5<br>Label: 5\",\"Cluster ID: 5<br>Label: 5\",\"Cluster ID: 5<br>Label: 5\",\"Cluster ID: 5<br>Label: 5\",\"Cluster ID: 5<br>Label: 5\",\"Cluster ID: 5<br>Label: 5\",\"Cluster ID: 5<br>Label: 5\",\"Cluster ID: 6<br>Label: 6\",\"Cluster ID: 6<br>Label: 6\",\"Cluster ID: 6<br>Label: 6\",\"Cluster ID: 6<br>Label: 6\",\"Cluster ID: 6<br>Label: 6\",\"Cluster ID: 6<br>Label: 6\",\"Cluster ID: 6<br>Label: 6\",\"Cluster ID: 6<br>Label: 6\",\"Cluster ID: 6<br>Label: 6\",\"Cluster ID: 6<br>Label: 6\",\"Cluster ID: 6<br>Label: 6\",\"Cluster ID: 6<br>Label: 6\",\"Cluster ID: 6<br>Label: 6\",\"Cluster ID: 6<br>Label: 6\",\"Cluster ID: 6<br>Label: 6\",\"Cluster ID: 6<br>Label: 6\",\"Cluster ID: 6<br>Label: 6\",\"Cluster ID: 6<br>Label: 6\",\"Cluster ID: 6<br>Label: 6\",\"Cluster ID: 6<br>Label: 6\",\"Cluster ID: 6<br>Label: 6\",\"Cluster ID: 6<br>Label: 6\",\"Cluster ID: 6<br>Label: 6\",\"Cluster ID: 6<br>Label: 6\",\"Cluster ID: 7<br>Label: 6\",\"Cluster ID: 7<br>Label: 6\",\"Cluster ID: 7<br>Label: 6\",\"Cluster ID: 7<br>Label: 6\",\"Cluster ID: 7<br>Label: 6\",\"Cluster ID: 7<br>Label: 6\",\"Cluster ID: 7<br>Label: 6\",\"Cluster ID: 7<br>Label: 6\",\"Cluster ID: 7<br>Label: 6\",\"Cluster ID: 7<br>Label: 6\",\"Cluster ID: 7<br>Label: 6\",\"Cluster ID: 7<br>Label: 6\",\"Cluster ID: 7<br>Label: 6\",\"Cluster ID: 7<br>Label: 6\",\"Cluster ID: 7<br>Label: 6\",\"Cluster ID: 7<br>Label: 6\",\"Cluster ID: 7<br>Label: 6\",\"Cluster ID: 7<br>Label: 6\",\"Cluster ID: 7<br>Label: 6\",\"Cluster ID: 7<br>Label: 6\",\"Cluster ID: 7<br>Label: 6\",\"Cluster ID: 7<br>Label: 6\",\"Cluster ID: 7<br>Label: 6\",\"Cluster ID: 7<br>Label: 6\",\"Cluster ID: 7<br>Label: 6\",\"Cluster ID: 7<br>Label: 6\",\"Cluster ID: 7<br>Label: 6\",\"Cluster ID: 7<br>Label: 6\",\"Cluster ID: 7<br>Label: 6\",\"Cluster ID: 7<br>Label: 6\",\"Cluster ID: 7<br>Label: 6\",\"Cluster ID: 7<br>Label: 6\",\"Cluster ID: 7<br>Label: 6\",\"Cluster ID: 7<br>Label: 6\",\"Cluster ID: 7<br>Label: 6\",\"Cluster ID: 7<br>Label: 6\",\"Cluster ID: 7<br>Label: 6\",\"Cluster ID: 7<br>Label: 6\",\"Cluster ID: 7<br>Label: 6\",\"Cluster ID: 7<br>Label: 6\",\"Cluster ID: 7<br>Label: 6\",\"Cluster ID: 7<br>Label: 6\",\"Cluster ID: 7<br>Label: 6\",\"Cluster ID: 7<br>Label: 6\",\"Cluster ID: 7<br>Label: 6\",\"Cluster ID: 7<br>Label: 6\",\"Cluster ID: 7<br>Label: 6\",\"Cluster ID: 7<br>Label: 6\",\"Cluster ID: 7<br>Label: 6\",\"Cluster ID: 7<br>Label: 6\",\"Cluster ID: 7<br>Label: 6\",\"Cluster ID: 7<br>Label: 6\",\"Cluster ID: 8<br>Label: 8\",\"Cluster ID: 8<br>Label: 8\",\"Cluster ID: 8<br>Label: 8\",\"Cluster ID: 8<br>Label: 8\",\"Cluster ID: 8<br>Label: 8\",\"Cluster ID: 8<br>Label: 8\",\"Cluster ID: 8<br>Label: 8\",\"Cluster ID: 8<br>Label: 8\",\"Cluster ID: 8<br>Label: 8\",\"Cluster ID: 8<br>Label: 8\",\"Cluster ID: 8<br>Label: 8\",\"Cluster ID: 8<br>Label: 8\",\"Cluster ID: 8<br>Label: 8\",\"Cluster ID: 8<br>Label: 8\",\"Cluster ID: 8<br>Label: 8\",\"Cluster ID: 8<br>Label: 8\",\"Cluster ID: 8<br>Label: 8\",\"Cluster ID: 8<br>Label: 8\",\"Cluster ID: 8<br>Label: 8\",\"Cluster ID: 8<br>Label: 8\",\"Cluster ID: 8<br>Label: 8\",\"Cluster ID: 8<br>Label: 8\",\"Cluster ID: 8<br>Label: 8\",\"Cluster ID: 8<br>Label: 8\",\"Cluster ID: 8<br>Label: 8\",\"Cluster ID: 8<br>Label: 8\",\"Cluster ID: 8<br>Label: 8\",\"Cluster ID: 8<br>Label: 8\",\"Cluster ID: 8<br>Label: 8\",\"Cluster ID: 8<br>Label: 8\",\"Cluster ID: 8<br>Label: 8\",\"Cluster ID: 8<br>Label: 8\",\"Cluster ID: 8<br>Label: 8\",\"Cluster ID: 8<br>Label: 8\",\"Cluster ID: 8<br>Label: 8\",\"Cluster ID: 8<br>Label: 8\",\"Cluster ID: 8<br>Label: 8\",\"Cluster ID: 8<br>Label: 8\",\"Cluster ID: 8<br>Label: 8\"],\"x\":[100.0,102.0,104.0,106.0,108.0,110.0,112.0,113.0,116.0,117.0,119.0,121.0,123.0,125.0,127.0,129.0,131.0,132.0,134.0,136.0,138.0,140.0,142.0,143.0,145.0,147.0,149.0,150.0,152.0,154.0,156.0,158.0,160.0,161.0,163.0,165.0,167.0,169.0,171.0,173.0,177.0,181.0,140.0,142.0,145.0,147.0,149.0,151.0,153.0,155.0,157.0,159.0,162.0,164.0,166.0,168.0,170.0,172.0,174.0,175.0,177.0,179.0,181.0,182.0,184.0,185.0,187.0,188.0,190.0,191.0,192.0,193.0,195.0,196.0,197.0,198.0,199.0,201.0,202.0,314.0,314.0,313.0,313.0,312.0,312.0,311.0,311.0,310.0,310.0,309.0,308.0,308.0,307.0,307.0,306.0,306.0,305.0,305.0,304.0,304.0,303.0,303.0,302.0,302.0,301.0,314.0,314.0,313.0,313.0,312.0,312.0,311.0,311.0,310.0,310.0,309.0,309.0,308.0,307.0,307.0,306.0,306.0,305.0,305.0,304.0,304.0,303.0,303.0,302.0,302.0,301.0,449.0,449.0,449.0,449.0,449.0,449.0,449.0,450.0,450.0,450.0,450.0,450.0,450.0,450.0,450.0,450.0,450.0,450.0,450.0,450.0,450.0,450.0,450.0,450.0,297.0,296.0,296.0,295.0,295.0,294.0,294.0,293.0,293.0,292.0,292.0,291.0,291.0,290.0,290.0,290.0,289.0,289.0,288.0,288.0,287.0,287.0,286.0,286.0,312.0,313.0,314.0,315.0,316.0,317.0,318.0,319.0,320.0,321.0,321.0,322.0,323.0,324.0,325.0,326.0,327.0,328.0,329.0,329.0,330.0,331.0,332.0,333.0,468.0,469.0,469.0,470.0,471.0,471.0,472.0,473.0,474.0,474.0,475.0,476.0,477.0,477.0,478.0,479.0,480.0,480.0,481.0,482.0,483.0,484.0,484.0,485.0,486.0,487.0,488.0,488.0,489.0,490.0,491.0,492.0,493.0,493.0,494.0,495.0,496.0,496.0,497.0,498.0,500.0,501.0,503.0,504.0,506.0,507.0,509.0,510.0,511.0,513.0,514.0,515.0,108.0,109.0,109.0,110.0,110.0,111.0,111.0,112.0,112.0,113.0,113.0,114.0,114.0,114.0,115.0,115.0,116.0,116.0,116.0,117.0,117.0,118.0,118.0,118.0,119.0,119.0,119.0,120.0,121.0,121.0,122.0,122.0,123.0,124.0,124.0,125.0,125.0,126.0,126.0],\"y\":[276.0,275.0,275.0,275.0,275.0,275.0,275.0,275.0,275.0,275.0,274.0,274.0,274.0,274.0,274.0,274.0,273.0,273.0,273.0,273.0,272.0,272.0,272.0,271.0,271.0,270.0,270.0,269.0,269.0,268.0,267.0,266.0,265.0,265.0,264.0,263.0,262.0,261.0,260.0,259.0,256.0,254.0,176.0,175.0,174.0,173.0,172.0,171.0,170.0,169.0,168.0,167.0,166.0,165.0,164.0,163.0,162.0,161.0,160.0,159.0,158.0,157.0,157.0,156.0,155.0,154.0,153.0,153.0,152.0,151.0,150.0,150.0,149.0,148.0,147.0,147.0,146.0,145.0,144.0,109.0,110.0,111.0,112.0,113.0,114.0,115.0,116.0,117.0,118.0,119.0,120.0,122.0,123.0,124.0,125.0,126.0,127.0,128.0,129.0,130.0,131.0,132.0,133.0,134.0,135.0,109.0,110.0,111.0,112.0,113.0,114.0,115.0,116.0,117.0,118.0,119.0,120.0,122.0,123.0,124.0,125.0,126.0,127.0,128.0,129.0,130.0,131.0,132.0,133.0,134.0,135.0,190.0,188.0,187.0,186.0,184.0,183.0,182.0,180.0,179.0,177.0,176.0,175.0,173.0,172.0,171.0,169.0,168.0,166.0,165.0,164.0,162.0,161.0,159.0,158.0,202.0,203.0,204.0,205.0,205.0,206.0,207.0,208.0,209.0,209.0,210.0,211.0,212.0,212.0,213.0,214.0,214.0,215.0,216.0,217.0,217.0,218.0,219.0,220.0,378.0,378.0,378.0,378.0,378.0,378.0,378.0,378.0,378.0,378.0,378.0,378.0,378.0,377.0,377.0,377.0,377.0,377.0,377.0,377.0,377.0,377.0,377.0,377.0,364.0,364.0,364.0,364.0,364.0,364.0,363.0,363.0,363.0,363.0,363.0,362.0,362.0,362.0,362.0,362.0,362.0,361.0,361.0,361.0,361.0,361.0,360.0,360.0,360.0,360.0,360.0,359.0,359.0,359.0,359.0,358.0,358.0,358.0,358.0,357.0,357.0,357.0,356.0,356.0,355.0,355.0,354.0,353.0,352.0,352.0,351.0,350.0,349.0,348.0,348.0,347.0,647.0,646.0,646.0,645.0,645.0,644.0,644.0,643.0,643.0,642.0,642.0,641.0,641.0,640.0,640.0,639.0,639.0,639.0,638.0,638.0,637.0,637.0,636.0,636.0,635.0,635.0,635.0,634.0,633.0,632.0,631.0,630.0,629.0,628.0,626.0,625.0,624.0,623.0,622.0],\"z\":[1355.0,1362.0,1369.0,1376.0,1384.0,1391.0,1398.0,1405.0,1413.0,1420.0,1427.0,1434.0,1442.0,1449.0,1456.0,1463.0,1471.0,1478.0,1485.0,1492.0,1500.0,1507.0,1515.0,1521.0,1529.0,1536.0,1544.0,1550.0,1558.0,1565.0,1573.0,1579.0,1587.0,1594.0,1602.0,1608.0,1616.0,1623.0,1631.0,1638.0,1654.0,1669.0,1355.0,1362.0,1369.0,1376.0,1384.0,1391.0,1398.0,1405.0,1413.0,1420.0,1427.0,1434.0,1442.0,1449.0,1456.0,1463.0,1471.0,1478.0,1485.0,1492.0,1500.0,1507.0,1515.0,1521.0,1529.0,1536.0,1544.0,1550.0,1558.0,1565.0,1573.0,1579.0,1587.0,1594.0,1602.0,1608.0,1616.0,1355.0,1362.0,1369.0,1376.0,1384.0,1391.0,1398.0,1405.0,1413.0,1420.0,1427.0,1434.0,1442.0,1449.0,1456.0,1463.0,1471.0,1478.0,1485.0,1492.0,1500.0,1507.0,1515.0,1521.0,1529.0,1536.0,1355.0,1362.0,1369.0,1376.0,1384.0,1391.0,1398.0,1405.0,1413.0,1420.0,1427.0,1434.0,1442.0,1449.0,1456.0,1463.0,1471.0,1478.0,1485.0,1492.0,1500.0,1507.0,1515.0,1521.0,1529.0,1536.0,8.0,15.0,23.0,29.0,37.0,44.0,52.0,58.0,66.0,73.0,81.0,87.0,95.0,102.0,110.0,117.0,124.0,131.0,139.0,146.0,153.0,160.0,168.0,175.0,8.0,15.0,23.0,29.0,37.0,44.0,52.0,58.0,66.0,73.0,81.0,87.0,95.0,102.0,110.0,117.0,124.0,131.0,139.0,146.0,153.0,160.0,168.0,175.0,8.0,15.0,23.0,29.0,37.0,44.0,52.0,58.0,66.0,73.0,81.0,87.0,95.0,102.0,110.0,117.0,124.0,131.0,139.0,146.0,153.0,160.0,168.0,175.0,1355.0,1362.0,1369.0,1376.0,1384.0,1391.0,1398.0,1405.0,1413.0,1420.0,1427.0,1434.0,1442.0,1449.0,1456.0,1463.0,1471.0,1478.0,1485.0,1492.0,1500.0,1507.0,1515.0,1521.0,1529.0,1536.0,1544.0,1550.0,1558.0,1565.0,1573.0,1579.0,1587.0,1594.0,1602.0,1608.0,1616.0,1623.0,1631.0,1638.0,1654.0,1669.0,1685.0,1700.0,1716.0,1732.0,1747.0,1763.0,1778.0,1794.0,1810.0,1825.0,1449.0,1456.0,1463.0,1471.0,1478.0,1485.0,1492.0,1500.0,1507.0,1515.0,1521.0,1529.0,1536.0,1544.0,1550.0,1558.0,1565.0,1573.0,1579.0,1587.0,1594.0,1602.0,1608.0,1616.0,1623.0,1631.0,1638.0,1654.0,1669.0,1685.0,1700.0,1716.0,1732.0,1747.0,1763.0,1778.0,1794.0,1810.0,1825.0],\"type\":\"scatter3d\"},{\"hovertemplate\":\"x: %{x}<br>y: %{y}<br>z: %{z}<br>%{text}\",\"line\":{\"color\":[5.705371379852295,5.705371379852295,5.705371379852295,-3.5771431922912598,-3.5771431922912598,-3.5771431922912598,5.262665748596191,5.262665748596191,5.262665748596191,-3.3794898986816406,-3.3794898986816406,-3.3794898986816406,4.286213397979736,4.286213397979736,4.286213397979736,-3.2902817726135254,-3.2902817726135254,-3.2902817726135254,4.859094619750977,4.859094619750977,4.859094619750977,-3.305331230163574,-3.305331230163574,-3.305331230163574,4.286740779876709,4.286740779876709,4.286740779876709,-3.290698289871216,-3.290698289871216,-3.290698289871216,4.858862400054932,4.858862400054932,4.858862400054932,-3.305220127105713,-3.305220127105713,-3.305220127105713,4.585023403167725,4.585023403167725,4.585023403167725,-3.138963222503662,-3.138963222503662,-3.138963222503662,3.7212822437286377,3.7212822437286377,3.7212822437286377,-2.6781539916992188,-2.6781539916992188,-2.6781539916992188,3.176276683807373,3.176276683807373,3.176276683807373,-2.515643358230591,-2.515643358230591,-2.515643358230591,2.8501944541931152,2.8501944541931152,2.8501944541931152,-2.238849639892578,-2.238849639892578,-2.238849639892578,5.056557655334473,5.056557655334473,5.056557655334473,-4.181874752044678,-4.181874752044678,-4.181874752044678,5.743357181549072,5.743357181549072,5.743357181549072,-4.272388458251953,-4.272388458251953,-4.272388458251953,5.411291122436523,5.411291122436523,5.411291122436523,-4.307542324066162,-4.307542324066162,-4.307542324066162,5.903480529785156,5.903480529785156,5.903480529785156,-4.321298122406006,-4.321298122406006,-4.321298122406006,5.278411388397217,5.278411388397217,5.278411388397217,-3.2805986404418945,-3.2805986404418945,-3.2805986404418945,4.755738258361816,4.755738258361816,4.755738258361816,-2.9717442989349365,-2.9717442989349365,-2.9717442989349365,4.492350101470947,4.492350101470947,4.492350101470947,-3.480473518371582,-3.480473518371582,-3.480473518371582,4.80979061126709,4.80979061126709,4.80979061126709,-3.3867976665496826,-3.3867976665496826,-3.3867976665496826,4.492812633514404,4.492812633514404,4.492812633514404,-3.4808785915374756,-3.4808785915374756,-3.4808785915374756,4.809344291687012,4.809344291687012,4.809344291687012,-3.386521816253662,-3.386521816253662,-3.386521816253662,4.398387908935547,4.398387908935547,4.398387908935547,-2.9823975563049316,-2.9823975563049316,-2.9823975563049316,3.6775970458984375,3.6775970458984375,3.6775970458984375,-2.565282106399536,-2.565282106399536,-2.565282106399536,3.7453556060791016,3.7453556060791016,3.7453556060791016,-3.0455446243286133,-3.0455446243286133,-3.0455446243286133,3.199361801147461,3.199361801147461,3.199361801147461,-2.559515953063965,-2.559515953063965,-2.559515953063965,5.003849506378174,5.003849506378174,5.003849506378174,-4.172881126403809,-4.172881126403809,-4.172881126403809,5.767913818359375,5.767913818359375,5.767913818359375,-4.289607048034668,-4.289607048034668,-4.289607048034668,5.298067092895508,5.298067092895508,5.298067092895508,-4.241615295410156,-4.241615295410156,-4.241615295410156,6.1808247566223145,6.1808247566223145,6.1808247566223145,-4.415201187133789,-4.415201187133789,-4.415201187133789,4.764008045196533,4.764008045196533,4.764008045196533,-3.0174875259399414,-3.0174875259399414,-3.0174875259399414,4.917935848236084,4.917935848236084,4.917935848236084,-3.1117489337921143,-3.1117489337921143,-3.1117489337921143,5.294018745422363,5.294018745422363,5.294018745422363,-3.3873229026794434,-3.3873229026794434,-3.3873229026794434,5.294012069702148,5.294012069702148,5.294012069702148,-3.3872969150543213,-3.3872969150543213,-3.3872969150543213,4.242092132568359,4.242092132568359,4.242092132568359,-3.388033866882324,-3.388033866882324,-3.388033866882324,4.232716083526611,4.232716083526611,4.232716083526611,-3.503413438796997,-3.503413438796997,-3.503413438796997,2.3567728996276855,2.3567728996276855,2.3567728996276855,-2.1056981086730957,-2.1056981086730957,-2.1056981086730957,2.207159996032715,2.207159996032715,2.207159996032715,-1.7744319438934326,-1.7744319438934326,-1.7744319438934326,4.854135513305664,4.854135513305664,4.854135513305664,-4.2469563484191895,-4.2469563484191895,-4.2469563484191895,6.2620368003845215,6.2620368003845215,6.2620368003845215,-4.608563423156738,-4.608563423156738,-4.608563423156738,5.091195583343506,5.091195583343506,5.091195583343506,-4.335585117340088,-4.335585117340088,-4.335585117340088,6.343782901763916,6.343782901763916,6.343782901763916,-4.661584377288818,-4.661584377288818,-4.661584377288818,5.277948379516602,5.277948379516602,5.277948379516602,-3.331851005554199,-3.331851005554199,-3.331851005554199,3.6460888385772705,3.6460888385772705,3.6460888385772705,-2.8328006267547607,-2.8328006267547607,-2.8328006267547607,4.242568492889404,4.242568492889404,4.242568492889404,-3.388516664505005,-3.388516664505005,-3.388516664505005,4.233126640319824,4.233126640319824,4.233126640319824,-3.5038259029388428,-3.5038259029388428,-3.5038259029388428,2.3575592041015625,2.3575592041015625,2.3575592041015625,-2.1065471172332764,-2.1065471172332764,-2.1065471172332764,2.207024097442627,2.207024097442627,2.207024097442627,-1.7742726802825928,-1.7742726802825928,-1.7742726802825928,4.854393482208252,4.854393482208252,4.854393482208252,-4.247123718261719,-4.247123718261719,-4.247123718261719,6.262457370758057,6.262457370758057,6.262457370758057,-4.60885763168335,-4.60885763168335,-4.60885763168335,5.091132640838623,5.091132640838623,5.091132640838623,-4.335536479949951,-4.335536479949951,-4.335536479949951,6.3442888259887695,6.3442888259887695,6.3442888259887695,-4.661922454833984,-4.661922454833984,-4.661922454833984,5.277599811553955,5.277599811553955,5.277599811553955,-3.331745147705078,-3.331745147705078,-3.331745147705078,3.6464216709136963,3.6464216709136963,3.6464216709136963,-2.833162784576416,-2.833162784576416,-2.833162784576416,4.439616680145264,4.439616680145264,4.439616680145264,-3.3183741569519043,-3.3183741569519043,-3.3183741569519043,5.129086494445801,5.129086494445801,5.129086494445801,-3.4996821880340576,-3.4996821880340576,-3.4996821880340576,5.753468036651611,5.753468036651611,5.753468036651611,-4.561678886413574,-4.561678886413574,-4.561678886413574,6.172801494598389,6.172801494598389,6.172801494598389,-4.437459945678711,-4.437459945678711,-4.437459945678711,5.386976718902588,5.386976718902588,5.386976718902588,-4.325286388397217,-4.325286388397217,-4.325286388397217,6.008088111877441,6.008088111877441,6.008088111877441,-4.239564418792725,-4.239564418792725,-4.239564418792725,4.151479721069336,4.151479721069336,4.151479721069336,-2.841183662414551,-2.841183662414551,-2.841183662414551,4.578620433807373,4.578620433807373,4.578620433807373,-3.37791109085083,-3.37791109085083,-3.37791109085083,5.495920658111572,5.495920658111572,5.495920658111572,-4.3432440757751465,-4.3432440757751465,-4.3432440757751465,6.084941387176514,6.084941387176514,6.084941387176514,-4.344616413116455,-4.344616413116455,-4.344616413116455,4.688101291656494,4.688101291656494,4.688101291656494,-4.000515937805176,-4.000515937805176,-4.000515937805176,6.034477233886719,6.034477233886719,6.034477233886719,-4.267226219177246,-4.267226219177246,-4.267226219177246,3.3760831356048584,3.3760831356048584,3.3760831356048584,-2.250220775604248,-2.250220775604248,-2.250220775604248,2.521313190460205,2.521313190460205,2.521313190460205,-1.795458197593689,-1.795458197593689,-1.795458197593689,-4.320981025695801,-4.320981025695801,-4.320981025695801,3.4119207859039307,3.4119207859039307,3.4119207859039307,-4.106422424316406,-4.106422424316406,-4.106422424316406,3.221452236175537,3.221452236175537,3.221452236175537,5.89193058013916,5.89193058013916,5.89193058013916,-4.3625617027282715,-4.3625617027282715,-4.3625617027282715,4.887964248657227,4.887964248657227,4.887964248657227,-4.073724746704102,-4.073724746704102,-4.073724746704102,6.184765338897705,6.184765338897705,6.184765338897705,-4.417020320892334,-4.417020320892334,-4.417020320892334,5.2803497314453125,5.2803497314453125,5.2803497314453125,-4.182784557342529,-4.182784557342529,-4.182784557342529],\"width\":2},\"mode\":\"lines\",\"name\":\" edges\",\"text\":[\"Value: 5.705371379852295\",\"Value: 5.705371379852295\",\"Value: 5.705371379852295\",\"Value: -3.5771431922912598\",\"Value: -3.5771431922912598\",\"Value: -3.5771431922912598\",\"Value: 5.262665748596191\",\"Value: 5.262665748596191\",\"Value: 5.262665748596191\",\"Value: -3.3794898986816406\",\"Value: -3.3794898986816406\",\"Value: -3.3794898986816406\",\"Value: 4.286213397979736\",\"Value: 4.286213397979736\",\"Value: 4.286213397979736\",\"Value: -3.2902817726135254\",\"Value: -3.2902817726135254\",\"Value: -3.2902817726135254\",\"Value: 4.859094619750977\",\"Value: 4.859094619750977\",\"Value: 4.859094619750977\",\"Value: -3.305331230163574\",\"Value: -3.305331230163574\",\"Value: -3.305331230163574\",\"Value: 4.286740779876709\",\"Value: 4.286740779876709\",\"Value: 4.286740779876709\",\"Value: -3.290698289871216\",\"Value: -3.290698289871216\",\"Value: -3.290698289871216\",\"Value: 4.858862400054932\",\"Value: 4.858862400054932\",\"Value: 4.858862400054932\",\"Value: -3.305220127105713\",\"Value: -3.305220127105713\",\"Value: -3.305220127105713\",\"Value: 4.585023403167725\",\"Value: 4.585023403167725\",\"Value: 4.585023403167725\",\"Value: -3.138963222503662\",\"Value: -3.138963222503662\",\"Value: -3.138963222503662\",\"Value: 3.7212822437286377\",\"Value: 3.7212822437286377\",\"Value: 3.7212822437286377\",\"Value: -2.6781539916992188\",\"Value: -2.6781539916992188\",\"Value: -2.6781539916992188\",\"Value: 3.176276683807373\",\"Value: 3.176276683807373\",\"Value: 3.176276683807373\",\"Value: -2.515643358230591\",\"Value: -2.515643358230591\",\"Value: -2.515643358230591\",\"Value: 2.8501944541931152\",\"Value: 2.8501944541931152\",\"Value: 2.8501944541931152\",\"Value: -2.238849639892578\",\"Value: -2.238849639892578\",\"Value: -2.238849639892578\",\"Value: 5.056557655334473\",\"Value: 5.056557655334473\",\"Value: 5.056557655334473\",\"Value: -4.181874752044678\",\"Value: -4.181874752044678\",\"Value: -4.181874752044678\",\"Value: 5.743357181549072\",\"Value: 5.743357181549072\",\"Value: 5.743357181549072\",\"Value: -4.272388458251953\",\"Value: -4.272388458251953\",\"Value: -4.272388458251953\",\"Value: 5.411291122436523\",\"Value: 5.411291122436523\",\"Value: 5.411291122436523\",\"Value: -4.307542324066162\",\"Value: -4.307542324066162\",\"Value: -4.307542324066162\",\"Value: 5.903480529785156\",\"Value: 5.903480529785156\",\"Value: 5.903480529785156\",\"Value: -4.321298122406006\",\"Value: -4.321298122406006\",\"Value: -4.321298122406006\",\"Value: 5.278411388397217\",\"Value: 5.278411388397217\",\"Value: 5.278411388397217\",\"Value: -3.2805986404418945\",\"Value: -3.2805986404418945\",\"Value: -3.2805986404418945\",\"Value: 4.755738258361816\",\"Value: 4.755738258361816\",\"Value: 4.755738258361816\",\"Value: -2.9717442989349365\",\"Value: -2.9717442989349365\",\"Value: -2.9717442989349365\",\"Value: 4.492350101470947\",\"Value: 4.492350101470947\",\"Value: 4.492350101470947\",\"Value: -3.480473518371582\",\"Value: -3.480473518371582\",\"Value: -3.480473518371582\",\"Value: 4.80979061126709\",\"Value: 4.80979061126709\",\"Value: 4.80979061126709\",\"Value: -3.3867976665496826\",\"Value: -3.3867976665496826\",\"Value: -3.3867976665496826\",\"Value: 4.492812633514404\",\"Value: 4.492812633514404\",\"Value: 4.492812633514404\",\"Value: -3.4808785915374756\",\"Value: -3.4808785915374756\",\"Value: -3.4808785915374756\",\"Value: 4.809344291687012\",\"Value: 4.809344291687012\",\"Value: 4.809344291687012\",\"Value: -3.386521816253662\",\"Value: -3.386521816253662\",\"Value: -3.386521816253662\",\"Value: 4.398387908935547\",\"Value: 4.398387908935547\",\"Value: 4.398387908935547\",\"Value: -2.9823975563049316\",\"Value: -2.9823975563049316\",\"Value: -2.9823975563049316\",\"Value: 3.6775970458984375\",\"Value: 3.6775970458984375\",\"Value: 3.6775970458984375\",\"Value: -2.565282106399536\",\"Value: -2.565282106399536\",\"Value: -2.565282106399536\",\"Value: 3.7453556060791016\",\"Value: 3.7453556060791016\",\"Value: 3.7453556060791016\",\"Value: -3.0455446243286133\",\"Value: -3.0455446243286133\",\"Value: -3.0455446243286133\",\"Value: 3.199361801147461\",\"Value: 3.199361801147461\",\"Value: 3.199361801147461\",\"Value: -2.559515953063965\",\"Value: -2.559515953063965\",\"Value: -2.559515953063965\",\"Value: 5.003849506378174\",\"Value: 5.003849506378174\",\"Value: 5.003849506378174\",\"Value: -4.172881126403809\",\"Value: -4.172881126403809\",\"Value: -4.172881126403809\",\"Value: 5.767913818359375\",\"Value: 5.767913818359375\",\"Value: 5.767913818359375\",\"Value: -4.289607048034668\",\"Value: -4.289607048034668\",\"Value: -4.289607048034668\",\"Value: 5.298067092895508\",\"Value: 5.298067092895508\",\"Value: 5.298067092895508\",\"Value: -4.241615295410156\",\"Value: -4.241615295410156\",\"Value: -4.241615295410156\",\"Value: 6.1808247566223145\",\"Value: 6.1808247566223145\",\"Value: 6.1808247566223145\",\"Value: -4.415201187133789\",\"Value: -4.415201187133789\",\"Value: -4.415201187133789\",\"Value: 4.764008045196533\",\"Value: 4.764008045196533\",\"Value: 4.764008045196533\",\"Value: -3.0174875259399414\",\"Value: -3.0174875259399414\",\"Value: -3.0174875259399414\",\"Value: 4.917935848236084\",\"Value: 4.917935848236084\",\"Value: 4.917935848236084\",\"Value: -3.1117489337921143\",\"Value: -3.1117489337921143\",\"Value: -3.1117489337921143\",\"Value: 5.294018745422363\",\"Value: 5.294018745422363\",\"Value: 5.294018745422363\",\"Value: -3.3873229026794434\",\"Value: -3.3873229026794434\",\"Value: -3.3873229026794434\",\"Value: 5.294012069702148\",\"Value: 5.294012069702148\",\"Value: 5.294012069702148\",\"Value: -3.3872969150543213\",\"Value: -3.3872969150543213\",\"Value: -3.3872969150543213\",\"Value: 4.242092132568359\",\"Value: 4.242092132568359\",\"Value: 4.242092132568359\",\"Value: -3.388033866882324\",\"Value: -3.388033866882324\",\"Value: -3.388033866882324\",\"Value: 4.232716083526611\",\"Value: 4.232716083526611\",\"Value: 4.232716083526611\",\"Value: -3.503413438796997\",\"Value: -3.503413438796997\",\"Value: -3.503413438796997\",\"Value: 2.3567728996276855\",\"Value: 2.3567728996276855\",\"Value: 2.3567728996276855\",\"Value: -2.1056981086730957\",\"Value: -2.1056981086730957\",\"Value: -2.1056981086730957\",\"Value: 2.207159996032715\",\"Value: 2.207159996032715\",\"Value: 2.207159996032715\",\"Value: -1.7744319438934326\",\"Value: -1.7744319438934326\",\"Value: -1.7744319438934326\",\"Value: 4.854135513305664\",\"Value: 4.854135513305664\",\"Value: 4.854135513305664\",\"Value: -4.2469563484191895\",\"Value: -4.2469563484191895\",\"Value: -4.2469563484191895\",\"Value: 6.2620368003845215\",\"Value: 6.2620368003845215\",\"Value: 6.2620368003845215\",\"Value: -4.608563423156738\",\"Value: -4.608563423156738\",\"Value: -4.608563423156738\",\"Value: 5.091195583343506\",\"Value: 5.091195583343506\",\"Value: 5.091195583343506\",\"Value: -4.335585117340088\",\"Value: -4.335585117340088\",\"Value: -4.335585117340088\",\"Value: 6.343782901763916\",\"Value: 6.343782901763916\",\"Value: 6.343782901763916\",\"Value: -4.661584377288818\",\"Value: -4.661584377288818\",\"Value: -4.661584377288818\",\"Value: 5.277948379516602\",\"Value: 5.277948379516602\",\"Value: 5.277948379516602\",\"Value: -3.331851005554199\",\"Value: -3.331851005554199\",\"Value: -3.331851005554199\",\"Value: 3.6460888385772705\",\"Value: 3.6460888385772705\",\"Value: 3.6460888385772705\",\"Value: -2.8328006267547607\",\"Value: -2.8328006267547607\",\"Value: -2.8328006267547607\",\"Value: 4.242568492889404\",\"Value: 4.242568492889404\",\"Value: 4.242568492889404\",\"Value: -3.388516664505005\",\"Value: -3.388516664505005\",\"Value: -3.388516664505005\",\"Value: 4.233126640319824\",\"Value: 4.233126640319824\",\"Value: 4.233126640319824\",\"Value: -3.5038259029388428\",\"Value: -3.5038259029388428\",\"Value: -3.5038259029388428\",\"Value: 2.3575592041015625\",\"Value: 2.3575592041015625\",\"Value: 2.3575592041015625\",\"Value: -2.1065471172332764\",\"Value: -2.1065471172332764\",\"Value: -2.1065471172332764\",\"Value: 2.207024097442627\",\"Value: 2.207024097442627\",\"Value: 2.207024097442627\",\"Value: -1.7742726802825928\",\"Value: -1.7742726802825928\",\"Value: -1.7742726802825928\",\"Value: 4.854393482208252\",\"Value: 4.854393482208252\",\"Value: 4.854393482208252\",\"Value: -4.247123718261719\",\"Value: -4.247123718261719\",\"Value: -4.247123718261719\",\"Value: 6.262457370758057\",\"Value: 6.262457370758057\",\"Value: 6.262457370758057\",\"Value: -4.60885763168335\",\"Value: -4.60885763168335\",\"Value: -4.60885763168335\",\"Value: 5.091132640838623\",\"Value: 5.091132640838623\",\"Value: 5.091132640838623\",\"Value: -4.335536479949951\",\"Value: -4.335536479949951\",\"Value: -4.335536479949951\",\"Value: 6.3442888259887695\",\"Value: 6.3442888259887695\",\"Value: 6.3442888259887695\",\"Value: -4.661922454833984\",\"Value: -4.661922454833984\",\"Value: -4.661922454833984\",\"Value: 5.277599811553955\",\"Value: 5.277599811553955\",\"Value: 5.277599811553955\",\"Value: -3.331745147705078\",\"Value: -3.331745147705078\",\"Value: -3.331745147705078\",\"Value: 3.6464216709136963\",\"Value: 3.6464216709136963\",\"Value: 3.6464216709136963\",\"Value: -2.833162784576416\",\"Value: -2.833162784576416\",\"Value: -2.833162784576416\",\"Value: 4.439616680145264\",\"Value: 4.439616680145264\",\"Value: 4.439616680145264\",\"Value: -3.3183741569519043\",\"Value: -3.3183741569519043\",\"Value: -3.3183741569519043\",\"Value: 5.129086494445801\",\"Value: 5.129086494445801\",\"Value: 5.129086494445801\",\"Value: -3.4996821880340576\",\"Value: -3.4996821880340576\",\"Value: -3.4996821880340576\",\"Value: 5.753468036651611\",\"Value: 5.753468036651611\",\"Value: 5.753468036651611\",\"Value: -4.561678886413574\",\"Value: -4.561678886413574\",\"Value: -4.561678886413574\",\"Value: 6.172801494598389\",\"Value: 6.172801494598389\",\"Value: 6.172801494598389\",\"Value: -4.437459945678711\",\"Value: -4.437459945678711\",\"Value: -4.437459945678711\",\"Value: 5.386976718902588\",\"Value: 5.386976718902588\",\"Value: 5.386976718902588\",\"Value: -4.325286388397217\",\"Value: -4.325286388397217\",\"Value: -4.325286388397217\",\"Value: 6.008088111877441\",\"Value: 6.008088111877441\",\"Value: 6.008088111877441\",\"Value: -4.239564418792725\",\"Value: -4.239564418792725\",\"Value: -4.239564418792725\",\"Value: 4.151479721069336\",\"Value: 4.151479721069336\",\"Value: 4.151479721069336\",\"Value: -2.841183662414551\",\"Value: -2.841183662414551\",\"Value: -2.841183662414551\",\"Value: 4.578620433807373\",\"Value: 4.578620433807373\",\"Value: 4.578620433807373\",\"Value: -3.37791109085083\",\"Value: -3.37791109085083\",\"Value: -3.37791109085083\",\"Value: 5.495920658111572\",\"Value: 5.495920658111572\",\"Value: 5.495920658111572\",\"Value: -4.3432440757751465\",\"Value: -4.3432440757751465\",\"Value: -4.3432440757751465\",\"Value: 6.084941387176514\",\"Value: 6.084941387176514\",\"Value: 6.084941387176514\",\"Value: -4.344616413116455\",\"Value: -4.344616413116455\",\"Value: -4.344616413116455\",\"Value: 4.688101291656494\",\"Value: 4.688101291656494\",\"Value: 4.688101291656494\",\"Value: -4.000515937805176\",\"Value: -4.000515937805176\",\"Value: -4.000515937805176\",\"Value: 6.034477233886719\",\"Value: 6.034477233886719\",\"Value: 6.034477233886719\",\"Value: -4.267226219177246\",\"Value: -4.267226219177246\",\"Value: -4.267226219177246\",\"Value: 3.3760831356048584\",\"Value: 3.3760831356048584\",\"Value: 3.3760831356048584\",\"Value: -2.250220775604248\",\"Value: -2.250220775604248\",\"Value: -2.250220775604248\",\"Value: 2.521313190460205\",\"Value: 2.521313190460205\",\"Value: 2.521313190460205\",\"Value: -1.795458197593689\",\"Value: -1.795458197593689\",\"Value: -1.795458197593689\",\"Value: -4.320981025695801\",\"Value: -4.320981025695801\",\"Value: -4.320981025695801\",\"Value: 3.4119207859039307\",\"Value: 3.4119207859039307\",\"Value: 3.4119207859039307\",\"Value: -4.106422424316406\",\"Value: -4.106422424316406\",\"Value: -4.106422424316406\",\"Value: 3.221452236175537\",\"Value: 3.221452236175537\",\"Value: 3.221452236175537\",\"Value: 5.89193058013916\",\"Value: 5.89193058013916\",\"Value: 5.89193058013916\",\"Value: -4.3625617027282715\",\"Value: -4.3625617027282715\",\"Value: -4.3625617027282715\",\"Value: 4.887964248657227\",\"Value: 4.887964248657227\",\"Value: 4.887964248657227\",\"Value: -4.073724746704102\",\"Value: -4.073724746704102\",\"Value: -4.073724746704102\",\"Value: 6.184765338897705\",\"Value: 6.184765338897705\",\"Value: 6.184765338897705\",\"Value: -4.417020320892334\",\"Value: -4.417020320892334\",\"Value: -4.417020320892334\",\"Value: 5.2803497314453125\",\"Value: 5.2803497314453125\",\"Value: 5.2803497314453125\",\"Value: -4.182784557342529\",\"Value: -4.182784557342529\",\"Value: -4.182784557342529\"],\"x\":[333.0,468.0,null,468.0,333.0,null],\"y\":[377.0,364.0,null,364.0,377.0,null],\"z\":[175.0,1355.0,null,1355.0,175.0,null],\"type\":\"scatter3d\"},{\"line\":{\"color\":\"black\",\"width\":2},\"mode\":\"lines\",\"x\":[146,572,572,146,146],\"y\":[276,276,689,689,276],\"z\":[584,584,584,584,584],\"type\":\"scatter3d\"},{\"line\":{\"color\":\"black\",\"width\":2},\"mode\":\"lines\",\"x\":[146,572,572,146,146],\"y\":[276,276,689,689,276],\"z\":[1014,1014,1014,1014,1014],\"type\":\"scatter3d\"},{\"line\":{\"color\":\"black\",\"width\":2},\"mode\":\"lines\",\"x\":[146,146],\"y\":[276,276],\"z\":[584,1014],\"type\":\"scatter3d\"},{\"line\":{\"color\":\"black\",\"width\":2},\"mode\":\"lines\",\"x\":[572,572],\"y\":[276,276],\"z\":[584,1014],\"type\":\"scatter3d\"},{\"line\":{\"color\":\"black\",\"width\":2},\"mode\":\"lines\",\"x\":[572,572],\"y\":[689,689],\"z\":[584,1014],\"type\":\"scatter3d\"},{\"line\":{\"color\":\"black\",\"width\":2},\"mode\":\"lines\",\"x\":[146,146],\"y\":[689,689],\"z\":[584,1014],\"type\":\"scatter3d\"},{\"line\":{\"color\":\"black\"},\"mode\":\"lines\",\"x\":[359,719],\"y\":[0,199],\"z\":[1346,1346],\"type\":\"scatter3d\"},{\"line\":{\"color\":\"black\"},\"mode\":\"lines\",\"x\":[359,719],\"y\":[0,199],\"z\":[1833,1833],\"type\":\"scatter3d\"},{\"line\":{\"color\":\"black\"},\"mode\":\"lines\",\"x\":[359,359],\"y\":[0,0],\"z\":[1346,1833],\"type\":\"scatter3d\"},{\"line\":{\"color\":\"black\"},\"mode\":\"lines\",\"x\":[719,719],\"y\":[199,619],\"z\":[1346,1346],\"type\":\"scatter3d\"},{\"line\":{\"color\":\"black\"},\"mode\":\"lines\",\"x\":[719,719],\"y\":[199,619],\"z\":[1833,1833],\"type\":\"scatter3d\"},{\"line\":{\"color\":\"black\"},\"mode\":\"lines\",\"x\":[719,719],\"y\":[199,199],\"z\":[1346,1833],\"type\":\"scatter3d\"},{\"line\":{\"color\":\"black\"},\"mode\":\"lines\",\"x\":[719,359],\"y\":[619,816],\"z\":[1346,1346],\"type\":\"scatter3d\"},{\"line\":{\"color\":\"black\"},\"mode\":\"lines\",\"x\":[719,359],\"y\":[619,816],\"z\":[1833,1833],\"type\":\"scatter3d\"},{\"line\":{\"color\":\"black\"},\"mode\":\"lines\",\"x\":[719,719],\"y\":[619,619],\"z\":[1346,1833],\"type\":\"scatter3d\"},{\"line\":{\"color\":\"black\"},\"mode\":\"lines\",\"x\":[359,0],\"y\":[816,612],\"z\":[1346,1346],\"type\":\"scatter3d\"},{\"line\":{\"color\":\"black\"},\"mode\":\"lines\",\"x\":[359,0],\"y\":[816,612],\"z\":[1833,1833],\"type\":\"scatter3d\"},{\"line\":{\"color\":\"black\"},\"mode\":\"lines\",\"x\":[359,359],\"y\":[816,816],\"z\":[1346,1833],\"type\":\"scatter3d\"},{\"line\":{\"color\":\"black\"},\"mode\":\"lines\",\"x\":[0,0],\"y\":[612,199],\"z\":[1346,1346],\"type\":\"scatter3d\"},{\"line\":{\"color\":\"black\"},\"mode\":\"lines\",\"x\":[0,0],\"y\":[612,199],\"z\":[1833,1833],\"type\":\"scatter3d\"},{\"line\":{\"color\":\"black\"},\"mode\":\"lines\",\"x\":[0,0],\"y\":[612,612],\"z\":[1346,1833],\"type\":\"scatter3d\"},{\"line\":{\"color\":\"black\"},\"mode\":\"lines\",\"x\":[0,359],\"y\":[199,0],\"z\":[1346,1346],\"type\":\"scatter3d\"},{\"line\":{\"color\":\"black\"},\"mode\":\"lines\",\"x\":[0,359],\"y\":[199,0],\"z\":[1833,1833],\"type\":\"scatter3d\"},{\"line\":{\"color\":\"black\"},\"mode\":\"lines\",\"x\":[0,0],\"y\":[199,199],\"z\":[1346,1833],\"type\":\"scatter3d\"},{\"line\":{\"color\":\"black\"},\"mode\":\"lines\",\"x\":[359,719],\"y\":[0,199],\"z\":[0,0],\"type\":\"scatter3d\"},{\"line\":{\"color\":\"black\"},\"mode\":\"lines\",\"x\":[359,719],\"y\":[0,199],\"z\":[166,166],\"type\":\"scatter3d\"},{\"line\":{\"color\":\"black\"},\"mode\":\"lines\",\"x\":[359,359],\"y\":[0,0],\"z\":[0,166],\"type\":\"scatter3d\"},{\"line\":{\"color\":\"black\"},\"mode\":\"lines\",\"x\":[719,719],\"y\":[199,619],\"z\":[0,0],\"type\":\"scatter3d\"},{\"line\":{\"color\":\"black\"},\"mode\":\"lines\",\"x\":[719,719],\"y\":[199,619],\"z\":[166,166],\"type\":\"scatter3d\"},{\"line\":{\"color\":\"black\"},\"mode\":\"lines\",\"x\":[719,719],\"y\":[199,199],\"z\":[0,166],\"type\":\"scatter3d\"},{\"line\":{\"color\":\"black\"},\"mode\":\"lines\",\"x\":[719,359],\"y\":[619,816],\"z\":[0,0],\"type\":\"scatter3d\"},{\"line\":{\"color\":\"black\"},\"mode\":\"lines\",\"x\":[719,359],\"y\":[619,816],\"z\":[166,166],\"type\":\"scatter3d\"},{\"line\":{\"color\":\"black\"},\"mode\":\"lines\",\"x\":[719,719],\"y\":[619,619],\"z\":[0,166],\"type\":\"scatter3d\"},{\"line\":{\"color\":\"black\"},\"mode\":\"lines\",\"x\":[359,0],\"y\":[816,612],\"z\":[0,0],\"type\":\"scatter3d\"},{\"line\":{\"color\":\"black\"},\"mode\":\"lines\",\"x\":[359,0],\"y\":[816,612],\"z\":[166,166],\"type\":\"scatter3d\"},{\"line\":{\"color\":\"black\"},\"mode\":\"lines\",\"x\":[359,359],\"y\":[816,816],\"z\":[0,166],\"type\":\"scatter3d\"},{\"line\":{\"color\":\"black\"},\"mode\":\"lines\",\"x\":[0,0],\"y\":[612,199],\"z\":[0,0],\"type\":\"scatter3d\"},{\"line\":{\"color\":\"black\"},\"mode\":\"lines\",\"x\":[0,0],\"y\":[612,199],\"z\":[166,166],\"type\":\"scatter3d\"},{\"line\":{\"color\":\"black\"},\"mode\":\"lines\",\"x\":[0,0],\"y\":[612,612],\"z\":[0,166],\"type\":\"scatter3d\"},{\"line\":{\"color\":\"black\"},\"mode\":\"lines\",\"x\":[0,359],\"y\":[199,0],\"z\":[0,0],\"type\":\"scatter3d\"},{\"line\":{\"color\":\"black\"},\"mode\":\"lines\",\"x\":[0,359],\"y\":[199,0],\"z\":[166,166],\"type\":\"scatter3d\"},{\"line\":{\"color\":\"black\"},\"mode\":\"lines\",\"x\":[0,0],\"y\":[199,199],\"z\":[0,166],\"type\":\"scatter3d\"}],                        {\"height\":800,\"hoverlabel\":{\"font\":{\"family\":\"Droid sans, monospace\"}},\"legend\":{\"itemsizing\":\"constant\",\"title\":{\"text\":\"Legend\"},\"tracegroupgap\":1},\"margin\":{\"b\":100,\"l\":200,\"r\":50,\"t\":0},\"scene\":{\"aspectmode\":\"manual\",\"aspectratio\":{\"x\":1.0,\"y\":1.0,\"z\":1.0},\"camera\":{\"center\":{\"x\":0.0,\"y\":-0.1,\"z\":-0.01},\"eye\":{\"x\":-2.0,\"y\":0.2,\"z\":0.087},\"up\":{\"x\":0.0,\"y\":20,\"z\":0.0}},\"xaxis\":{\"backgroundcolor\":\"white\",\"gridcolor\":\"lightgray\",\"nticks\":10,\"showbackground\":true,\"showticklabels\":true,\"tickfont\":{\"size\":12},\"ticktext\":[-108,-54,0,54,108],\"tickvals\":[0.0,180.0,360.0,540.0,720.0],\"title\":{\"font\":{\"size\":12},\"text\":\"Horizontal Axis (cm)\"}},\"yaxis\":{\"backgroundcolor\":\"white\",\"gridcolor\":\"lightgray\",\"nticks\":10,\"showbackground\":true,\"showticklabels\":true,\"tickfont\":{\"size\":12},\"ticktext\":[-145,-117,-90,-63,-36,-8,18,45,72,100],\"tickvals\":[0.0,90.77777777777777,181.55555555555554,272.3333333333333,363.1111111111111,453.88888888888886,544.6666666666666,635.4444444444443,726.2222222222222,817.0],\"title\":{\"font\":{\"size\":12},\"text\":\"Vertical Axis (cm)\"}},\"zaxis\":{\"backgroundcolor\":\"white\",\"gridcolor\":\"lightgray\",\"nticks\":10,\"showbackground\":true,\"showticklabels\":true,\"tickfont\":{\"size\":12},\"ticktext\":[-240,-178,-117,-56,4,65,126,187,248,310],\"tickvals\":[0.0,203.77777777777777,407.55555555555554,611.3333333333333,815.1111111111111,1018.8888888888889,1222.6666666666665,1426.4444444444443,1630.2222222222222,1834.0],\"title\":{\"font\":{\"size\":12},\"text\":\"Beam Axis (cm)\"}}},\"showlegend\":false,\"template\":{\"data\":{\"barpolar\":[{\"marker\":{\"line\":{\"color\":\"#E5ECF6\",\"width\":0.5},\"pattern\":{\"fillmode\":\"overlay\",\"size\":10,\"solidity\":0.2}},\"type\":\"barpolar\"}],\"bar\":[{\"error_x\":{\"color\":\"#2a3f5f\"},\"error_y\":{\"color\":\"#2a3f5f\"},\"marker\":{\"line\":{\"color\":\"#E5ECF6\",\"width\":0.5},\"pattern\":{\"fillmode\":\"overlay\",\"size\":10,\"solidity\":0.2}},\"type\":\"bar\"}],\"carpet\":[{\"aaxis\":{\"endlinecolor\":\"#2a3f5f\",\"gridcolor\":\"white\",\"linecolor\":\"white\",\"minorgridcolor\":\"white\",\"startlinecolor\":\"#2a3f5f\"},\"baxis\":{\"endlinecolor\":\"#2a3f5f\",\"gridcolor\":\"white\",\"linecolor\":\"white\",\"minorgridcolor\":\"white\",\"startlinecolor\":\"#2a3f5f\"},\"type\":\"carpet\"}],\"choropleth\":[{\"colorbar\":{\"outlinewidth\":0,\"ticks\":\"\"},\"type\":\"choropleth\"}],\"contourcarpet\":[{\"colorbar\":{\"outlinewidth\":0,\"ticks\":\"\"},\"type\":\"contourcarpet\"}],\"contour\":[{\"colorbar\":{\"outlinewidth\":0,\"ticks\":\"\"},\"colorscale\":[[0.0,\"#0d0887\"],[0.1111111111111111,\"#46039f\"],[0.2222222222222222,\"#7201a8\"],[0.3333333333333333,\"#9c179e\"],[0.4444444444444444,\"#bd3786\"],[0.5555555555555556,\"#d8576b\"],[0.6666666666666666,\"#ed7953\"],[0.7777777777777778,\"#fb9f3a\"],[0.8888888888888888,\"#fdca26\"],[1.0,\"#f0f921\"]],\"type\":\"contour\"}],\"heatmapgl\":[{\"colorbar\":{\"outlinewidth\":0,\"ticks\":\"\"},\"colorscale\":[[0.0,\"#0d0887\"],[0.1111111111111111,\"#46039f\"],[0.2222222222222222,\"#7201a8\"],[0.3333333333333333,\"#9c179e\"],[0.4444444444444444,\"#bd3786\"],[0.5555555555555556,\"#d8576b\"],[0.6666666666666666,\"#ed7953\"],[0.7777777777777778,\"#fb9f3a\"],[0.8888888888888888,\"#fdca26\"],[1.0,\"#f0f921\"]],\"type\":\"heatmapgl\"}],\"heatmap\":[{\"colorbar\":{\"outlinewidth\":0,\"ticks\":\"\"},\"colorscale\":[[0.0,\"#0d0887\"],[0.1111111111111111,\"#46039f\"],[0.2222222222222222,\"#7201a8\"],[0.3333333333333333,\"#9c179e\"],[0.4444444444444444,\"#bd3786\"],[0.5555555555555556,\"#d8576b\"],[0.6666666666666666,\"#ed7953\"],[0.7777777777777778,\"#fb9f3a\"],[0.8888888888888888,\"#fdca26\"],[1.0,\"#f0f921\"]],\"type\":\"heatmap\"}],\"histogram2dcontour\":[{\"colorbar\":{\"outlinewidth\":0,\"ticks\":\"\"},\"colorscale\":[[0.0,\"#0d0887\"],[0.1111111111111111,\"#46039f\"],[0.2222222222222222,\"#7201a8\"],[0.3333333333333333,\"#9c179e\"],[0.4444444444444444,\"#bd3786\"],[0.5555555555555556,\"#d8576b\"],[0.6666666666666666,\"#ed7953\"],[0.7777777777777778,\"#fb9f3a\"],[0.8888888888888888,\"#fdca26\"],[1.0,\"#f0f921\"]],\"type\":\"histogram2dcontour\"}],\"histogram2d\":[{\"colorbar\":{\"outlinewidth\":0,\"ticks\":\"\"},\"colorscale\":[[0.0,\"#0d0887\"],[0.1111111111111111,\"#46039f\"],[0.2222222222222222,\"#7201a8\"],[0.3333333333333333,\"#9c179e\"],[0.4444444444444444,\"#bd3786\"],[0.5555555555555556,\"#d8576b\"],[0.6666666666666666,\"#ed7953\"],[0.7777777777777778,\"#fb9f3a\"],[0.8888888888888888,\"#fdca26\"],[1.0,\"#f0f921\"]],\"type\":\"histogram2d\"}],\"histogram\":[{\"marker\":{\"pattern\":{\"fillmode\":\"overlay\",\"size\":10,\"solidity\":0.2}},\"type\":\"histogram\"}],\"mesh3d\":[{\"colorbar\":{\"outlinewidth\":0,\"ticks\":\"\"},\"type\":\"mesh3d\"}],\"parcoords\":[{\"line\":{\"colorbar\":{\"outlinewidth\":0,\"ticks\":\"\"}},\"type\":\"parcoords\"}],\"pie\":[{\"automargin\":true,\"type\":\"pie\"}],\"scatter3d\":[{\"line\":{\"colorbar\":{\"outlinewidth\":0,\"ticks\":\"\"}},\"marker\":{\"colorbar\":{\"outlinewidth\":0,\"ticks\":\"\"}},\"type\":\"scatter3d\"}],\"scattercarpet\":[{\"marker\":{\"colorbar\":{\"outlinewidth\":0,\"ticks\":\"\"}},\"type\":\"scattercarpet\"}],\"scattergeo\":[{\"marker\":{\"colorbar\":{\"outlinewidth\":0,\"ticks\":\"\"}},\"type\":\"scattergeo\"}],\"scattergl\":[{\"marker\":{\"colorbar\":{\"outlinewidth\":0,\"ticks\":\"\"}},\"type\":\"scattergl\"}],\"scattermapbox\":[{\"marker\":{\"colorbar\":{\"outlinewidth\":0,\"ticks\":\"\"}},\"type\":\"scattermapbox\"}],\"scatterpolargl\":[{\"marker\":{\"colorbar\":{\"outlinewidth\":0,\"ticks\":\"\"}},\"type\":\"scatterpolargl\"}],\"scatterpolar\":[{\"marker\":{\"colorbar\":{\"outlinewidth\":0,\"ticks\":\"\"}},\"type\":\"scatterpolar\"}],\"scatter\":[{\"fillpattern\":{\"fillmode\":\"overlay\",\"size\":10,\"solidity\":0.2},\"type\":\"scatter\"}],\"scatterternary\":[{\"marker\":{\"colorbar\":{\"outlinewidth\":0,\"ticks\":\"\"}},\"type\":\"scatterternary\"}],\"surface\":[{\"colorbar\":{\"outlinewidth\":0,\"ticks\":\"\"},\"colorscale\":[[0.0,\"#0d0887\"],[0.1111111111111111,\"#46039f\"],[0.2222222222222222,\"#7201a8\"],[0.3333333333333333,\"#9c179e\"],[0.4444444444444444,\"#bd3786\"],[0.5555555555555556,\"#d8576b\"],[0.6666666666666666,\"#ed7953\"],[0.7777777777777778,\"#fb9f3a\"],[0.8888888888888888,\"#fdca26\"],[1.0,\"#f0f921\"]],\"type\":\"surface\"}],\"table\":[{\"cells\":{\"fill\":{\"color\":\"#EBF0F8\"},\"line\":{\"color\":\"white\"}},\"header\":{\"fill\":{\"color\":\"#C8D4E3\"},\"line\":{\"color\":\"white\"}},\"type\":\"table\"}]},\"layout\":{\"annotationdefaults\":{\"arrowcolor\":\"#2a3f5f\",\"arrowhead\":0,\"arrowwidth\":1},\"autotypenumbers\":\"strict\",\"coloraxis\":{\"colorbar\":{\"outlinewidth\":0,\"ticks\":\"\"}},\"colorscale\":{\"diverging\":[[0,\"#8e0152\"],[0.1,\"#c51b7d\"],[0.2,\"#de77ae\"],[0.3,\"#f1b6da\"],[0.4,\"#fde0ef\"],[0.5,\"#f7f7f7\"],[0.6,\"#e6f5d0\"],[0.7,\"#b8e186\"],[0.8,\"#7fbc41\"],[0.9,\"#4d9221\"],[1,\"#276419\"]],\"sequential\":[[0.0,\"#0d0887\"],[0.1111111111111111,\"#46039f\"],[0.2222222222222222,\"#7201a8\"],[0.3333333333333333,\"#9c179e\"],[0.4444444444444444,\"#bd3786\"],[0.5555555555555556,\"#d8576b\"],[0.6666666666666666,\"#ed7953\"],[0.7777777777777778,\"#fb9f3a\"],[0.8888888888888888,\"#fdca26\"],[1.0,\"#f0f921\"]],\"sequentialminus\":[[0.0,\"#0d0887\"],[0.1111111111111111,\"#46039f\"],[0.2222222222222222,\"#7201a8\"],[0.3333333333333333,\"#9c179e\"],[0.4444444444444444,\"#bd3786\"],[0.5555555555555556,\"#d8576b\"],[0.6666666666666666,\"#ed7953\"],[0.7777777777777778,\"#fb9f3a\"],[0.8888888888888888,\"#fdca26\"],[1.0,\"#f0f921\"]]},\"colorway\":[\"#636efa\",\"#EF553B\",\"#00cc96\",\"#ab63fa\",\"#FFA15A\",\"#19d3f3\",\"#FF6692\",\"#B6E880\",\"#FF97FF\",\"#FECB52\"],\"font\":{\"color\":\"#2a3f5f\"},\"geo\":{\"bgcolor\":\"white\",\"lakecolor\":\"white\",\"landcolor\":\"#E5ECF6\",\"showlakes\":true,\"showland\":true,\"subunitcolor\":\"white\"},\"hoverlabel\":{\"align\":\"left\"},\"hovermode\":\"closest\",\"mapbox\":{\"style\":\"light\"},\"paper_bgcolor\":\"white\",\"plot_bgcolor\":\"#E5ECF6\",\"polar\":{\"angularaxis\":{\"gridcolor\":\"white\",\"linecolor\":\"white\",\"ticks\":\"\"},\"bgcolor\":\"#E5ECF6\",\"radialaxis\":{\"gridcolor\":\"white\",\"linecolor\":\"white\",\"ticks\":\"\"}},\"scene\":{\"xaxis\":{\"backgroundcolor\":\"#E5ECF6\",\"gridcolor\":\"white\",\"gridwidth\":2,\"linecolor\":\"white\",\"showbackground\":true,\"ticks\":\"\",\"zerolinecolor\":\"white\"},\"yaxis\":{\"backgroundcolor\":\"#E5ECF6\",\"gridcolor\":\"white\",\"gridwidth\":2,\"linecolor\":\"white\",\"showbackground\":true,\"ticks\":\"\",\"zerolinecolor\":\"white\"},\"zaxis\":{\"backgroundcolor\":\"#E5ECF6\",\"gridcolor\":\"white\",\"gridwidth\":2,\"linecolor\":\"white\",\"showbackground\":true,\"ticks\":\"\",\"zerolinecolor\":\"white\"}},\"shapedefaults\":{\"line\":{\"color\":\"#2a3f5f\"}},\"ternary\":{\"aaxis\":{\"gridcolor\":\"white\",\"linecolor\":\"white\",\"ticks\":\"\"},\"baxis\":{\"gridcolor\":\"white\",\"linecolor\":\"white\",\"ticks\":\"\"},\"bgcolor\":\"#E5ECF6\",\"caxis\":{\"gridcolor\":\"white\",\"linecolor\":\"white\",\"ticks\":\"\"}},\"title\":{\"x\":0.05},\"xaxis\":{\"automargin\":true,\"gridcolor\":\"white\",\"linecolor\":\"white\",\"ticks\":\"\",\"title\":{\"standoff\":15},\"zerolinecolor\":\"white\",\"zerolinewidth\":2},\"yaxis\":{\"automargin\":true,\"gridcolor\":\"white\",\"linecolor\":\"white\",\"ticks\":\"\",\"title\":{\"standoff\":15},\"zerolinecolor\":\"white\",\"zerolinewidth\":2}}},\"width\":800,\"scene2\":{\"aspectmode\":\"manual\",\"aspectratio\":{\"x\":1.0,\"y\":1.0,\"z\":1.0},\"camera\":{\"center\":{\"x\":0.0,\"y\":-0.1,\"z\":-0.01},\"eye\":{\"x\":-2.0,\"y\":1.0,\"z\":-0.01},\"up\":{\"x\":0.0,\"y\":1.0,\"z\":0.0}},\"xaxis\":{\"backgroundcolor\":\"white\",\"gridcolor\":\"lightgray\",\"nticks\":10,\"showbackground\":true,\"showticklabels\":true,\"tickfont\":{\"size\":14},\"title\":{\"font\":{\"size\":20},\"text\":\"x [pixel]\"}},\"yaxis\":{\"backgroundcolor\":\"white\",\"gridcolor\":\"lightgray\",\"nticks\":10,\"showbackground\":true,\"showticklabels\":true,\"tickfont\":{\"size\":14},\"title\":{\"font\":{\"size\":20},\"text\":\"y [pixel]\"}},\"zaxis\":{\"backgroundcolor\":\"white\",\"gridcolor\":\"lightgray\",\"nticks\":10,\"showbackground\":true,\"showticklabels\":true,\"tickfont\":{\"size\":14},\"title\":{\"font\":{\"size\":20},\"text\":\"z [pixel]\"}}},\"scene3\":{\"aspectmode\":\"manual\",\"aspectratio\":{\"x\":1.0,\"y\":1.0,\"z\":1.0},\"camera\":{\"center\":{\"x\":0.0,\"y\":-0.1,\"z\":-0.01},\"eye\":{\"x\":-2.0,\"y\":1.0,\"z\":-0.01},\"up\":{\"x\":0.0,\"y\":1.0,\"z\":0.0}},\"xaxis\":{\"backgroundcolor\":\"white\",\"gridcolor\":\"lightgray\",\"nticks\":10,\"showbackground\":true,\"showticklabels\":true,\"tickfont\":{\"size\":14},\"title\":{\"font\":{\"size\":20},\"text\":\"x [pixel]\"}},\"yaxis\":{\"backgroundcolor\":\"white\",\"gridcolor\":\"lightgray\",\"nticks\":10,\"showbackground\":true,\"showticklabels\":true,\"tickfont\":{\"size\":14},\"title\":{\"font\":{\"size\":20},\"text\":\"y [pixel]\"}},\"zaxis\":{\"backgroundcolor\":\"white\",\"gridcolor\":\"lightgray\",\"nticks\":10,\"showbackground\":true,\"showticklabels\":true,\"tickfont\":{\"size\":14},\"title\":{\"font\":{\"size\":20},\"text\":\"z [pixel]\"}}}},                        {\"responsive\": true}                    ).then(function(){\n",
       "                            \n",
       "var gd = document.getElementById('28f6b007-ba43-43a6-a772-9be7b7e50115');\n",
       "var x = new MutationObserver(function (mutations, observer) {{\n",
       "        var display = window.getComputedStyle(gd).display;\n",
       "        if (!display || display === 'none') {{\n",
       "            console.log([gd, 'removed!']);\n",
       "            Plotly.purge(gd);\n",
       "            observer.disconnect();\n",
       "        }}\n",
       "}});\n",
       "\n",
       "// Listen for the removal of the full notebook cells\n",
       "var notebookContainer = gd.closest('#notebook-container');\n",
       "if (notebookContainer) {{\n",
       "    x.observe(notebookContainer, {childList: true});\n",
       "}}\n",
       "\n",
       "// Listen for the clearing of the current output cell\n",
       "var outputEl = gd.closest('.output');\n",
       "if (outputEl) {{\n",
       "    x.observe(outputEl, {childList: true});\n",
       "}}\n",
       "\n",
       "                        })                };                });            </script>        </div>"
      ]
     },
     "metadata": {},
     "output_type": "display_data"
    }
   ],
   "source": [
    "from spine.utils.globals import GROUP_COL\n",
    "from spine.vis.network import network_topology\n",
    "from spine.vis.layout import HIGH_CONTRAST_COLORS, layout3d\n",
    "\n",
    "from plotly import graph_objs as go\n",
    "from plotly.offline import iplot\n",
    "import numpy as np\n",
    "\n",
    "trace = []\n",
    "CB_color_cycle = ['#332288','#117733', '#44AA99', '#88CCEE', \n",
    "                      '#EA4040','#0B57CB','#D79ABB','#7D7A7A','#D0B58F']\n",
    "#CC6677',\n",
    "mask = data['edge_pred'][:,1] > data['edge_pred'][:,0]\n",
    "edge_index = data['edge_index'][mask]\n",
    "print(edge_index)\n",
    "\n",
    "trace+= network_topology(data['data'], data['clusts'], edge_index,clust_labels=data['group_pred'],\n",
    "                       edge_labels=data['edge_pred'],\n",
    "                       markersize=2, colorscale=CB_color_cycle,\n",
    "                       name='')\n",
    "\n",
    "\n",
    "fig = go.Figure(data=trace,layout=layout3d())\n",
    "# Define the original ticks and their corresponding new values\n",
    "original_xticks = np.linspace(0,xnum,5)\n",
    "new_xticks = np.linspace(xmin,xmax,5)/10 #make mm to cm\n",
    "original_yticks = np.linspace(0,ynum,10)\n",
    "new_yticks = np.linspace(ymin,ymax,10)/10 #make mm to cm\n",
    "original_zticks = np.linspace(0,znum,10)\n",
    "new_zticks = np.linspace(zmin,zmax,10)/10 #make mm to cm\n",
    "\n",
    "fig.update_layout(\n",
    "    scene=dict(\n",
    "        xaxis=dict(\n",
    "            tickvals=original_xticks,  # Positions of the original ticks\n",
    "            ticktext=[int(val) for val in new_xticks],  # New labels for each tick\n",
    "            title=dict(\n",
    "                text=\"Horizontal Axis (cm)\",\n",
    "                font=dict(\n",
    "                    size=12)  # Adjust this value to move the label further away\n",
    "            ),\n",
    "            tickfont=dict(size=12), \n",
    "        ),\n",
    "        yaxis=dict(\n",
    "            tickvals=original_yticks,  # Positions of the original ticks\n",
    "            ticktext=[int(val) for val in new_yticks],  # New labels for each tick\n",
    "            title=dict(\n",
    "                text=\"Vertical Axis (cm)\",\n",
    "                font=dict(\n",
    "                    size=12)  # Adjust this value to move the label further away\n",
    "            ),\n",
    "            tickfont=dict(size=12),\n",
    "        ),\n",
    "        zaxis=dict(\n",
    "            tickvals=original_zticks,  # Positions of the original ticks\n",
    "            ticktext=[int(val) for val in new_zticks],  # New labels for each tick\n",
    "            title=dict(\n",
    "                text=\"Beam Axis (cm)\",\n",
    "                font=dict(\n",
    "                    size=12)  # Adjust this value to move the label further away\n",
    "            ),\n",
    "            tickfont=dict(size=12),\n",
    "        )\n",
    "    ),\n",
    "    margin=dict(l=200, r=50, b=100, t=0),\n",
    "    scene_camera=dict(\n",
    "        eye=dict(x=-2, y=0.2, z=0.087),  # Adjust eye position\n",
    "        up=dict(x=-0, y=20, z=0)  # Set the 'y' axis as the vertical axis\n",
    "    )\n",
    ")\n",
    "\n",
    "x_2x2min=-639.31\n",
    "x_2x2max=639.31\n",
    "y_2x2min=-620.76\n",
    "y_2x2max=620.76\n",
    "z_2x2min=-645.38\n",
    "z_2x2max=645.38\n",
    "\n",
    "add_3d_box(fig,x_min=find_num_index(x_2x2min,xmin,xmax,xnum),x_max=find_num_index(x_2x2max,xmin,xmax,xnum),\n",
    "           y_min=find_num_index(y_2x2min,ymin,ymax,ynum),y_max=find_num_index(y_2x2max,ymin,ymax,ynum),\n",
    "           z_min=find_num_index(z_2x2min,zmin,zmax,znum),z_max=find_num_index(z_2x2max,zmin,zmax,znum))\n",
    "draw_minerva(fig)\n",
    "fig.update_layout(showlegend=False)\n",
    "iplot(fig)"
   ]
  },
  {
   "cell_type": "code",
   "execution_count": 12,
   "id": "1c863b74-5c6c-4ebb-a765-d13c9f0dceb7",
   "metadata": {},
   "outputs": [],
   "source": [
    "def find_num_index(value, min_val, max_val, num):\n",
    "    \"\"\"\n",
    "    Find the index in the num space given a value in the min/max space.\n",
    "    \n",
    "    Parameters:\n",
    "    - value: The value in the min/max space.\n",
    "    - min_val: The minimum value of the min/max space.\n",
    "    - max_val: The maximum value of the min/max space.\n",
    "    - num: The number of intervals or steps in the num space.\n",
    "    \n",
    "    Returns:\n",
    "    - The corresponding index in the num space.\n",
    "    \"\"\"\n",
    "    if value < min_val or value > max_val:\n",
    "        raise ValueError(\"Value is out of bounds for the given min and max values.\")\n",
    "    \n",
    "    num_index = int(((value - min_val) / (max_val - min_val)) * (num - 1))\n",
    "    return num_index"
   ]
  },
  {
   "cell_type": "code",
   "execution_count": 9,
   "id": "773c8310-2bea-44ae-ba08-3bc0f2a55f1f",
   "metadata": {},
   "outputs": [],
   "source": [
    "def find_num_indices(values, min_val, max_val, num):\n",
    "    \"\"\"\n",
    "    Find the indices in the num space for a list of values in the min/max space.\n",
    "    \n",
    "    Parameters:\n",
    "    - values: A list of values in the min/max space.\n",
    "    - min_val: The minimum value of the min/max space.\n",
    "    - max_val: The maximum value of the min/max space.\n",
    "    - num: The number of intervals or steps in the num space.\n",
    "    \n",
    "    Returns:\n",
    "    - A list of indices in the num space.\n",
    "    \"\"\"\n",
    "    if any(value < min_val or value > max_val for value in values):\n",
    "        raise ValueError(\"Some values are out of bounds for the given min and max values.\")\n",
    "    \n",
    "    num_indices = [\n",
    "        int(((value - min_val) / (max_val - min_val)) * (num - 1))\n",
    "        for value in values\n",
    "    ]\n",
    "    return num_indices"
   ]
  },
  {
   "cell_type": "code",
   "execution_count": 10,
   "id": "1cfd75b8-eb28-47d2-a0e6-38f1f8617106",
   "metadata": {},
   "outputs": [],
   "source": [
    "import plotly.graph_objects as go\n",
    "import numpy as np\n",
    "\n",
    "def add_3d_box(fig, x_min=-639.31, x_max=639.31, y_min=-620.76, y_max=620.76, z_min=-645.38, z_max=645.38):\n",
    "    # Define the vertices of the box\n",
    "    r = np.array([\n",
    "        [x_min, y_min, z_min],\n",
    "        [x_max, y_min, z_min],\n",
    "        [x_max, y_max, z_min],\n",
    "        [x_min, y_max, z_min],\n",
    "        [x_min, y_min, z_max],\n",
    "        [x_max, y_min, z_max],\n",
    "        [x_max, y_max, z_max],\n",
    "        [x_min, y_max, z_max]\n",
    "    ])\n",
    "\n",
    "    # Define the edges of the box\n",
    "    edges = [\n",
    "        [r[0], r[1], r[2], r[3], r[0]],  # Bottom face\n",
    "        [r[4], r[5], r[6], r[7], r[4]],  # Top face\n",
    "        [r[0], r[4]],  # Vertical edges\n",
    "        [r[1], r[5]],\n",
    "        [r[2], r[6]],\n",
    "        [r[3], r[7]]\n",
    "    ]\n",
    "\n",
    "    # Create lines for the box\n",
    "    for edge in edges:\n",
    "        x_vals, y_vals, z_vals = zip(*edge)\n",
    "        fig.add_trace(go.Scatter3d(\n",
    "            x=x_vals, y=y_vals, z=z_vals,\n",
    "            mode='lines',\n",
    "            line=dict(color='black', width=2),\n",
    "        ))"
   ]
  },
  {
   "cell_type": "code",
   "execution_count": 11,
   "id": "b9e07b3b-1c05-4a00-9908-a9c2400bab81",
   "metadata": {},
   "outputs": [],
   "source": [
    "def draw_minerva(fig,x_min =-1080.0, y_min = -1450.0, z_min = -2400.0,\n",
    "                x_max = 1080.0, y_max = 1000.0, z_max = 3100.0,\n",
    "                x_num=720 , y_num=817, z_num=1834):\n",
    "    x_base = [0, 1080, 1080, 0, -1080, -1080]\n",
    "    x_base = find_num_indices(x_base, x_min, x_max, x_num)\n",
    "    shift = 2450\n",
    "    y_base = [-3900 + shift, -3300 + shift, -2040 + shift, -1450 + shift, -2060 + shift, -3300 + shift]\n",
    "    y_base = find_num_indices(y_base, y_min, y_max, y_num)\n",
    "    \n",
    "    z_base = {\n",
    "        \"ds\": [1640, 3100],\n",
    "        \"us\": [-2400, -1900]\n",
    "    }\n",
    "    z_base[\"ds\"] = find_num_indices(z_base[\"ds\"], z_min, z_max, z_num)\n",
    "    z_base[\"us\"] = find_num_indices(z_base[\"us\"], z_min, z_max, z_num)\n",
    "\n",
    "\n",
    "    # Plot the cylindrical hexagon\n",
    "    for j in [\"ds\", \"us\"]:\n",
    "        for i in range(len(x_base)):\n",
    "            # Bottom face\n",
    "            fig.add_trace(go.Scatter3d(\n",
    "                x=[x_base[i], x_base[(i + 1) % len(x_base)]],\n",
    "                y=[y_base[i], y_base[(i + 1) % len(x_base)]],\n",
    "                z=[z_base[j][0], z_base[j][0]],\n",
    "                mode='lines',\n",
    "                line=dict(color='black'),\n",
    "            ))\n",
    "\n",
    "            # Top face\n",
    "            fig.add_trace(go.Scatter3d(\n",
    "                x=[x_base[i], x_base[(i + 1) % len(x_base)]],\n",
    "                y=[y_base[i], y_base[(i + 1) % len(x_base)]],\n",
    "                z=[z_base[j][1], z_base[j][1]],\n",
    "                mode='lines',\n",
    "                line=dict(color='black'),\n",
    "            ))\n",
    "\n",
    "            # Vertical edges\n",
    "            fig.add_trace(go.Scatter3d(\n",
    "                x=[x_base[i], x_base[i]],\n",
    "                y=[y_base[i], y_base[i]],\n",
    "                z=[z_base[j][0], z_base[j][1]],\n",
    "                mode='lines',\n",
    "                line=dict(color='black'),\n",
    "            ))\n",
    "\n",
    "        "
   ]
  },
  {
   "cell_type": "code",
   "execution_count": 35,
   "id": "ef224683-6150-4cdc-ad77-73213e83cd3d",
   "metadata": {},
   "outputs": [
    {
     "name": "stdout",
     "output_type": "stream",
     "text": [
      "Help on function layout3d in module spine.vis.layout:\n",
      "\n",
      "layout3d(ranges=None, meta=None, detector=None, titles=None, detector_coords=False, backgroundcolor='white', gridcolor='lightgray', width=800, height=800, showlegend=True, camera=None, aspectmode='manual', aspectratio=None, dark=False, margin=None, hoverlabel=None, **kwargs)\n",
      "    Produces plotly.graph_objs.Layout object for a certain format.\n",
      "    \n",
      "    Parameters\n",
      "    ----------\n",
      "    ranges : np.ndarray, optional\n",
      "        (3, 2) or (N, 3) Array used to specify the plot region in (x,y,z)\n",
      "        directions. If not specified (None), the range will be set to include\n",
      "        all points. Alternatively can be an array of shape (3,2) specifying\n",
      "        (x,y,z) axis (min,max) range for a display, or simply a list of points\n",
      "        with shape (N,3+) where [:,0],[:,1],[:,2] correspond to (x,y,z) values\n",
      "        and the plotting region is decided by measuring the min,max range in\n",
      "        each coordinates. This last option is useful if one wants to define\n",
      "        the region based on a set of points that is not same as what's plotted.\n",
      "    meta : Meta, optional\n",
      "        Metadata information used to infer the full image range\n",
      "    detector : str\n",
      "        Name of a recognized detector to get the geometry from\n",
      "    titles : List[str], optional\n",
      "        (3) Array of strings for (x,y,z) axis title respectively\n",
      "    detector_coords : bool, default False\n",
      "        Whether or not the coordinates being drawn are in detector_coordinates\n",
      "        or pixel IDs\n",
      "    backgroundcolor : Union[str, int], default 'white'\n",
      "        Color of the layout background\n",
      "    gridcolor : Union[str, int], default 'lightgray'\n",
      "        Color of the grid\n",
      "    width : int, default 900\n",
      "        Width of the layout in pixels\n",
      "    height : int, default 900\n",
      "        Height of the layout in pixels\n",
      "    showlegend : bool, default True\n",
      "        Whether or not to show the image legend\n",
      "    aspectmode : str, default manual\n",
      "        Plotly aspect mode. If manual, will define it based on the ranges\n",
      "    aspectratio : dict, optional\n",
      "        Plotly dictionary which specifies the aspect ratio for x, y an d z\n",
      "    dark : bool, default False\n",
      "        Dark layout\n",
      "    margin : dict, optional\n",
      "        Specifies the margin in each subplot\n",
      "    hoverlabel : dict, optional\n",
      "        Specifies the style hovertext labels\n",
      "    **kwargs : dict, optional\n",
      "        List of additional arguments to pass to plotly.graph_objs.Layout\n",
      "    \n",
      "    Results\n",
      "    -------\n",
      "    plotly.graph_objs.Layout\n",
      "        Object that can be given to plotly.graph_objs.Figure for visualization\n",
      "        (together with traces)\n",
      "\n"
     ]
    }
   ],
   "source": [
    "help(layout3d)"
   ]
  },
  {
   "cell_type": "code",
   "execution_count": 12,
   "id": "da286c4b-d5e6-4d86-9281-6503ad276195",
   "metadata": {},
   "outputs": [
    {
     "ename": "TypeError",
     "evalue": "'<' not supported between instances of 'str' and 'int'",
     "output_type": "error",
     "traceback": [
      "\u001b[0;31m---------------------------------------------------------------------------\u001b[0m",
      "\u001b[0;31mTypeError\u001b[0m                                 Traceback (most recent call last)",
      "Cell \u001b[0;32mIn[12], line 11\u001b[0m\n\u001b[1;32m      8\u001b[0m entry\u001b[38;5;241m=\u001b[39m\u001b[38;5;241m3\u001b[39m\n\u001b[1;32m      9\u001b[0m trace \u001b[38;5;241m=\u001b[39m []\n\u001b[0;32m---> 11\u001b[0m edge_index \u001b[38;5;241m=\u001b[39m \u001b[43mdata\u001b[49m\u001b[43m[\u001b[49m\u001b[38;5;124;43m'\u001b[39;49m\u001b[38;5;124;43medge_index\u001b[39;49m\u001b[38;5;124;43m'\u001b[39;49m\u001b[43m]\u001b[49m[entry][data[\u001b[38;5;124m'\u001b[39m\u001b[38;5;124medge_pred\u001b[39m\u001b[38;5;124m'\u001b[39m][entry][:,\u001b[38;5;241m1\u001b[39m] \u001b[38;5;241m>\u001b[39m data[\u001b[38;5;124m'\u001b[39m\u001b[38;5;124medge_pred\u001b[39m\u001b[38;5;124m'\u001b[39m][entry][:,\u001b[38;5;241m0\u001b[39m]]\n\u001b[1;32m     12\u001b[0m edge_index \u001b[38;5;241m=\u001b[39m []\n\u001b[1;32m     13\u001b[0m \u001b[38;5;28mprint\u001b[39m(edge_index)\n",
      "File \u001b[0;32m/n/holystore01/LABS/iaifi_lab/Users/jmicallef/spine/spine/io/read/base.py:76\u001b[0m, in \u001b[0;36mReaderBase.__getitem__\u001b[0;34m(self, idx)\u001b[0m\n\u001b[1;32m     63\u001b[0m \u001b[38;5;28;01mdef\u001b[39;00m \u001b[38;5;21m__getitem__\u001b[39m(\u001b[38;5;28mself\u001b[39m, idx):\n\u001b[1;32m     64\u001b[0m \u001b[38;5;250m    \u001b[39m\u001b[38;5;124;03m\"\"\"Returns a specific entry in the file.\u001b[39;00m\n\u001b[1;32m     65\u001b[0m \n\u001b[1;32m     66\u001b[0m \u001b[38;5;124;03m    Parameters\u001b[39;00m\n\u001b[0;32m   (...)\u001b[0m\n\u001b[1;32m     74\u001b[0m \u001b[38;5;124;03m        One entry-worth of data from the loaded files\u001b[39;00m\n\u001b[1;32m     75\u001b[0m \u001b[38;5;124;03m    \"\"\"\u001b[39;00m\n\u001b[0;32m---> 76\u001b[0m     \u001b[38;5;28;01mreturn\u001b[39;00m \u001b[38;5;28;43mself\u001b[39;49m\u001b[38;5;241;43m.\u001b[39;49m\u001b[43mget\u001b[49m\u001b[43m(\u001b[49m\u001b[43midx\u001b[49m\u001b[43m)\u001b[49m\n",
      "File \u001b[0;32m/n/holystore01/LABS/iaifi_lab/Users/jmicallef/spine/spine/io/read/hdf5.py:130\u001b[0m, in \u001b[0;36mHDF5Reader.get\u001b[0;34m(self, idx)\u001b[0m\n\u001b[1;32m    117\u001b[0m \u001b[38;5;250m\u001b[39m\u001b[38;5;124;03m\"\"\"Returns a specific entry in the file.\u001b[39;00m\n\u001b[1;32m    118\u001b[0m \n\u001b[1;32m    119\u001b[0m \u001b[38;5;124;03mParameters\u001b[39;00m\n\u001b[0;32m   (...)\u001b[0m\n\u001b[1;32m    127\u001b[0m \u001b[38;5;124;03m    Ditionary of data products corresponding to one event\u001b[39;00m\n\u001b[1;32m    128\u001b[0m \u001b[38;5;124;03m\"\"\"\u001b[39;00m\n\u001b[1;32m    129\u001b[0m \u001b[38;5;66;03m# Get the appropriate entry index\u001b[39;00m\n\u001b[0;32m--> 130\u001b[0m \u001b[38;5;28;01massert\u001b[39;00m \u001b[43midx\u001b[49m\u001b[43m \u001b[49m\u001b[38;5;241;43m<\u001b[39;49m\u001b[43m \u001b[49m\u001b[38;5;28;43mlen\u001b[39;49m\u001b[43m(\u001b[49m\u001b[38;5;28;43mself\u001b[39;49m\u001b[38;5;241;43m.\u001b[39;49m\u001b[43mentry_index\u001b[49m\u001b[43m)\u001b[49m\n\u001b[1;32m    131\u001b[0m file_idx  \u001b[38;5;241m=\u001b[39m \u001b[38;5;28mself\u001b[39m\u001b[38;5;241m.\u001b[39mget_file_index(idx)\n\u001b[1;32m    132\u001b[0m entry_idx \u001b[38;5;241m=\u001b[39m \u001b[38;5;28mself\u001b[39m\u001b[38;5;241m.\u001b[39mget_file_entry_index(idx)\n",
      "\u001b[0;31mTypeError\u001b[0m: '<' not supported between instances of 'str' and 'int'"
     ]
    }
   ],
   "source": [
    "\n",
    "\n",
    "#### HAS ENTRY!!!!!! #######\n",
    "from spine.utils.globals import GROUP_COL\n",
    "from spine.vis.network import network_topology\n",
    "from spine.vis.layout import HIGH_CONTRAST_COLORS, layout3d\n",
    "\n",
    "from plotly import graph_objs as go\n",
    "from plotly.offline import iplot\n",
    "\n",
    "entry=3\n",
    "trace = []\n",
    "\n",
    "edge_index = data['edge_index'][entry][data['edge_pred'][entry][:,1] > data['edge_pred'][entry][:,0]]\n",
    "edge_index = []\n",
    "print(edge_index)\n",
    "\n",
    "trace+= network_topology(data['data'][entry], data['clusts'][entry], edge_index, clust_labels=data['group_pred'][entry],\n",
    "                       edge_labels=data['edge_pred'][entry],\n",
    "                       markersize=2, cmin=0, cmax=50, colorscale=HIGH_CONTRAST_COLORS,\n",
    "                       name='')\n",
    "\n",
    "fig = go.Figure(data=trace,layout=layout3d(meta=data['meta'][entry]))\n",
    "# Define the original ticks and their corresponding new values\n",
    "original_ticks = [0, 400, 800, 1200, 1600]\n",
    "new_ticks = [0, 4, 8, 12, 16]  # New tick values\n",
    "\n",
    "# Change the x-ticks and labels\n",
    "fig.update_xaxes(\n",
    "    tickvals=original_ticks,  # Positions of the original ticks\n",
    "    ticktext=[str(val) for val in new_ticks]  # New labels for each tick\n",
    ")\n",
    "iplot(fig)"
   ]
  },
  {
   "cell_type": "code",
   "execution_count": null,
   "id": "e871cb3f-56f7-4ed9-a325-2336d93a3b67",
   "metadata": {},
   "outputs": [],
   "source": []
  },
  {
   "cell_type": "code",
   "execution_count": null,
   "id": "c2fd5352-0153-4499-944d-e37dec606a0d",
   "metadata": {},
   "outputs": [],
   "source": [
    "network_topology"
   ]
  },
  {
   "cell_type": "markdown",
   "id": "4fd63549-f770-4f41-8de2-dc3a90da0079",
   "metadata": {},
   "source": [
    "***\n",
    "***\n",
    "## VI. Exercises\n",
    "\n",
    "Here's a few suggestions of things to try out to familirize yourself with the process:\n",
    "- Train uresnet using the provided configuration file. Modify the file to use the `mpvmpr_mini.root` dataset to speed up the process. Check the number of entries in the file and adapt the number of iterations accordingly! Skip the last 30 entries with the `skip_event_list` parameter to keep them for validation\n",
    "- Run the validation using the last 30 entries in the file using the `entry_list` parameter\n",
    "- Try the same process to train grappa_shower (`grappa_shower.cfg` provided) with the `generic_small.root` dataset\n",
    "- Modify `grappa_shower.cfg` to `grappa_shower_val.cfg` to use for validation\n",
    "- Visualize all of the above as you go!\n",
    "- Try this out with your favortite detector! (ICARUS, SBND, 2x2...)"
   ]
  },
  {
   "cell_type": "code",
   "execution_count": null,
   "id": "6aebf6e0-7679-4118-9818-b43ebac0b314",
   "metadata": {},
   "outputs": [],
   "source": []
  }
 ],
 "metadata": {
  "kernelspec": {
   "display_name": "Python 3 (ipykernel)",
   "language": "python",
   "name": "python3"
  },
  "language_info": {
   "codemirror_mode": {
    "name": "ipython",
    "version": 3
   },
   "file_extension": ".py",
   "mimetype": "text/x-python",
   "name": "python",
   "nbconvert_exporter": "python",
   "pygments_lexer": "ipython3",
   "version": "3.8.10"
  }
 },
 "nbformat": 4,
 "nbformat_minor": 5
}
